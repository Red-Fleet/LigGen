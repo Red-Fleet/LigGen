{
 "cells": [
  {
   "cell_type": "code",
   "execution_count": 1,
   "metadata": {},
   "outputs": [],
   "source": [
    "import os\n",
    "from openbabel import openbabel as ob\n",
    "from openbabel import pybel as pb"
   ]
  },
  {
   "cell_type": "code",
   "execution_count": 2,
   "metadata": {},
   "outputs": [],
   "source": [
    "main_ligs = [os.path.join('fragment.mdb', name) for name in os.listdir('fragment.mdb') if name.endswith('mol2')]\n",
    "rotate_ligs = [os.path.join('fragment.mdb', 'rotate', name) for name in os.listdir('fragment.mdb/rotate') if name.endswith('mol2')]"
   ]
  },
  {
   "cell_type": "code",
   "execution_count": 11,
   "metadata": {},
   "outputs": [],
   "source": [
    "def removeStarsFromSmile(smile):\n",
    "    sta = []\n",
    "\n",
    "    for w in smile:\n",
    "        if w != '*':\n",
    "            if w != ')': sta.append(w)\n",
    "            else:\n",
    "                if len(sta) > 0:\n",
    "                    if sta[-1] != '(': sta.append(w)\n",
    "                    else : sta.pop()\n",
    "    return \"\".join(sta)"
   ]
  },
  {
   "cell_type": "code",
   "execution_count": null,
   "metadata": {},
   "outputs": [],
   "source": [
    "smiles_set = set()\n",
    "\n",
    "for name in main_ligs:\n",
    "    print(\"1\")\n",
    "    smiles_set.add(next(pb.readfile('mol2', name)).write('smi'))\n",
    "\n",
    "for name in rotate_ligs:\n",
    "    print(\"2\")\n",
    "    smiles_set.add(next(pb.readfile('mol2', name)).write('smi'))"
   ]
  },
  {
   "cell_type": "code",
   "execution_count": 6,
   "metadata": {},
   "outputs": [
    {
     "data": {
      "text/plain": [
       "1964"
      ]
     },
     "execution_count": 6,
     "metadata": {},
     "output_type": "execute_result"
    }
   ],
   "source": [
    "len(smiles_set)"
   ]
  },
  {
   "cell_type": "code",
   "execution_count": 14,
   "metadata": {},
   "outputs": [],
   "source": [
    "# save file\n",
    "with open(\"ligbuilder_frag_library.txt\", 'w') as f:\n",
    "    for v in smiles_set:\n",
    "        f.write(removeStarsFromSmile(v.split('\\t')[0]) + \"\\n\")"
   ]
  },
  {
   "cell_type": "code",
   "execution_count": null,
   "metadata": {},
   "outputs": [],
   "source": []
  }
 ],
 "metadata": {
  "kernelspec": {
   "display_name": "base",
   "language": "python",
   "name": "python3"
  },
  "language_info": {
   "codemirror_mode": {
    "name": "ipython",
    "version": 3
   },
   "file_extension": ".py",
   "mimetype": "text/x-python",
   "name": "python",
   "nbconvert_exporter": "python",
   "pygments_lexer": "ipython3",
   "version": "3.9.18"
  }
 },
 "nbformat": 4,
 "nbformat_minor": 2
}
