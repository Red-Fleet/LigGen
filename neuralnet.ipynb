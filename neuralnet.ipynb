{
 "cells": [
  {
   "cell_type": "code",
   "execution_count": 41,
   "metadata": {},
   "outputs": [],
   "source": [
    "import torch\n",
    "from torch import nn\n",
    "from torch.utils.data import DataLoader, Dataset, random_split\n",
    "import os\n",
    "from SmilesPE.pretokenizer import atomwise_tokenizer\n",
    "from os import path as p\n",
    "import torchtext\n",
    "from collections import OrderedDict\n",
    "import math\n",
    "import torch.nn.functional as f\n",
    "import torch.optim as optim\n",
    "import numpy as np\n",
    "import matplotlib.pyplot as plt\n",
    "from collections import defaultdict\n"
   ]
  },
  {
   "cell_type": "code",
   "execution_count": 34,
   "metadata": {},
   "outputs": [],
   "source": [
    "START_TOKEN = '<start>'\n",
    "END_TOKEN = '<end>'\n",
    "PAD_TOKEN = '<pad>'\n",
    "UNK_TOKEN = '<unk>'\n",
    "VOCAB_SIZE = 100\n",
    "DEVICE = 'cuda:1' if torch.cuda.is_available() else 'cpu'"
   ]
  },
  {
   "cell_type": "code",
   "execution_count": 42,
   "metadata": {},
   "outputs": [],
   "source": [
    "def getVocab(smiles_dir, max_size=100):\n",
    "    '''max_size should be greater than 4'''\n",
    "    all_toks_dict = defaultdict(int)\n",
    "\n",
    "    for f_name in os.listdir(smiles_dir):\n",
    "        with open(os.path.join(smiles_dir, f_name)) as f:\n",
    "            for line in f:\n",
    "                if 'smile' in line: continue\n",
    "                for tok in atomwise_tokenizer(line.split()[0]):\n",
    "                    all_toks_dict[tok] += 1\n",
    "\n",
    "\n",
    "    x = sorted([(e[0], e[1]) for e in all_toks_dict.items()], key=lambda e:-e[1])[:VOCAB_SIZE-4]\n",
    "    ordered_dict = OrderedDict({e[0]: e[1] for e in x})\n",
    "    special_tokens = [PAD_TOKEN, UNK_TOKEN, START_TOKEN, END_TOKEN]\n",
    "    vocab = torchtext.vocab.vocab(ordered_dict=ordered_dict, specials=special_tokens)\n",
    "    vocab.set_default_index(vocab[UNK_TOKEN])\n",
    "    return vocab"
   ]
  },
  {
   "cell_type": "code",
   "execution_count": 49,
   "metadata": {},
   "outputs": [],
   "source": [
    "# Dataset creation\n",
    "class SmilesDataset(Dataset):\n",
    "    def __init__(self, smiles_dir, vocab, max_len=None): # start and end tokens are added\n",
    "        '''\n",
    "        if vocab is None : getVocab() is used\n",
    "        if max_len is None: take max_len from dataset\n",
    "        if max_len == 'avg': take average length from dataset\n",
    "        '''\n",
    "        self.vocab = vocab\n",
    "\n",
    "        smiles_files = os.listdir(smiles_dir)\n",
    "        # reading smiles from files\n",
    "        tokens = []\n",
    "        for file_name in smiles_files:\n",
    "            with open(p.join(smiles_dir, file_name)) as f:\n",
    "                for l in f:\n",
    "                    if \"smile\" not in l:\n",
    "                        tokens.append(atomwise_tokenizer(l.split()[0]))\n",
    "        \n",
    "        if max_len is None: max_len = max([len(sen) for sen in tokens])\n",
    "        if max_len == 'avg': max_len = int(sum([len(sen) for sen in tokens])/len(tokens))\n",
    "\n",
    "        # stripping\n",
    "        tokens = [sen[: max_len-2] for sen in tokens]\n",
    "\n",
    "        # adding start and end tokens\n",
    "        tokens = [[START_TOKEN] + sen + [END_TOKEN] for sen in tokens]\n",
    "\n",
    "        # padding\n",
    "        tokens = [sen + [PAD_TOKEN]*(max_len-len(sen)) for sen in tokens]\n",
    "\n",
    "        # addention mask false at <pad> tokem, true at non pad token\n",
    "        self.pad_masks = torch.tensor([[PAD_TOKEN==tok for tok in sen] for sen in tokens])\n",
    "\n",
    "        # converting to index\n",
    "        self.data = torch.tensor([self.vocab(sen) for sen in tokens], dtype=torch.long)\n",
    "\n",
    "    def __len__(self):\n",
    "        return len(self.data)\n",
    "\n",
    "    def __getitem__(self, idx):\n",
    "        return {'idx': self.data[idx], 'pad_mask': self.pad_masks[idx]}"
   ]
  },
  {
   "cell_type": "code",
   "execution_count": 50,
   "metadata": {},
   "outputs": [],
   "source": [
    "vocab = getVocab('smiles')"
   ]
  },
  {
   "cell_type": "code",
   "execution_count": 51,
   "metadata": {},
   "outputs": [],
   "source": [
    "dataset = SmilesDataset('smiles', vocab, max_len=100)"
   ]
  },
  {
   "cell_type": "code",
   "execution_count": 17,
   "metadata": {},
   "outputs": [
    {
     "data": {
      "text/plain": [
       "1"
      ]
     },
     "execution_count": 17,
     "metadata": {},
     "output_type": "execute_result"
    }
   ],
   "source": [
    "vocab['<unk>']"
   ]
  },
  {
   "cell_type": "code",
   "execution_count": 52,
   "metadata": {},
   "outputs": [
    {
     "name": "stdout",
     "output_type": "stream",
     "text": [
      "99999\n",
      "199999\n",
      "299999\n",
      "399999\n",
      "499999\n",
      "599999\n",
      "699999\n",
      "799999\n",
      "899999\n",
      "999999\n",
      "1099999\n",
      "1199999\n",
      "1299999\n",
      "1399999\n",
      "1499999\n",
      "1599999\n",
      "1699999\n",
      "1799999\n",
      "1899999\n"
     ]
    }
   ],
   "source": [
    "classes = [0]*100\n",
    "\n",
    "all_x = []\n",
    "for i in range(0, len(dataset)):\n",
    "    if (i+1)%100000 == 0: print(i)\n",
    "    all_x.append(dataset[i]['idx'])"
   ]
  },
  {
   "cell_type": "code",
   "execution_count": 53,
   "metadata": {},
   "outputs": [],
   "source": [
    "all_x = torch.concat(all_x)"
   ]
  },
  {
   "cell_type": "code",
   "execution_count": 54,
   "metadata": {},
   "outputs": [],
   "source": [
    "for i in range(100):\n",
    "    classes[i] = (all_x == i).sum()"
   ]
  },
  {
   "cell_type": "code",
   "execution_count": 60,
   "metadata": {},
   "outputs": [
    {
     "data": {
      "text/plain": [
       "1941411"
      ]
     },
     "execution_count": 60,
     "metadata": {},
     "output_type": "execute_result"
    }
   ],
   "source": [
    "len(dataset)"
   ]
  },
  {
   "cell_type": "code",
   "execution_count": 61,
   "metadata": {},
   "outputs": [],
   "source": [
    "split_ratio = 0.8\n",
    "split_seed = 42\n",
    "train_ds, valid_ds = random_split(dataset, [int(len(dataset)*split_ratio), len(dataset)-int(len(dataset)*split_ratio)], generator=torch.Generator().manual_seed(split_seed))"
   ]
  },
  {
   "cell_type": "markdown",
   "metadata": {},
   "source": [
    "# model"
   ]
  },
  {
   "cell_type": "code",
   "execution_count": 62,
   "metadata": {
    "notebookRunGroups": {
     "groupValue": "2"
    }
   },
   "outputs": [],
   "source": [
    "class PositionalEncoding(nn.Module):\n",
    "\n",
    "    def __init__(self, d_model: int, dropout: float = 0.1, max_len: int = 5000):\n",
    "        super().__init__()\n",
    "        self.dropout = nn.Dropout(p=dropout)\n",
    "\n",
    "        position = torch.arange(max_len).unsqueeze(1)\n",
    "        div_term = torch.exp(torch.arange(0, d_model, 2) * (-math.log(10000.0) / d_model))\n",
    "        pe = torch.zeros(max_len, 1, d_model)\n",
    "        pe[:, 0, 0::2] = torch.sin(position * div_term)\n",
    "        pe[:, 0, 1::2] = torch.cos(position * div_term)\n",
    "        self.register_buffer('pe', pe)\n",
    "\n",
    "    \n",
    "    def forward(self, x):\n",
    "        \"\"\"\n",
    "        Arguments:\n",
    "            x: Tensor, shape ``[batch_size, seq_len, embedding_dim]``\n",
    "        \"\"\"\n",
    "        x = x.transpose(0, 1)\n",
    "        x = x + self.pe[:x.size(0)]\n",
    "        x = x.transpose(0, 1)\n",
    "        return self.dropout(x)\n",
    "\n",
    "\n",
    "class DecoderLayer(nn.Module):\n",
    "    def __init__(self, d_model, nhead, dim_feedforward,  dropout=0.1):\n",
    "        super().__init__()\n",
    "        self.multihead = nn.MultiheadAttention(embed_dim=d_model, \n",
    "                                               num_heads=nhead, \n",
    "                                               dropout=dropout, batch_first=True)\n",
    "        self.dropout1 = nn.Dropout(dropout)\n",
    "        self.norm1 = nn.LayerNorm(d_model)\n",
    "        self.linear1 = nn.Linear(d_model, dim_feedforward)\n",
    "        self.dropout2 = nn.Dropout(dropout)\n",
    "        self.linear2 = nn.Linear(dim_feedforward, d_model)\n",
    "        self.dropout3 = nn.Dropout(dropout)\n",
    "        self.norm2 = nn.LayerNorm(d_model)\n",
    "    \n",
    "    def forward(self, x, attn_mask, pad_mask):\n",
    "        x = x + self.dropout1(self.multihead(x, x, x, key_padding_mask=pad_mask, attn_mask=attn_mask, need_weights=False)[0])\n",
    "        x = self.norm1(x)\n",
    "\n",
    "        x = x + self.dropout3(self.linear2(self.dropout2(self.linear1(x))))\n",
    "        x = self.norm2(x)\n",
    "\n",
    "        return x\n",
    "    \n",
    "class Decoder(nn.Module):\n",
    "    def __init__(self, vocab_size, d_model, nhead, dim_feedforward, num_layers=1, dropout=0.1, max_len=100):\n",
    "        super().__init__()\n",
    "        self.embedding = nn.Embedding(vocab_size, d_model)\n",
    "        self.positional_encoding = PositionalEncoding(d_model=d_model, dropout=dropout, max_len=max_len)\n",
    "        self.decoder_layers = nn.ModuleList([DecoderLayer(d_model, nhead, dim_feedforward) for i in range(num_layers)])\n",
    "        self.linear = nn.Linear(d_model, vocab_size)\n",
    "        \n",
    "    def getDevice(self):\n",
    "        ''' return device of model\n",
    "        '''\n",
    "        device = next(self.parameters()).device\n",
    "\n",
    "        if device.index is None:\n",
    "            return device.type\n",
    "        else:\n",
    "            return device.type + \":\" + str(device.index) \n",
    "\n",
    "    def generate_square_subsequent_mask(self, sz:int) -> torch.Tensor:\n",
    "        r\"\"\"Generate a square causal mask for the sequence.\n",
    "\n",
    "        The masked positions are filled with float('-inf'). Unmasked positions are filled with float(0.0).\n",
    "        device_ordinal = {-1: cpu, 0..inf=>gpu}\n",
    "        \"\"\"\n",
    "        \n",
    "        return torch.triu(\n",
    "            torch.full((sz, sz), float('-inf'), dtype=torch.float, device=self.getDevice()),\n",
    "            diagonal=1,\n",
    "        )\n",
    "\n",
    "\n",
    "    def forward(self, x, pad_mask=None):\n",
    "        ''' x = batch * seq_len\n",
    "            pad_mask = batch*seq_len\n",
    "        '''\n",
    "        seq_len = x.shape[1]\n",
    "        attn_mask = self.generate_square_subsequent_mask(seq_len)\n",
    "        x = self.embedding(x)\n",
    "        x = self.positional_encoding(x)\n",
    "        for layer in self.decoder_layers:\n",
    "            x = layer(x, attn_mask=attn_mask, pad_mask=pad_mask)\n",
    "\n",
    "        x = self.linear(x)\n",
    "        return x\n",
    "    \n",
    "    def generateSmiles(self, batch_size, vocab, max_len=100):\n",
    "        x = torch.full((batch_size, 1), vocab[START_TOKEN]).to(self.getDevice())\n",
    "        \n",
    "        for i in range(1, max_len+1):\n",
    "            out = self.forward(x)[:, -1]\n",
    "            out = f.softmax(out, dim=1)\n",
    "            out = torch.multinomial(out, 1)\n",
    "            x = torch.cat((x, out), dim=1)\n",
    "        \n",
    "        x = x.detach().cpu().tolist()\n",
    "        # converting idx to smiles\n",
    "        results = []\n",
    "        for i in range(batch_size):\n",
    "            sentance = vocab.lookup_tokens(x[i])\n",
    "            \n",
    "            new_sentance = [] # removing special chars\n",
    "            for i in range(1, len(sentance)):\n",
    "                e = sentance[i]\n",
    "                if e==END_TOKEN: break\n",
    "                if e==START_TOKEN or e==PAD_TOKEN or e==UNK_TOKEN:\n",
    "                    new_sentance = ['invalid']\n",
    "                    break\n",
    "                \n",
    "                new_sentance.append(e)\n",
    "            \n",
    "            results.append(new_sentance)\n",
    "        \n",
    "        return results\n",
    "    \n"
   ]
  },
  {
   "cell_type": "code",
   "execution_count": 64,
   "metadata": {},
   "outputs": [],
   "source": [
    "model = Decoder(vocab_size=VOCAB_SIZE, \n",
    "        d_model=300, \n",
    "        nhead=10, \n",
    "        dim_feedforward=50, \n",
    "        num_layers=5, \n",
    "        dropout=0.1, \n",
    "        max_len=100)\n",
    "\n",
    "model = model.to(DEVICE)\n",
    "batch_size = 512\n",
    "\n",
    "train_loader = DataLoader(train_ds, batch_size)\n",
    "val_loader = DataLoader(valid_ds, batch_size)\n",
    "\n",
    "criterion = nn.CrossEntropyLoss()\n",
    "optimizer = optim.Adam(model.parameters(), lr=0.0005)\n",
    "\n",
    "train_result = []\n",
    "val_result = []\n",
    "epoch  = 10"
   ]
  },
  {
   "cell_type": "code",
   "execution_count": 68,
   "metadata": {},
   "outputs": [
    {
     "name": "stdout",
     "output_type": "stream",
     "text": [
      "Fc1c(cc(Oc2nc3CCN(C23)CC(=O)CC=C)ccc1)C\n",
      "c1(ccc2c(OC3C(CCN2C(=O)O)CCC3)c1Cl)Cl\n",
      "O(c1c(OC)cc(OC(=O)OC)cc1)Cc1ccccc1\n",
      "N(c1[nH]c2cc(cc2c1)C)c1c(Nc2cc(ccc2)c1)C(=O)NC1=NCCc2ccccc2OC1\n",
      "[C@]12(c3cc4c5[n+](O1)c(CCC5)Ccc4)(c(OC[C@H]1O[C@@H]2C(=C)NCC1)cccc3)C\n",
      "n1(c(=O)n2c(c(c3n(-c4c(nc3ccccc4)c3ccccc4)C)CCc2)c2cnns1)c1ccccc1\n",
      "c1ccc2c(c1)C(=O)c1n(c2[C@@H]2NS(=O)(=O)C)cccn1C\n",
      "c1(C/C=C/CC(=O)c2c[nH]c3nccn3c2C)cncc1S(=O)(=O)c1c(cc(C2C2)c2c1c(cnc2Cl)Cl)ccccc1\n",
      "S(c1cc(C(=O)O)ccc1)C(=O)O/C=C/c1ccccc1\n",
      "Cc1[nH]c2cc(F)ccc2n1c1cccc(NC(=O)N2CC(C2=O)Nc2cc(OC(F)(F)F)nc3)ccn1\n"
     ]
    }
   ],
   "source": [
    "smiles = model.generateSmiles(batch_size=10, vocab=vocab)\n",
    "\n",
    "for e in smiles:\n",
    "    smile = \"\".join(e)\n",
    "    print(smile)\n",
    "    "
   ]
  },
  {
   "cell_type": "code",
   "execution_count": 28,
   "metadata": {},
   "outputs": [],
   "source": [
    "optimizer = optim.Adam(model.parameters(), lr=0.0001)\n",
    "batch_size = 512"
   ]
  },
  {
   "cell_type": "code",
   "execution_count": 67,
   "metadata": {},
   "outputs": [
    {
     "name": "stderr",
     "output_type": "stream",
     "text": [
      "/home/arul/.conda/envs/anshul/lib/python3.12/site-packages/torch/nn/functional.py:5109: UserWarning: Support for mismatched key_padding_mask and attn_mask is deprecated. Use same type for both instead.\n",
      "  warnings.warn(\n"
     ]
    },
    {
     "ename": "KeyboardInterrupt",
     "evalue": "",
     "output_type": "error",
     "traceback": [
      "\u001b[0;31m---------------------------------------------------------------------------\u001b[0m",
      "\u001b[0;31mKeyboardInterrupt\u001b[0m                         Traceback (most recent call last)",
      "Cell \u001b[0;32mIn[67], line 2\u001b[0m\n\u001b[1;32m      1\u001b[0m \u001b[38;5;28;01mfor\u001b[39;00m i \u001b[38;5;129;01min\u001b[39;00m \u001b[38;5;28mrange\u001b[39m(\u001b[38;5;241m10\u001b[39m):\n\u001b[0;32m----> 2\u001b[0m     tl \u001b[38;5;241m=\u001b[39m train(model, optimizer, criterion, train_loader)\n\u001b[1;32m      3\u001b[0m     vl \u001b[38;5;241m=\u001b[39m valid(model, criterion, val_loader)\n\u001b[1;32m      5\u001b[0m     train_result\u001b[38;5;241m.\u001b[39mappend(tl)\n",
      "Cell \u001b[0;32mIn[66], line 24\u001b[0m, in \u001b[0;36mtrain\u001b[0;34m(model, optimizer, criterion, train_loader)\u001b[0m\n\u001b[1;32m     21\u001b[0m loss\u001b[38;5;241m.\u001b[39mbackward()\n\u001b[1;32m     22\u001b[0m optimizer\u001b[38;5;241m.\u001b[39mstep()\n\u001b[0;32m---> 24\u001b[0m total_loss \u001b[38;5;241m+\u001b[39m\u001b[38;5;241m=\u001b[39m loss\u001b[38;5;241m.\u001b[39mitem()\n\u001b[1;32m     25\u001b[0m count \u001b[38;5;241m+\u001b[39m\u001b[38;5;241m=\u001b[39m \u001b[38;5;241m1\u001b[39m\n\u001b[1;32m     26\u001b[0m \u001b[38;5;66;03m# if (count+1)%200 == 0: print(loss.item())\u001b[39;00m\n",
      "\u001b[0;31mKeyboardInterrupt\u001b[0m: "
     ]
    }
   ],
   "source": [
    "for i in range(10):\n",
    "    tl = train(model, optimizer, criterion, train_loader)\n",
    "    vl = valid(model, criterion, val_loader)\n",
    "\n",
    "    train_result.append(tl)\n",
    "    val_result.append(vl)\n",
    "\n",
    "    print(\"Epoch:\", i+1, \"train loss:\", tl, \"val loss:\", vl)\n",
    "\n",
    "\n"
   ]
  },
  {
   "cell_type": "code",
   "execution_count": 66,
   "metadata": {},
   "outputs": [],
   "source": [
    "# Training function\n",
    "def train(model, optimizer, criterion, train_loader):\n",
    "    model.train()\n",
    "    total_loss = 0\n",
    "    count = 200\n",
    "    for e in train_loader:\n",
    "        x = e['idx'].to(DEVICE)\n",
    "        pad_mask = e['pad_mask'].to(DEVICE)\n",
    "\n",
    "        x_input = x[:, :-1]\n",
    "        pad_mask = pad_mask[:, :-1]\n",
    "        y_expected = x[:, 1:]\n",
    "        output = model(x_input, pad_mask)\n",
    "        #print(output.shape, y_expected.shape)\n",
    "\n",
    "        output = torch.flatten(output, start_dim=0, end_dim=1)\n",
    "        y_expected = torch.flatten(y_expected, start_dim=0, end_dim=1)\n",
    "        loss = criterion(output, y_expected)\n",
    "\n",
    "        optimizer.zero_grad()\n",
    "        loss.backward()\n",
    "        optimizer.step()\n",
    "\n",
    "        total_loss += loss.item()\n",
    "        count += 1\n",
    "        # if (count+1)%200 == 0: print(loss.item())\n",
    "        \n",
    "    total_loss = total_loss/len(train_loader)\n",
    "    \n",
    "    return total_loss\n",
    "\n",
    "# valid function\n",
    "def valid(model, criterion, val_loader):\n",
    "    model.eval()\n",
    "    total_loss = 0\n",
    "\n",
    "    with torch.no_grad():\n",
    "        for e in val_loader:\n",
    "            x = e['idx'].to(DEVICE)\n",
    "            pad_mask = e['pad_mask'].to(DEVICE)\n",
    "\n",
    "            x_input = x[:, :-1]\n",
    "            pad_mask = pad_mask[:, :-1]\n",
    "            y_expected = x[:, 1:]\n",
    "\n",
    "            output = model(x_input, pad_mask)\n",
    "            \n",
    "            output = torch.flatten(output, start_dim=0, end_dim=1)\n",
    "            y_expected = torch.flatten(y_expected, start_dim=0, end_dim=1)\n",
    "            loss = criterion(output, y_expected)\n",
    "\n",
    "            total_loss += loss.item()\n",
    "        \n",
    "    total_loss = total_loss/len(val_loader)\n",
    "   \n",
    "    return total_loss\n",
    "    "
   ]
  },
  {
   "cell_type": "code",
   "execution_count": 44,
   "metadata": {},
   "outputs": [
    {
     "data": {
      "text/plain": [
       "Decoder(\n",
       "  (embedding): Embedding(10, 10)\n",
       "  (positional_encoding): PositionalEncoding(\n",
       "    (dropout): Dropout(p=0.1, inplace=False)\n",
       "  )\n",
       "  (decoder_layers): ModuleList(\n",
       "    (0): DecoderLayer(\n",
       "      (multihead): MultiheadAttention(\n",
       "        (out_proj): NonDynamicallyQuantizableLinear(in_features=10, out_features=10, bias=True)\n",
       "      )\n",
       "      (dropout1): Dropout(p=0.1, inplace=False)\n",
       "      (norm1): LayerNorm((10,), eps=1e-05, elementwise_affine=True)\n",
       "      (linear1): Linear(in_features=10, out_features=10, bias=True)\n",
       "      (dropout2): Dropout(p=0.1, inplace=False)\n",
       "      (linear2): Linear(in_features=10, out_features=10, bias=True)\n",
       "      (dropout3): Dropout(p=0.1, inplace=False)\n",
       "      (norm2): LayerNorm((10,), eps=1e-05, elementwise_affine=True)\n",
       "    )\n",
       "  )\n",
       ")"
      ]
     },
     "execution_count": 44,
     "metadata": {},
     "output_type": "execute_result"
    }
   ],
   "source": [
    "m = Decoder(10, 10, 1, 10)\n",
    "\n",
    "m.to(device='cuda')"
   ]
  },
  {
   "cell_type": "code",
   "execution_count": 46,
   "metadata": {},
   "outputs": [
    {
     "data": {
      "text/plain": [
       "[['invalid'],\n",
       " ['invalid'],\n",
       " ['invalid'],\n",
       " ['invalid'],\n",
       " ['invalid'],\n",
       " ['invalid'],\n",
       " [],\n",
       " ['invalid'],\n",
       " ['invalid'],\n",
       " [],\n",
       " [],\n",
       " ['invalid'],\n",
       " ['invalid'],\n",
       " ['invalid'],\n",
       " ['invalid'],\n",
       " ['invalid'],\n",
       " ['invalid'],\n",
       " ['invalid'],\n",
       " ['invalid'],\n",
       " [],\n",
       " ['invalid'],\n",
       " ['invalid'],\n",
       " ['invalid'],\n",
       " ['invalid'],\n",
       " ['invalid'],\n",
       " ['invalid'],\n",
       " ['invalid'],\n",
       " ['invalid'],\n",
       " ['invalid'],\n",
       " ['invalid'],\n",
       " ['invalid'],\n",
       " ['invalid'],\n",
       " ['invalid'],\n",
       " [],\n",
       " ['invalid'],\n",
       " ['invalid'],\n",
       " ['invalid'],\n",
       " ['invalid'],\n",
       " [],\n",
       " ['invalid'],\n",
       " [],\n",
       " ['invalid'],\n",
       " ['invalid'],\n",
       " [],\n",
       " ['invalid'],\n",
       " ['=', 'C', '/'],\n",
       " ['invalid'],\n",
       " ['invalid'],\n",
       " ['invalid'],\n",
       " [],\n",
       " ['invalid'],\n",
       " [],\n",
       " ['invalid'],\n",
       " [],\n",
       " ['invalid'],\n",
       " [],\n",
       " [],\n",
       " ['invalid'],\n",
       " ['invalid'],\n",
       " ['\\\\'],\n",
       " ['invalid'],\n",
       " ['=', '\\\\'],\n",
       " ['invalid'],\n",
       " ['/', 'C', '/', 'O'],\n",
       " [],\n",
       " ['\\\\'],\n",
       " ['invalid'],\n",
       " ['invalid'],\n",
       " [],\n",
       " ['invalid'],\n",
       " ['/'],\n",
       " ['invalid'],\n",
       " ['invalid'],\n",
       " [],\n",
       " ['invalid'],\n",
       " ['invalid'],\n",
       " ['invalid'],\n",
       " [],\n",
       " ['\\\\', '/'],\n",
       " ['invalid'],\n",
       " ['invalid'],\n",
       " [],\n",
       " ['invalid'],\n",
       " ['invalid'],\n",
       " ['invalid'],\n",
       " ['invalid'],\n",
       " ['invalid'],\n",
       " ['invalid'],\n",
       " ['invalid'],\n",
       " [],\n",
       " ['invalid'],\n",
       " ['invalid'],\n",
       " ['invalid'],\n",
       " ['invalid'],\n",
       " ['invalid'],\n",
       " ['invalid'],\n",
       " ['invalid'],\n",
       " [],\n",
       " ['invalid'],\n",
       " ['invalid']]"
      ]
     },
     "execution_count": 46,
     "metadata": {},
     "output_type": "execute_result"
    }
   ],
   "source": [
    "m.generateSmiles(100, getVocab(), 10)"
   ]
  },
  {
   "cell_type": "code",
   "execution_count": null,
   "metadata": {},
   "outputs": [],
   "source": [
    "m."
   ]
  },
  {
   "cell_type": "code",
   "execution_count": 61,
   "metadata": {},
   "outputs": [
    {
     "data": {
      "text/plain": [
       "Decoder(\n",
       "  (embedding): Embedding(10, 10)\n",
       "  (decoder_layers): ModuleList(\n",
       "    (0): DecoderLayer(\n",
       "      (multihead): MultiheadAttention(\n",
       "        (out_proj): NonDynamicallyQuantizableLinear(in_features=10, out_features=10, bias=True)\n",
       "      )\n",
       "      (dropout1): Dropout(p=0.1, inplace=False)\n",
       "      (norm1): LayerNorm((10,), eps=1e-05, elementwise_affine=True)\n",
       "      (linear1): Linear(in_features=10, out_features=10, bias=True)\n",
       "      (dropout2): Dropout(p=0.1, inplace=False)\n",
       "      (linear2): Linear(in_features=10, out_features=10, bias=True)\n",
       "      (dropout3): Dropout(p=0.1, inplace=False)\n",
       "      (norm2): LayerNorm((10,), eps=1e-05, elementwise_affine=True)\n",
       "    )\n",
       "  )\n",
       ")"
      ]
     },
     "execution_count": 61,
     "metadata": {},
     "output_type": "execute_result"
    }
   ],
   "source": [
    "m.to(\"cuda:1\")"
   ]
  },
  {
   "cell_type": "code",
   "execution_count": null,
   "metadata": {},
   "outputs": [],
   "source": [
    "m."
   ]
  },
  {
   "cell_type": "code",
   "execution_count": 56,
   "metadata": {},
   "outputs": [
    {
     "name": "stdout",
     "output_type": "stream",
     "text": [
      "None\n"
     ]
    }
   ],
   "source": [
    "print(next(m.parameters()).device.index)"
   ]
  },
  {
   "cell_type": "code",
   "execution_count": 55,
   "metadata": {},
   "outputs": [],
   "source": [
    "None"
   ]
  },
  {
   "cell_type": "code",
   "execution_count": 48,
   "metadata": {},
   "outputs": [],
   "source": [
    "x = next(m.parameters()).device"
   ]
  },
  {
   "cell_type": "code",
   "execution_count": 49,
   "metadata": {},
   "outputs": [
    {
     "data": {
      "text/plain": [
       "device(type='cuda', index=1)"
      ]
     },
     "execution_count": 49,
     "metadata": {},
     "output_type": "execute_result"
    }
   ],
   "source": [
    "x"
   ]
  },
  {
   "cell_type": "code",
   "execution_count": 51,
   "metadata": {},
   "outputs": [
    {
     "data": {
      "text/plain": [
       "1"
      ]
     },
     "execution_count": 51,
     "metadata": {},
     "output_type": "execute_result"
    }
   ],
   "source": [
    "x.index"
   ]
  },
  {
   "cell_type": "code",
   "execution_count": 16,
   "metadata": {},
   "outputs": [
    {
     "data": {
      "text/plain": [
       "tensor([[4, 4, 4],\n",
       "        [4, 4, 4]])"
      ]
     },
     "execution_count": 16,
     "metadata": {},
     "output_type": "execute_result"
    }
   ],
   "source": [
    "torch.full((2, 3), 4)"
   ]
  },
  {
   "cell_type": "code",
   "execution_count": 4,
   "metadata": {},
   "outputs": [
    {
     "data": {
      "text/plain": [
       "tensor([[1., 0., 0., 0.],\n",
       "        [1., 1., 0., 0.],\n",
       "        [1., 1., 1., 0.],\n",
       "        [1., 1., 1., 1.]])"
      ]
     },
     "execution_count": 4,
     "metadata": {},
     "output_type": "execute_result"
    }
   ],
   "source": [
    "torch.tril(torch.ones(4, 4))"
   ]
  },
  {
   "cell_type": "code",
   "execution_count": 5,
   "metadata": {},
   "outputs": [
    {
     "data": {
      "text/plain": [
       "tensor([[0., -inf, -inf, -inf],\n",
       "        [0., 0., -inf, -inf],\n",
       "        [0., 0., 0., -inf],\n",
       "        [0., 0., 0., 0.]])"
      ]
     },
     "execution_count": 5,
     "metadata": {},
     "output_type": "execute_result"
    }
   ],
   "source": [
    "torch.triu(\n",
    "        torch.full((4, 4), float('-inf'), dtype=torch.float),\n",
    "        diagonal=1,\n",
    "    )"
   ]
  },
  {
   "cell_type": "code",
   "execution_count": 9,
   "metadata": {},
   "outputs": [
    {
     "data": {
      "text/plain": [
       "-1"
      ]
     },
     "execution_count": 9,
     "metadata": {},
     "output_type": "execute_result"
    }
   ],
   "source": [
    "mask.get_device()"
   ]
  },
  {
   "cell_type": "code",
   "execution_count": null,
   "metadata": {},
   "outputs": [],
   "source": []
  },
  {
   "cell_type": "code",
   "execution_count": 6,
   "metadata": {},
   "outputs": [
    {
     "data": {
      "text/plain": [
       "tensor([[0., -inf, -inf, -inf],\n",
       "        [0., 0., -inf, -inf],\n",
       "        [0., 0., 0., -inf],\n",
       "        [0., 0., 0., 0.]])"
      ]
     },
     "execution_count": 6,
     "metadata": {},
     "output_type": "execute_result"
    }
   ],
   "source": [
    "mask = torch.tril(torch.ones(4, 4) == 1)\n",
    "mask = mask.float()\n",
    "mask = mask.masked_fill(mask == 0, float('-inf')) \n",
    "mask = mask.masked_fill(mask == 1, float(0.0))\n",
    "\n",
    "mask"
   ]
  },
  {
   "cell_type": "code",
   "execution_count": 15,
   "metadata": {},
   "outputs": [
    {
     "data": {
      "text/plain": [
       "tensor([[0., -inf, -inf, -inf],\n",
       "        [0., 0., -inf, -inf],\n",
       "        [0., 0., 0., -inf],\n",
       "        [0., 0., 0., 0.]])"
      ]
     },
     "execution_count": 15,
     "metadata": {},
     "output_type": "execute_result"
    }
   ],
   "source": [
    "mask.to(device='cpu')"
   ]
  },
  {
   "cell_type": "code",
   "execution_count": null,
   "metadata": {},
   "outputs": [
    {
     "data": {
      "text/plain": [
       "tensor([[ True, False, False, False],\n",
       "        [ True,  True, False, False],\n",
       "        [ True,  True,  True, False],\n",
       "        [ True,  True,  True,  True]])"
      ]
     },
     "execution_count": 4,
     "metadata": {},
     "output_type": "execute_result"
    }
   ],
   "source": [
    "torch.tril(torch.ones(4, 4) == 1)"
   ]
  },
  {
   "cell_type": "code",
   "execution_count": 5,
   "metadata": {},
   "outputs": [
    {
     "data": {
      "text/plain": [
       "tensor([[True, True, True, True],\n",
       "        [True, True, True, True],\n",
       "        [True, True, True, True],\n",
       "        [True, True, True, True]])"
      ]
     },
     "execution_count": 5,
     "metadata": {},
     "output_type": "execute_result"
    }
   ],
   "source": [
    "torch.ones(4, 4) == 1"
   ]
  },
  {
   "cell_type": "code",
   "execution_count": 29,
   "metadata": {},
   "outputs": [
    {
     "data": {
      "text/plain": [
       "TransformerDecoderLayer(\n",
       "  (self_attn): MultiheadAttention(\n",
       "    (out_proj): NonDynamicallyQuantizableLinear(in_features=10, out_features=10, bias=True)\n",
       "  )\n",
       "  (multihead_attn): MultiheadAttention(\n",
       "    (out_proj): NonDynamicallyQuantizableLinear(in_features=10, out_features=10, bias=True)\n",
       "  )\n",
       "  (linear1): Linear(in_features=10, out_features=2048, bias=True)\n",
       "  (dropout): Dropout(p=0.1, inplace=False)\n",
       "  (linear2): Linear(in_features=2048, out_features=10, bias=True)\n",
       "  (norm1): LayerNorm((10,), eps=1e-05, elementwise_affine=True)\n",
       "  (norm2): LayerNorm((10,), eps=1e-05, elementwise_affine=True)\n",
       "  (norm3): LayerNorm((10,), eps=1e-05, elementwise_affine=True)\n",
       "  (dropout1): Dropout(p=0.1, inplace=False)\n",
       "  (dropout2): Dropout(p=0.1, inplace=False)\n",
       "  (dropout3): Dropout(p=0.1, inplace=False)\n",
       ")"
      ]
     },
     "execution_count": 29,
     "metadata": {},
     "output_type": "execute_result"
    }
   ],
   "source": [
    "torch.nn.TransformerDecoderLayer(d_model=10, nhead=1)"
   ]
  },
  {
   "cell_type": "code",
   "execution_count": null,
   "metadata": {},
   "outputs": [],
   "source": []
  }
 ],
 "metadata": {
  "kernelspec": {
   "display_name": "Python 3 (ipykernel)",
   "language": "python",
   "name": "python3"
  },
  "language_info": {
   "codemirror_mode": {
    "name": "ipython",
    "version": 3
   },
   "file_extension": ".py",
   "mimetype": "text/x-python",
   "name": "python",
   "nbconvert_exporter": "python",
   "pygments_lexer": "ipython3",
   "version": "3.12.2"
  }
 },
 "nbformat": 4,
 "nbformat_minor": 2
}
