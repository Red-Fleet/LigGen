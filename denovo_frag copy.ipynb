{
  "cells": [
    {
      "cell_type": "code",
      "execution_count": 1,
      "metadata": {
        "id": "AKykjHjlbGT6"
      },
      "outputs": [],
      "source": [
        "from vina import Vina\n",
        "from openbabel import openbabel as ob\n",
        "from openbabel import pybel as pb\n",
        "from rdkit import Chem\n",
        "from rdkit.Chem import AllChem, Descriptors, Draw\n",
        "import time\n",
        "import rdkit\n",
        "import matplotlib.pyplot as plt\n",
        "import random\n",
        "import math\n",
        "import re"
      ]
    },
    {
      "cell_type": "code",
      "execution_count": null,
      "metadata": {},
      "outputs": [],
      "source": [
        "class SimulatedAnnealingOld:\n",
        "    def __init__(self, fragments: list[str], vina: Vina):\n",
        "        self.fragments = fragments\n",
        "        self.vina:Vina = vina\n",
        "        self.grid_box = None  #[0=> center, 1=>size]\n",
        "\n",
        "    def setTarget(self, target_pdbqt_path: str, grid_param: tuple[int, list[int, int, int], list[int, int, int]] = None):\n",
        "        '''\n",
        "        grid_param = (spacing, center, box)\n",
        "        '''\n",
        "        self.vina.set_receptor(target_pdbqt_path)\n",
        "\n",
        "        if grid_param is not None:\n",
        "            self.setGridMap(grid_param)\n",
        "\n",
        "    def setGridMap(self, grid_param: tuple[int, list[int, int, int], list[int, int, int]]):\n",
        "        '''\n",
        "        grid_param = (spacing, center, box)\n",
        "        '''\n",
        "        self.grid_box = [grid_param[1], grid_param[2]]\n",
        "        if grid_param[0] == None:\n",
        "            self.vina.compute_vina_maps(center=grid_param[1], box_size=grid_param[2])\n",
        "        else:\n",
        "            self.vina.compute_vina_maps(center=grid_param[1], box_size=grid_param[2], spacing=grid_param[0])\n",
        "\n",
        "    def generateRdkitConformer(self, mol:rdkit.Chem.rdchem.Mol) -> rdkit.Chem.rdchem.Mol:\n",
        "        '''input is rdkit mol and conformer is added to to same input mol and mol is also returned\n",
        "        if it fails it will return None\n",
        "        '''\n",
        "        mol = AllChem.AddHs(mol)\n",
        "        sucess = AllChem.EmbedMolecule(mol)\n",
        "\n",
        "        if sucess == -1:\n",
        "            return None\n",
        "\n",
        "        return mol\n",
        "\n",
        "    def placeRdkitMolAtNewPoint(self, mol: rdkit.Chem.rdchem.Mol, atom_idx: int, new_x: float, new_y: float, new_z: float) ->  rdkit.Chem.rdchem.Mol:\n",
        "        ''' For shifing Rdkit molecule(conformer), conformer should be created for this method to work\n",
        "        '''\n",
        "        c = mol.GetConformer()\n",
        "        atom_point = c.GetAtomPosition(atom_idx)\n",
        "        x_offset = new_x - atom_point.x\n",
        "        y_offset = new_y - atom_point.y\n",
        "        z_offset = new_z - atom_point.z\n",
        "\n",
        "        mol = self.shiftRdkitMol(mol, x_offset, y_offset, z_offset)\n",
        "\n",
        "        return mol\n",
        "\n",
        "\n",
        "    def shiftRdkitMol(self, mol: rdkit.Chem.rdchem.Mol, x_offset: float, y_offset: float, z_offset: float)->  rdkit.Chem.rdchem.Mol:\n",
        "        ''' For shifing Rdkit molecule, offeset is, conformer should be created for this method to work\n",
        "        '''\n",
        "\n",
        "        c = mol.GetConformer()\n",
        "\n",
        "        # shift all atoms\n",
        "        for i in range(c.GetNumAtoms()):\n",
        "            pos = c.GetAtomPosition(i)\n",
        "            pos.x += x_offset\n",
        "            pos.y += y_offset\n",
        "            pos.z += z_offset\n",
        "\n",
        "            c.SetAtomPosition(i, pos)\n",
        "\n",
        "        return mol\n",
        "\n",
        "    def alignMolWithSubMol(self, mol, submol): # does not align hydrogen, mol as probe and submol as reference for alignment\n",
        "        sc = submol.GetConformer()\n",
        "        submol_index = [atom.GetIdx() for atom in submol.GetAtoms() if atom.GetAtomicNum()!=1]\n",
        "\n",
        "        c = mol.GetConformer()\n",
        "        mol_index = [atom.GetIdx() for atom in mol.GetAtoms() if atom.GetAtomicNum()!=1]\n",
        "\n",
        "        atomMap = []\n",
        "        for i in range(len(submol_index)):\n",
        "            atomMap.append((mol_index[i], submol_index[i]))\n",
        "\n",
        "        AllChem.AlignMol(mol, submol, atomMap=atomMap)\n",
        "\n",
        "        return mol\n",
        "\n",
        "    def getScore(self, ligand_pdbqt: str):\n",
        "        '''return score of input ligand pose using vina\n",
        "        '''\n",
        "        self.vina.set_ligand_from_string(ligand_pdbqt)\n",
        "        score = self.vina.score()\n",
        "\n",
        "        return score[0]\n",
        "\n",
        "\n",
        "    def rdkitToPdbqt(self, mol: rdkit.Chem.rdchem.Mol)->str:\n",
        "        '''return pdbqt string of given rdkit mol\n",
        "        '''\n",
        "        mol_block = Chem.MolToMolBlock(mol) # sdf format\n",
        "\n",
        "        pymol = pb.readstring(format=\"sdf\", string=mol_block)\n",
        "        pdbqt = pymol.write(format=\"pdbqt\")\n",
        "\n",
        "        return pdbqt\n",
        "\n",
        "    def getRandomFragment(self) -> str:\n",
        "        idx = random.randint(0, len(self.fragments)-1)\n",
        "        self.idx = idx\n",
        "        return self.fragments[idx]\n",
        "        \n",
        "    \n",
        "    def isLigInGridbox(self,  mol: rdkit.Chem.rdchem.Mol):\n",
        "        '''\n",
        "        Returns true if all atoms of ligands(mol) are present inside the grid box\n",
        "        '''\n",
        "        c = mol.GetConformer()\n",
        "        center = self.grid_box[0]\n",
        "        size = self.grid_box[1]\n",
        "        \n",
        "        x_min = center[0] - size[0] / 2\n",
        "        x_max = center[0] + size[0] / 2\n",
        "        y_min = center[1] - size[1] / 2\n",
        "        y_max = center[1] + size[1] / 2\n",
        "        z_min = center[2] - size[2] / 2\n",
        "        z_max = center[2] + size[2] / 2\n",
        "\n",
        "        for i in range(c.GetNumAtoms()):\n",
        "            pos = c.GetAtomPosition(i)\n",
        "            if (x_min <= pos.x <= x_max) and (y_min <= pos.y <= y_max) and (z_min <= pos.z <= z_max) is False:\n",
        "                return False\n",
        "        \n",
        "        return True\n",
        "\n",
        "\n",
        "    def simulatedAnnealingRecursive(self, \n",
        "                                    old_ligand: str,\n",
        "                                    old_score: float, \n",
        "                                    old_ligand_3d, \n",
        "                                    initial_position: list, \n",
        "                                    max_mw: float, \n",
        "                                    temp: float, \n",
        "                                    iter: int, \n",
        "                                    coolingSchedule)-> dict:\n",
        "        \n",
        "        for i in range(100):\n",
        "            frag = self.getRandomFragment()\n",
        "\n",
        "            new_lig = old_ligand + frag\n",
        "\n",
        "            try:\n",
        "                mol = Chem.MolFromSmiles(new_lig)\n",
        "                mol = self.generateRdkitConformer(mol)\n",
        "            except:\n",
        "                continue\n",
        "\n",
        "            if mol is None:\n",
        "                continue\n",
        "\n",
        "            if old_ligand is None or old_ligand == '':\n",
        "                # if current/new fragment is the first fragment then place this fragment at initial position\n",
        "                mol = self.placeRdkitMolAtNewPoint(mol, 0, initial_position[0], initial_position[1], initial_position[2])\n",
        "            else:\n",
        "                # else align new/current mol to old molecule\n",
        "                mol = self.alignMolWithSubMol(mol, old_ligand_3d)\n",
        "\n",
        "            # checking if ligand is present inside grid box, if not then try other fragment\n",
        "            if self.isLigInGridbox(mol) is False:\n",
        "                continue\n",
        "\n",
        "            # calculationg score of new/current ligand using vina\n",
        "            pdbqt = self.rdkitToPdbqt(mol)\n",
        "            \n",
        "            new_score = self.getScore(pdbqt)\n",
        "            del_score = new_score - old_score\n",
        "            new_Temp = coolingSchedule(temp, iter)\n",
        "            if del_score <= 0 or random.random() < math.exp(-del_score / new_Temp):\n",
        "                \n",
        "                if Descriptors.MolWt(mol) >= max_mw:\n",
        "                    return (mol, new_lig, new_score)\n",
        "                else:\n",
        "                    result = self.simulatedAnnealingRecursive(old_ligand=new_lig, \n",
        "                                                              old_score=new_score, \n",
        "                                                              old_ligand_3d=mol, \n",
        "                                                              initial_position=initial_position, \n",
        "                                                              max_mw=max_mw, \n",
        "                                                              temp=temp, \n",
        "                                                              iter=iter+1,\n",
        "                                                              coolingSchedule=coolingSchedule)\n",
        "                    if result is not None:\n",
        "                        return result\n",
        "        return None\n",
        "\n",
        "\n",
        "\n",
        "\n",
        "    def simulatedAnnealing(self, ligand:str='', \n",
        "                           start_score: float=0, \n",
        "                           ligand_3d=None, \n",
        "                           initial_building_position: list = [0, 0, 0], \n",
        "                           max_mw: float=100, \n",
        "                           temp: float=3000, \n",
        "                           iter = 0, \n",
        "                           coolingSchedule=None):\n",
        "        return self.simulatedAnnealingRecursive(old_ligand=ligand, \n",
        "                                                old_score=start_score, \n",
        "                                                old_ligand_3d=ligand_3d, \n",
        "                                                initial_position=initial_building_position, \n",
        "                                                max_mw=max_mw, \n",
        "                                                temp=temp, \n",
        "                                                iter=iter, \n",
        "                                                coolingSchedule=coolingSchedule)\n",
        "\n"
      ]
    },
    {
      "cell_type": "code",
      "execution_count": 285,
      "metadata": {
        "id": "5denOWVYfxyD"
      },
      "outputs": [],
      "source": [
        "# adding fragments in between\n",
        "class SimulatedAnnealing:\n",
        "    def __init__(self, fragments: list[str], vina: Vina):\n",
        "        self.fragments = fragments\n",
        "        self.vina:Vina = vina\n",
        "        self.grid_box = None  #[0=> center, 1=>size]\n",
        "\n",
        "    def setTarget(self, target_pdbqt_path: str, grid_param: tuple[int, list[int, int, int], list[int, int, int]] = None):\n",
        "        '''\n",
        "        grid_param = (spacing, center, box)\n",
        "        '''\n",
        "        self.vina.set_receptor(target_pdbqt_path)\n",
        "\n",
        "        if grid_param is not None:\n",
        "            self.setGridMap(grid_param)\n",
        "\n",
        "    def setGridMap(self, grid_param: tuple[int, list[int, int, int], list[int, int, int]]):\n",
        "        '''\n",
        "        grid_param = (spacing, center, box)\n",
        "        '''\n",
        "        self.grid_box = [grid_param[1], grid_param[2]]\n",
        "        if grid_param[0] == None:\n",
        "            self.vina.compute_vina_maps(center=grid_param[1], box_size=grid_param[2])\n",
        "        else:\n",
        "            self.vina.compute_vina_maps(center=grid_param[1], box_size=grid_param[2], spacing=grid_param[0])\n",
        "\n",
        "    def generateRdkitConformer(self, mol:rdkit.Chem.rdchem.Mol) -> rdkit.Chem.rdchem.Mol:\n",
        "        '''input is rdkit mol and conformer is added to to same input mol and mol is also returned\n",
        "        if it fails it will return None\n",
        "        '''\n",
        "        mol = AllChem.AddHs(mol)\n",
        "        sucess = AllChem.EmbedMolecule(mol)\n",
        "\n",
        "        if sucess == -1:\n",
        "            return None\n",
        "\n",
        "        return mol\n",
        "\n",
        "    def placeRdkitMolAtNewPoint(self, mol: rdkit.Chem.rdchem.Mol, atom_idx: int, new_x: float, new_y: float, new_z: float) ->  rdkit.Chem.rdchem.Mol:\n",
        "        ''' For shifing Rdkit molecule(conformer), conformer should be created for this method to work\n",
        "        '''\n",
        "        c = mol.GetConformer()\n",
        "        atom_point = c.GetAtomPosition(atom_idx)\n",
        "        x_offset = new_x - atom_point.x\n",
        "        y_offset = new_y - atom_point.y\n",
        "        z_offset = new_z - atom_point.z\n",
        "\n",
        "        mol = self.shiftRdkitMol(mol, x_offset, y_offset, z_offset)\n",
        "\n",
        "        return mol\n",
        "\n",
        "\n",
        "    def shiftRdkitMol(self, mol: rdkit.Chem.rdchem.Mol, x_offset: float, y_offset: float, z_offset: float)->  rdkit.Chem.rdchem.Mol:\n",
        "        ''' For shifing Rdkit molecule, offeset is, conformer should be created for this method to work\n",
        "        '''\n",
        "\n",
        "        c = mol.GetConformer()\n",
        "\n",
        "        # shift all atoms\n",
        "        for i in range(c.GetNumAtoms()):\n",
        "            pos = c.GetAtomPosition(i)\n",
        "            pos.x += x_offset\n",
        "            pos.y += y_offset\n",
        "            pos.z += z_offset\n",
        "\n",
        "            c.SetAtomPosition(i, pos)\n",
        "\n",
        "        return mol\n",
        "\n",
        "    def addFragmentRandomlyToLigandSmiles(self, lig_smile, frag_smile, chain_prob):\n",
        "        '''Return new_smile and atom Map\n",
        "        '''\n",
        "        # total atoms in ligand smiles\n",
        "        avaliable_idxs = [-1] # -1 so that at 0th place string can be added\n",
        "        # for chain\n",
        "        for i in range(len(lig_smile)): \n",
        "            if lig_smile[i].isalpha() == True: \n",
        "                avaliable_idxs.append(i)\n",
        "        avaliable_idxs.append(len(lig_smile)) # for end \n",
        "\n",
        "        # probablities\n",
        "        chain_prob = 0.1\n",
        "        end_prob = 1-chain_prob\n",
        "        avaliable_idx_probs = []\n",
        "        for i in range(len(avaliable_idxs)):\n",
        "            if i == 0 or i==len(avaliable_idxs)-1: avaliable_idx_probs.append(end_prob/2)\n",
        "            else: avaliable_idx_probs.append(chain_prob/(len(avaliable_idxs)-2))\n",
        "\n",
        "        # random position\n",
        "        position = random.choices(\n",
        "            population=avaliable_idxs,\n",
        "            weights=avaliable_idx_probs,\n",
        "            k=1\n",
        "        )[0]\n",
        "\n",
        "        new_lig_smile = ''\n",
        "        insert_len = len(frag_smile)\n",
        "        if position == avaliable_idxs[0]:\n",
        "            new_lig_smile = frag_smile + lig_smile\n",
        "        elif position == avaliable_idxs[-1]:\n",
        "            new_lig_smile =  lig_smile + frag_smile\n",
        "        else:\n",
        "            insert_len += 2\n",
        "            new_lig_smile = lig_smile[0:position+1] + '('+ frag_smile+')' + lig_smile[position+1:]\n",
        "\n",
        "\n",
        "        # creating map\n",
        "        lig_idx2atom = dict()\n",
        "        atom_idx = 0\n",
        "        for i in range(len(lig_smile)): \n",
        "            if lig_smile[i].isalpha() == True: \n",
        "                lig_idx2atom[i] = atom_idx\n",
        "                atom_idx += 1\n",
        "\n",
        "        new_lig_idx2atom = dict()\n",
        "        atom_idx = 0\n",
        "        for i in range(len(new_lig_smile)): \n",
        "            if new_lig_smile[i].isalpha() == True: \n",
        "                new_lig_idx2atom[i] = atom_idx\n",
        "                atom_idx += 1\n",
        "\n",
        "        atomMap = []\n",
        "        for k, v in lig_idx2atom.items():\n",
        "            if k<=position: atomMap.append((v, v))\n",
        "            else: atomMap.append((new_lig_idx2atom[insert_len+k], v))\n",
        "        \n",
        "\n",
        "        return new_lig_smile, atomMap\n",
        "\n",
        "    def getScore(self, ligand_pdbqt: str):\n",
        "        '''return score of input ligand pose using vina\n",
        "        '''\n",
        "        self.vina.set_ligand_from_string(ligand_pdbqt)\n",
        "        score = self.vina.score()\n",
        "\n",
        "        return score[0]\n",
        "\n",
        "\n",
        "    def rdkitToPdbqt(self, mol: rdkit.Chem.rdchem.Mol)->str:\n",
        "        '''return pdbqt string of given rdkit mol\n",
        "        '''\n",
        "        mol_block = Chem.MolToMolBlock(mol) # sdf format\n",
        "\n",
        "        pymol = pb.readstring(format=\"sdf\", string=mol_block)\n",
        "        pdbqt = pymol.write(format=\"pdbqt\")\n",
        "\n",
        "        return pdbqt\n",
        "\n",
        "    def getRandomFragment(self) -> str:\n",
        "        idx = random.randint(0, len(self.fragments)-1)\n",
        "        self.idx = idx\n",
        "        return self.fragments[idx]\n",
        "        \n",
        "    \n",
        "    def isLigInGridbox(self,  mol: rdkit.Chem.rdchem.Mol):\n",
        "        '''\n",
        "        Returns true if all atoms of ligands(mol) are present inside the grid box\n",
        "        '''\n",
        "        c = mol.GetConformer()\n",
        "        center = self.grid_box[0]\n",
        "        size = self.grid_box[1]\n",
        "        \n",
        "        x_min = center[0] - size[0] / 2\n",
        "        x_max = center[0] + size[0] / 2\n",
        "        y_min = center[1] - size[1] / 2\n",
        "        y_max = center[1] + size[1] / 2\n",
        "        z_min = center[2] - size[2] / 2\n",
        "        z_max = center[2] + size[2] / 2\n",
        "\n",
        "        for i in range(c.GetNumAtoms()):\n",
        "            pos = c.GetAtomPosition(i)\n",
        "            if ((x_min <= pos.x <= x_max) and (y_min <= pos.y <= y_max) and (z_min <= pos.z <= z_max)) == False:\n",
        "                return False\n",
        "        \n",
        "        return True\n",
        "\n",
        "\n",
        "    def simulatedAnnealingRecursive(self, \n",
        "                                    old_ligand: str,\n",
        "                                    old_score: float, \n",
        "                                    old_ligand_3d, \n",
        "                                    initial_position: list, \n",
        "                                    max_mw: float, \n",
        "                                    temp: float, \n",
        "                                    iter: int, \n",
        "                                    coolingSchedule,\n",
        "                                    chain_prob:float)-> dict:\n",
        "        \n",
        "        for i in range(100):\n",
        "            frag = self.getRandomFragment()\n",
        "\n",
        "            new_lig, atomMap = self.addFragmentRandomlyToLigandSmiles(lig_smile=old_ligand, frag_smile=frag, chain_prob=chain_prob)\n",
        "\n",
        "            try:\n",
        "                mol = Chem.MolFromSmiles(new_lig)\n",
        "                mol = self.generateRdkitConformer(mol)\n",
        "            except:\n",
        "                continue\n",
        "\n",
        "            if mol is None:\n",
        "                continue\n",
        "\n",
        "            if old_ligand is None or old_ligand == '':\n",
        "                # if current/new fragment is the first fragment then place this fragment at initial position\n",
        "                mol = self.placeRdkitMolAtNewPoint(mol, 0, initial_position[0], initial_position[1], initial_position[2])\n",
        "            else:\n",
        "                # else align new/current mol to old molecule\n",
        "                AllChem.AlignMol(mol, old_ligand_3d, atomMap=atomMap)\n",
        "\n",
        "            # checking if ligand is present inside grid box, if not then try other fragment\n",
        "            if self.isLigInGridbox(mol) is False:\n",
        "                continue\n",
        "\n",
        "            # calculationg score of new/current ligand using vina\n",
        "            pdbqt = self.rdkitToPdbqt(mol)\n",
        "            \n",
        "            new_score = self.getScore(pdbqt)\n",
        "            del_score = new_score - old_score\n",
        "            new_Temp = coolingSchedule(temp, iter)\n",
        "            if del_score <= 0 or random.random() < math.exp(-del_score / new_Temp):\n",
        "                \n",
        "                if Descriptors.MolWt(mol) >= max_mw:\n",
        "                    return (mol, new_lig, new_score)\n",
        "                else:\n",
        "                    result = self.simulatedAnnealingRecursive(old_ligand=new_lig, \n",
        "                                                              old_score=new_score, \n",
        "                                                              old_ligand_3d=mol, \n",
        "                                                              initial_position=initial_position, \n",
        "                                                              max_mw=max_mw, \n",
        "                                                              temp=temp, \n",
        "                                                              iter=iter+1,\n",
        "                                                              coolingSchedule=coolingSchedule,\n",
        "                                                              chain_prob=chain_prob)\n",
        "                    if result is not None:\n",
        "                        return result\n",
        "        return None\n",
        "\n",
        "\n",
        "\n",
        "\n",
        "    def simulatedAnnealing(self, ligand:str='', \n",
        "                           start_score: float=0, \n",
        "                           ligand_3d=None, \n",
        "                           initial_building_position: list = [0, 0, 0], \n",
        "                           max_mw: float=100, \n",
        "                           temp: float=3000, \n",
        "                           iter = 0, \n",
        "                           coolingSchedule=None,\n",
        "                           chain_prob:float = 0):\n",
        "        return self.simulatedAnnealingRecursive(old_ligand=ligand, \n",
        "                                                old_score=start_score, \n",
        "                                                old_ligand_3d=ligand_3d, \n",
        "                                                initial_position=initial_building_position, \n",
        "                                                max_mw=max_mw, \n",
        "                                                temp=temp, \n",
        "                                                iter=iter, \n",
        "                                                coolingSchedule=coolingSchedule,\n",
        "                                                chain_prob=chain_prob)\n",
        "\n"
      ]
    },
    {
      "cell_type": "code",
      "execution_count": 3,
      "metadata": {},
      "outputs": [],
      "source": [
        "def coolingSchedule(temp, iter):\n",
        "    return temp * 0.5 ** iter\n"
      ]
    },
    {
      "cell_type": "code",
      "execution_count": 4,
      "metadata": {
        "id": "3DpV1bhUyYCa"
      },
      "outputs": [],
      "source": [
        "f_file = open(\"frags.smi\")\n",
        "frags = f_file.read().split(\"\\n\")\n",
        "frags = [re.sub(r'\\s+', '', frag) for frag in frags if '.' not in frag]"
      ]
    },
    {
      "cell_type": "code",
      "execution_count": 286,
      "metadata": {
        "id": "-_BAOXx1vkD_"
      },
      "outputs": [
        {
          "name": "stdout",
          "output_type": "stream",
          "text": [
            "Computing Vina grid ... done.\n"
          ]
        },
        {
          "name": "stderr",
          "output_type": "stream",
          "text": [
            "WARNING: Search space volume is greater than 27000 Angstrom^3 (See FAQ)\n"
          ]
        }
      ],
      "source": [
        "vina = Vina()\n",
        "\n",
        "s = SimulatedAnnealing(fragments=frags, vina=vina)\n",
        "s.setTarget(target_pdbqt_path='new_tar.pdbqt', grid_param=(None, [20, -50, 10], [40, 40, 40]))"
      ]
    },
    {
      "cell_type": "code",
      "execution_count": 293,
      "metadata": {
        "id": "3SmV1PLBAa3W"
      },
      "outputs": [
        {
          "name": "stderr",
          "output_type": "stream",
          "text": [
            "[16:40:28] Explicit valence for atom # 16 O, 3, is greater than permitted\n",
            "[16:40:28] Can't kekulize mol.  Unkekulized atoms: 17 27 28 29 30\n",
            "[16:40:28] Can't kekulize mol.  Unkekulized atoms: 23 24 25\n",
            "[16:40:28] SMILES Parse Error: ring closure 1 duplicates bond between atom 16 and atom 17 for input: 'c1(sc(nn1)N)c1c(OC(C(C1(C(=C(C(=CC1c1ccc(cc1)F)c1ccccc1)C#N)N)(C#N)C#N))C)cccc1'\n",
            "[16:40:28] Explicit valence for atom # 4 N, 6, is greater than permitted\n",
            "[16:40:28] Can't kekulize mol.  Unkekulized atoms: 25 26 27\n",
            "[16:40:28] Explicit valence for atom # 16 C, 5, is greater than permitted\n",
            "[16:40:28] Can't kekulize mol.  Unkekulized atoms: 6 7 11 12 13 14 15 21 22 23 25 37 38 39 40\n",
            "[16:40:28] Can't kekulize mol.  Unkekulized atoms: 17 28 29 33 34 35 36\n",
            "[16:40:28] Can't kekulize mol.  Unkekulized atoms: 18 19 20\n",
            "[16:40:28] Can't kekulize mol.  Unkekulized atoms: 17 18 19 20 21\n",
            "[16:40:28] Can't kekulize mol.  Unkekulized atoms: 16 17 18 19 20\n",
            "[16:40:28] Can't kekulize mol.  Unkekulized atoms: 30 31 32\n",
            "[16:40:28] Explicit valence for atom # 16 N, 6, is greater than permitted\n",
            "[16:40:28] Can't kekulize mol.  Unkekulized atoms: 14 15 16\n",
            "[16:40:28] Can't kekulize mol.  Unkekulized atoms: 17 18 19\n",
            "[16:40:28] Explicit valence for atom # 16 N, 6, is greater than permitted\n",
            "[16:40:28] Can't kekulize mol.  Unkekulized atoms: 29 30 31\n",
            "[16:40:28] Explicit valence for atom # 16 N, 6, is greater than permitted\n",
            "[16:40:28] Explicit valence for atom # 16 C, 6, is greater than permitted\n",
            "[16:40:28] Can't kekulize mol.  Unkekulized atoms: 19 20 21\n",
            "[16:40:28] Explicit valence for atom # 0 C, 6, is greater than permitted\n",
            "[16:40:28] Can't kekulize mol.  Unkekulized atoms: 19 20 21\n",
            "[16:40:28] Explicit valence for atom # 16 S, 7, is greater than permitted\n",
            "[16:40:28] Can't kekulize mol.  Unkekulized atoms: 17 28 30\n",
            "[16:40:28] Can't kekulize mol.  Unkekulized atoms: 26 37 38 39 40\n",
            "[16:40:28] Explicit valence for atom # 16 N, 6, is greater than permitted\n",
            "[16:40:28] Can't kekulize mol.  Unkekulized atoms: 21 22 23\n",
            "[16:40:28] Explicit valence for atom # 12 Cl, 2, is greater than permitted\n",
            "[16:40:28] Explicit valence for atom # 16 C, 5, is greater than permitted\n",
            "[16:40:28] Can't kekulize mol.  Unkekulized atoms: 17 32 33\n",
            "[16:40:28] Explicit valence for atom # 16 C, 6, is greater than permitted\n",
            "[16:40:28] Explicit valence for atom # 16 C, 6, is greater than permitted\n",
            "[16:40:28] Can't kekulize mol.  Unkekulized atoms: 30 31 32\n",
            "[16:40:28] Can't kekulize mol.  Unkekulized atoms: 18 19 20 21 22 23 24\n",
            "[16:40:28] Can't kekulize mol.  Unkekulized atoms: 18 19 20\n",
            "[16:40:28] Explicit valence for atom # 16 N, 6, is greater than permitted\n",
            "[16:40:28] Can't kekulize mol.  Unkekulized atoms: 13 14 15\n",
            "[16:40:28] Can't kekulize mol.  Unkekulized atoms: 31 32 33\n",
            "[16:40:28] Explicit valence for atom # 16 F, 2, is greater than permitted\n",
            "[16:40:28] Explicit valence for atom # 26 Cl, 2, is greater than permitted\n",
            "[16:40:28] Explicit valence for atom # 8 O, 3, is greater than permitted\n",
            "[16:40:28] Explicit valence for atom # 20 C, 6, is greater than permitted\n",
            "[16:40:28] Explicit valence for atom # 3 C, 6, is greater than permitted\n",
            "[16:40:28] Can't kekulize mol.  Unkekulized atoms: 6 7 12 13 15 16 17 18 19 32 33\n",
            "[16:40:28] Can't kekulize mol.  Unkekulized atoms: 11 12 13\n",
            "[16:40:28] Explicit valence for atom # 6 N, 6, is greater than permitted\n",
            "[16:40:28] Explicit valence for atom # 16 S, 7, is greater than permitted\n",
            "[16:40:28] Can't kekulize mol.  Unkekulized atoms: 18 19 20\n",
            "[16:40:28] Can't kekulize mol.  Unkekulized atoms: 20 21 22\n",
            "[16:40:28] Explicit valence for atom # 14 N, 6, is greater than permitted\n",
            "[16:40:28] Explicit valence for atom # 16 C, 6, is greater than permitted\n",
            "[16:40:28] Can't kekulize mol.  Unkekulized atoms: 20 21 22\n",
            "[16:40:28] Explicit valence for atom # 26 N, 4, is greater than permitted\n",
            "[16:40:28] Can't kekulize mol.  Unkekulized atoms: 20 21 22\n",
            "[16:40:28] Explicit valence for atom # 16 N, 6, is greater than permitted\n",
            "[16:40:28] Explicit valence for atom # 16 C, 6, is greater than permitted\n",
            "[16:40:28] Explicit valence for atom # 16 C, 5, is greater than permitted\n",
            "[16:40:28] Can't kekulize mol.  Unkekulized atoms: 20 21 22\n",
            "[16:40:28] Explicit valence for atom # 27 C, 6, is greater than permitted\n",
            "[16:40:28] Explicit valence for atom # 6 N, 5, is greater than permitted\n",
            "[16:40:28] Explicit valence for atom # 23 N, 4, is greater than permitted\n",
            "[16:40:28] Can't kekulize mol.  Unkekulized atoms: 18 19 20 22 23 24 25\n",
            "[16:40:28] Can't kekulize mol.  Unkekulized atoms: 18 19 20\n",
            "[16:40:28] Explicit valence for atom # 16 N, 6, is greater than permitted\n",
            "[16:40:28] Can't kekulize mol.  Unkekulized atoms: 21 22 23\n",
            "[16:40:28] Explicit valence for atom # 16 N, 6, is greater than permitted\n",
            "[16:40:28] Can't kekulize mol.  Unkekulized atoms: 21 22 23\n",
            "[16:40:28] Can't kekulize mol.  Unkekulized atoms: 17 18 19 20 21\n",
            "[16:40:28] Can't kekulize mol.  Unkekulized atoms: 24 25 26\n",
            "[16:40:28] Explicit valence for atom # 15 O, 3, is greater than permitted\n",
            "[16:40:28] Explicit valence for atom # 18 C, 6, is greater than permitted\n",
            "[16:40:28] Can't kekulize mol.  Unkekulized atoms: 16 17 18\n",
            "[16:40:28] Can't kekulize mol.  Unkekulized atoms: 0 2 5 18 19 20 21 23\n",
            "[16:40:28] Explicit valence for atom # 8 Cl, 2, is greater than permitted\n",
            "[16:40:28] Explicit valence for atom # 17 F, 2, is greater than permitted\n",
            "[16:40:28] Can't kekulize mol.  Unkekulized atoms: 20 21 22 23 24 25 26\n",
            "[16:40:28] Can't kekulize mol.  Unkekulized atoms: 26 27 28\n",
            "[16:40:28] Can't kekulize mol.  Unkekulized atoms: 29 30 31\n",
            "[16:40:28] Can't kekulize mol.  Unkekulized atoms: 28 29 30\n",
            "[16:40:28] Can't kekulize mol.  Unkekulized atoms: 20 21 22\n",
            "[16:40:28] Can't kekulize mol.  Unkekulized atoms: 22 23 24\n",
            "[16:40:28] Can't kekulize mol.  Unkekulized atoms: 18 19 20\n",
            "[16:40:28] Explicit valence for atom # 16 N, 4, is greater than permitted\n",
            "[16:40:28] Can't kekulize mol.  Unkekulized atoms: 18 19 20 21 30 31 32\n",
            "[16:40:28] Explicit valence for atom # 16 N, 4, is greater than permitted\n",
            "[16:40:28] Explicit valence for atom # 16 S, 7, is greater than permitted\n",
            "[16:40:28] Explicit valence for atom # 14 Cl, 2, is greater than permitted\n",
            "[16:40:28] Explicit valence for atom # 23 C, 6, is greater than permitted\n",
            "[16:40:28] Explicit valence for atom # 20 O, 3, is greater than permitted\n",
            "[16:40:28] Explicit valence for atom # 16 N, 6, is greater than permitted\n",
            "[16:40:28] Explicit valence for atom # 25 C, 6, is greater than permitted\n",
            "[16:40:28] Explicit valence for atom # 16 N, 4, is greater than permitted\n",
            "[16:40:28] Can't kekulize mol.  Unkekulized atoms: 17 18 19\n",
            "[16:40:28] Explicit valence for atom # 16 O, 3, is greater than permitted\n",
            "[16:40:28] Can't kekulize mol.  Unkekulized atoms: 27 28 29\n",
            "[16:40:28] Explicit valence for atom # 22 C, 6, is greater than permitted\n",
            "[16:40:28] Can't kekulize mol.  Unkekulized atoms: 15 16 17\n",
            "[16:40:28] Explicit valence for atom # 16 C, 5, is greater than permitted\n",
            "[16:40:28] Can't kekulize mol.  Unkekulized atoms: 22 23 24\n",
            "[16:40:28] Can't kekulize mol.  Unkekulized atoms: 18 19 20 24 25\n",
            "[16:40:28] Can't kekulize mol.  Unkekulized atoms: 35 36 37 41 42\n",
            "[16:40:28] Can't kekulize mol.  Unkekulized atoms: 0 12 13 14 15 16 17 18 22 23 26 27 28 29 30 31 32 36 37\n",
            "[16:40:28] Can't kekulize mol.  Unkekulized atoms: 0 8 9 10 14 16 17 18 19 20 39\n",
            "[16:40:28] Can't kekulize mol.  Unkekulized atoms: 35 36 37 41 42\n",
            "[16:40:28] Can't kekulize mol.  Unkekulized atoms: 23 24 25 29 30\n",
            "[16:40:28] Explicit valence for atom # 16 N, 6, is greater than permitted\n",
            "[16:40:28] Explicit valence for atom # 19 F, 2, is greater than permitted\n",
            "[16:40:28] Can't kekulize mol.  Unkekulized atoms: 30 32 33 34 35 36 37\n",
            "[16:40:28] Explicit valence for atom # 16 N, 6, is greater than permitted\n",
            "[16:40:28] Explicit valence for atom # 16 C, 5, is greater than permitted\n",
            "[16:40:28] Can't kekulize mol.  Unkekulized atoms: 33 34 35 39 40\n",
            "[16:40:28] Can't kekulize mol.  Unkekulized atoms: 32 33 34 38 39\n",
            "[16:40:28] Can't kekulize mol.  Unkekulized atoms: 35 36 37 41 42\n",
            "[16:40:28] Can't kekulize mol.  Unkekulized atoms: 30 31 32 36 37\n",
            "[16:40:28] Explicit valence for atom # 16 N, 6, is greater than permitted\n",
            "[16:40:28] Explicit valence for atom # 6 N, 4, is greater than permitted\n",
            "[16:40:28] Can't kekulize mol.  Unkekulized atoms: 34 35 36 40 41\n",
            "[16:40:28] Explicit valence for atom # 16 N, 4, is greater than permitted\n",
            "[16:40:28] Can't kekulize mol.  Unkekulized atoms: 17 19 20 21 22 23 24\n",
            "[16:40:28] Explicit valence for atom # 22 O, 3, is greater than permitted\n",
            "[16:40:28] Can't kekulize mol.  Unkekulized atoms: 28 29 30 34 35\n",
            "[16:40:28] Explicit valence for atom # 16 N, 6, is greater than permitted\n",
            "[16:40:28] Explicit valence for atom # 16 C, 5, is greater than permitted\n",
            "[16:40:28] Explicit valence for atom # 16 C, 6, is greater than permitted\n",
            "[16:40:28] Can't kekulize mol.  Unkekulized atoms: 37 38 39 43 44\n",
            "[16:40:28] Can't kekulize mol.  Unkekulized atoms: 26 27 28 32 33\n",
            "[16:40:28] Explicit valence for atom # 16 C, 5, is greater than permitted\n",
            "[16:40:28] Explicit valence for atom # 1 C, 5, is greater than permitted\n",
            "[16:40:28] Explicit valence for atom # 11 C, 6, is greater than permitted\n",
            "[16:40:28] Can't kekulize mol.  Unkekulized atoms: 23 24 25 29 30\n",
            "[16:40:28] Can't kekulize mol.  Unkekulized atoms: 22 23 24 28 29\n",
            "[16:40:28] Can't kekulize mol.  Unkekulized atoms: 33 34 35 39 40\n",
            "[16:40:28] Can't kekulize mol.  Unkekulized atoms: 18 19 20 22 23 24 25\n",
            "[16:40:28] Explicit valence for atom # 1 C, 5, is greater than permitted\n",
            "[16:40:28] Can't kekulize mol.  Unkekulized atoms: 18 19 20 22 23 24 25 26 27 28 29\n",
            "[16:40:28] Can't kekulize mol.  Unkekulized atoms: 19 20 21 25 26\n",
            "[16:40:28] Can't kekulize mol.  Unkekulized atoms: 33 34 35 39 40\n",
            "[16:40:28] Explicit valence for atom # 28 N, 4, is greater than permitted\n",
            "[16:40:28] Explicit valence for atom # 6 N, 4, is greater than permitted\n",
            "[16:40:28] Can't kekulize mol.  Unkekulized atoms: 20 21 22 26 27\n",
            "[16:40:28] Explicit valence for atom # 16 C, 6, is greater than permitted\n",
            "[16:40:28] Can't kekulize mol.  Unkekulized atoms: 14 15 16 20 21\n",
            "[16:40:28] Can't kekulize mol.  Unkekulized atoms: 21 22 23 27 28\n",
            "[16:40:28] Can't kekulize mol.  Unkekulized atoms: 20 21 22 23 24 25 26\n",
            "[16:40:28] Explicit valence for atom # 23 Cl, 2, is greater than permitted\n",
            "[16:40:28] Can't kekulize mol.  Unkekulized atoms: 30 31 32 36 37\n",
            "[16:40:28] Can't kekulize mol.  Unkekulized atoms: 31 32 33 37 38\n",
            "[16:40:28] Can't kekulize mol.  Unkekulized atoms: 28 29 30 34 35\n",
            "[16:40:28] Explicit valence for atom # 16 N, 4, is greater than permitted\n",
            "[16:40:28] Can't kekulize mol.  Unkekulized atoms: 29 30 31 35 36\n",
            "[16:40:28] Explicit valence for atom # 12 N, 4, is greater than permitted\n",
            "[16:40:28] Can't kekulize mol.  Unkekulized atoms: 31 32 33 37 38\n",
            "[16:40:28] Explicit valence for atom # 23 Cl, 2, is greater than permitted\n",
            "[16:40:28] Can't kekulize mol.  Unkekulized atoms: 30 31 32 36 37\n",
            "[16:40:28] Explicit valence for atom # 16 N, 6, is greater than permitted\n",
            "[16:40:28] Can't kekulize mol.  Unkekulized atoms: 17 18 20\n",
            "[16:40:28] Can't kekulize mol.  Unkekulized atoms: 17 18 19 24 25 26 27\n",
            "[16:40:28] Explicit valence for atom # 12 N, 4, is greater than permitted\n",
            "[16:40:28] Can't kekulize mol.  Unkekulized atoms: 27 28 29 33 34\n",
            "[16:40:28] Can't kekulize mol.  Unkekulized atoms: 32 33 34 38 39\n",
            "[16:40:28] Can't kekulize mol.  Unkekulized atoms: 35 36 37 41 42\n",
            "[16:40:28] Can't kekulize mol.  Unkekulized atoms: 17 18 19 20 21\n",
            "[16:40:28] Explicit valence for atom # 16 C, 5, is greater than permitted\n",
            "[16:40:28] Can't kekulize mol.  Unkekulized atoms: 17 19 20 21 22\n",
            "[16:40:28] Can't kekulize mol.  Unkekulized atoms: 33 34 35 39 40\n",
            "[16:40:28] Explicit valence for atom # 16 N, 6, is greater than permitted\n",
            "[16:41:11] Can't kekulize mol.  Unkekulized atoms: 1 2 3 4 5 22 23\n",
            "[16:41:11] Can't kekulize mol.  Unkekulized atoms: 27 28 29 33 34\n",
            "[16:41:11] Can't kekulize mol.  Unkekulized atoms: 26 27 28 32 33\n",
            "[16:41:11] Can't kekulize mol.  Unkekulized atoms: 37 39 40 41 42\n",
            "[16:41:11] Can't kekulize mol.  Unkekulized atoms: 31 32 33 37 38\n",
            "[16:41:11] Can't kekulize mol.  Unkekulized atoms: 37 38 39 43 44\n",
            "[16:41:11] Explicit valence for atom # 19 F, 2, is greater than permitted\n",
            "[16:41:11] Explicit valence for atom # 16 C, 5, is greater than permitted\n",
            "[16:41:11] Explicit valence for atom # 14 F, 2, is greater than permitted\n",
            "[16:41:11] Can't kekulize mol.  Unkekulized atoms: 30 31 32 36 37\n",
            "[16:41:11] Can't kekulize mol.  Unkekulized atoms: 28 29 30 34 35\n",
            "[16:41:11] Can't kekulize mol.  Unkekulized atoms: 20 21 22 26 27\n",
            "[16:41:11] Explicit valence for atom # 17 Cl, 2, is greater than permitted\n",
            "[16:41:11] Explicit valence for atom # 16 N, 4, is greater than permitted\n",
            "[16:41:11] Can't kekulize mol.  Unkekulized atoms: 35 36 37 41 42\n",
            "[16:41:11] Explicit valence for atom # 16 N, 6, is greater than permitted\n",
            "[16:41:11] Can't kekulize mol.  Unkekulized atoms: 17 18 19\n",
            "[16:41:11] Can't kekulize mol.  Unkekulized atoms: 25 26 27 31 32\n",
            "[16:41:11] Can't kekulize mol.  Unkekulized atoms: 17 37 39\n",
            "[16:41:11] Can't kekulize mol.  Unkekulized atoms: 36 37 38 42 43\n",
            "[16:41:11] Can't kekulize mol.  Unkekulized atoms: 42 43 44\n",
            "[16:41:11] Explicit valence for atom # 16 N, 4, is greater than permitted\n",
            "[16:41:11] Explicit valence for atom # 16 C, 5, is greater than permitted\n",
            "[16:41:11] Can't kekulize mol.  Unkekulized atoms: 0 8 9 10 14 15 17 18 19\n",
            "[16:41:11] Can't kekulize mol.  Unkekulized atoms: 0 8 10 11 21 22 23 28 29 33 34\n",
            "[16:41:11] Can't kekulize mol.  Unkekulized atoms: 29 30 31 35 36\n",
            "[16:41:11] SMILES Parse Error: ring closure 1 duplicates bond between atom 18 and atom 19 for input: 'c1(C(=O)NCCCN)cnc(/C=N(C1(=C(SC(=C(C1c1cocc1)C#N)N)N)C#N)\\O)cc1'\n",
            "[16:41:11] Can't kekulize mol.  Unkekulized atoms: 17 18 19 20 21 22 23 24 25\n",
            "[16:41:11] Can't kekulize mol.  Unkekulized atoms: 0 8 9 10 15 16 18 38 39\n",
            "[16:41:11] Can't kekulize mol.  Unkekulized atoms: 23 24 25 29 30\n",
            "[16:41:11] Can't kekulize mol.  Unkekulized atoms: 34 35 36 40 41\n",
            "[16:41:11] Explicit valence for atom # 16 C, 6, is greater than permitted\n",
            "[16:41:11] Can't kekulize mol.  Unkekulized atoms: 24 26 27 28 29 30 31\n",
            "[16:41:11] Can't kekulize mol.  Unkekulized atoms: 27 29 30 31 32 33 34\n",
            "[16:41:11] Can't kekulize mol.  Unkekulized atoms: 14 16 17 18 19 20 21\n",
            "[16:41:11] Can't kekulize mol.  Unkekulized atoms: 18 19 20 22 23 24 25\n",
            "[16:41:11] Can't kekulize mol.  Unkekulized atoms: 23 25 26 27 28 29 30\n",
            "[16:41:11] Can't kekulize mol.  Unkekulized atoms: 18 20 21\n",
            "[16:41:11] Can't kekulize mol.  Unkekulized atoms: 13 15 16 17 18 19 20\n",
            "[16:41:11] Can't kekulize mol.  Unkekulized atoms: 20 22 23 24 25 26 27\n",
            "[16:41:11] Can't kekulize mol.  Unkekulized atoms: 25 27 28 29 30 31 32\n",
            "[16:41:11] Explicit valence for atom # 19 O, 3, is greater than permitted\n"
          ]
        }
      ],
      "source": [
        "result = s.simulatedAnnealing(ligand='', \n",
        "                              start_score=0, \n",
        "                              ligand_3d=None, \n",
        "                              initial_building_position=[16, -40, 8], \n",
        "                              max_mw=500, \n",
        "                              temp=300, \n",
        "                              coolingSchedule=coolingSchedule,\n",
        "                              chain_prob=0.5)"
      ]
    },
    {
      "cell_type": "code",
      "execution_count": 294,
      "metadata": {},
      "outputs": [
        {
          "data": {
            "text/plain": [
              "(<rdkit.Chem.rdchem.Mol at 0x7efc26e4ee40>,\n",
              " 'c1(c(n(c2c1cccc2)CCOC)C)C(=O)ON1c2c(C3C(C1C(=O)O)CC=C3)cc(cc2Cl)Cl',\n",
              " 25.164)"
            ]
          },
          "execution_count": 294,
          "metadata": {},
          "output_type": "execute_result"
        }
      ],
      "source": [
        "result"
      ]
    },
    {
      "cell_type": "code",
      "execution_count": 295,
      "metadata": {},
      "outputs": [
        {
          "data": {
            "image/png": "[encoded data removed]",
            "text/plain": [
              "<rdkit.Chem.rdchem.Mol at 0x7efc26e4ee40>"
            ]
          },
          "execution_count": 295,
          "metadata": {},
          "output_type": "execute_result"
        }
      ],
      "source": [
        "result[0]"
      ]
    },
    {
      "cell_type": "code",
      "execution_count": 188,
      "metadata": {},
      "outputs": [],
      "source": [
        "sm2 = \"C(C)C(C)\"\n",
        "sm1 = \"OOO\""
      ]
    },
    {
      "cell_type": "code",
      "execution_count": 189,
      "metadata": {},
      "outputs": [],
      "source": [
        "lig_smile= sm2\n",
        "frag_smile = sm1"
      ]
    },
    {
      "cell_type": "code",
      "execution_count": 282,
      "metadata": {},
      "outputs": [],
      "source": [
        "def addFragmentRandomlyToLigandSmiles(lig_smile, frag_smile, chain_prob):\n",
        "    '''Return new_smile and atom Map\n",
        "    '''\n",
        "    # total atoms in ligand smiles\n",
        "    avaliable_idxs = [-1] # -1 so that at 0th place string can be added\n",
        "    # for chain\n",
        "    for i in range(len(lig_smile)): \n",
        "        if lig_smile[i].isalpha() == True: \n",
        "            avaliable_idxs.append(i)\n",
        "    avaliable_idxs.append(len(lig_smile)) # for end \n",
        "\n",
        "    # probablities\n",
        "    chain_prob = 0.1\n",
        "    end_prob = 1-chain_prob\n",
        "    avaliable_idx_probs = []\n",
        "    for i in range(len(avaliable_idxs)):\n",
        "        if i == 0 or i==len(avaliable_idxs)-1: avaliable_idx_probs.append(end_prob/2)\n",
        "        else: avaliable_idx_probs.append(chain_prob/(len(avaliable_idxs)-2))\n",
        "\n",
        "    # random position\n",
        "    position = random.choices(\n",
        "        population=avaliable_idxs,\n",
        "        weights=avaliable_idx_probs,\n",
        "        k=1\n",
        "    )[0]\n",
        "\n",
        "    new_lig_smile = ''\n",
        "    insert_len = len(frag_smile)\n",
        "    if position == avaliable_idxs[0]:\n",
        "        new_lig_smile = frag_smile + lig_smile\n",
        "    elif position == avaliable_idxs[-1]:\n",
        "        new_lig_smile =  lig_smile + frag_smile\n",
        "    else:\n",
        "        insert_len += 2\n",
        "        new_lig_smile = lig_smile[0:position+1] + '('+ frag_smile+')' + lig_smile[position+1:]\n",
        "\n",
        "\n",
        "    # creating map\n",
        "    lig_idx2atom = dict()\n",
        "    atom_idx = 0\n",
        "    for i in range(len(lig_smile)): \n",
        "        if lig_smile[i].isalpha() == True: \n",
        "            lig_idx2atom[i] = atom_idx\n",
        "            atom_idx += 1\n",
        "\n",
        "    new_lig_idx2atom = dict()\n",
        "    atom_idx = 0\n",
        "    for i in range(len(new_lig_smile)): \n",
        "        if new_lig_smile[i].isalpha() == True: \n",
        "            new_lig_idx2atom[i] = atom_idx\n",
        "            atom_idx += 1\n",
        "\n",
        "    atomMap = []\n",
        "    for k, v in lig_idx2atom.items():\n",
        "        if k<=position: atomMap.append((v, v))\n",
        "        else: atomMap.append((new_lig_idx2atom[insert_len+k], v))\n",
        "    \n",
        "\n",
        "    return new_lig_smile, atomMap"
      ]
    },
    {
      "cell_type": "code",
      "execution_count": 284,
      "metadata": {},
      "outputs": [
        {
          "data": {
            "text/plain": [
              "('CCC', [(2, 0)])"
            ]
          },
          "execution_count": 284,
          "metadata": {},
          "output_type": "execute_result"
        }
      ],
      "source": [
        "addFragmentRandomlyToLigandSmiles('C', 'CC', 0.5)"
      ]
    },
    {
      "cell_type": "code",
      "execution_count": 280,
      "metadata": {},
      "outputs": [
        {
          "name": "stdout",
          "output_type": "stream",
          "text": [
            "[(3, 0), (4, 1), (5, 2), (6, 3)]\n",
            "OOOC(C)C(C)\n"
          ]
        }
      ],
      "source": [
        "print(atomMap)\n",
        "print(new_lig_smile)"
      ]
    },
    {
      "cell_type": "code",
      "execution_count": 265,
      "metadata": {},
      "outputs": [
        {
          "name": "stdout",
          "output_type": "stream",
          "text": [
            "{0: 0, 2: 1, 4: 2, 5: 3, 6: 4, 9: 5, 11: 6}\n",
            "{0: 0, 2: 1, 4: 2, 6: 3}\n",
            "C(C(OOO))C(C)\n"
          ]
        }
      ],
      "source": [
        "print(new_lig_idx2atom)\n",
        "print(lig_idx2atom)\n",
        "print(new_lig_smile)"
      ]
    },
    {
      "cell_type": "code",
      "execution_count": 244,
      "metadata": {},
      "outputs": [
        {
          "name": "stdout",
          "output_type": "stream",
          "text": [
            "-1\n",
            "OOOC(C)C(C)\n"
          ]
        }
      ],
      "source": [
        "print(position)\n",
        "print(new_lig_smile)"
      ]
    },
    {
      "cell_type": "code",
      "execution_count": 246,
      "metadata": {},
      "outputs": [
        {
          "data": {
            "image/png": "[encoded data removed]",
            "text/plain": [
              "<rdkit.Chem.rdchem.Mol at 0x7efc27369510>"
            ]
          },
          "execution_count": 246,
          "metadata": {},
          "output_type": "execute_result"
        }
      ],
      "source": [
        "smiles1 = 'CCO'  # Example molecule 1: Ethanol\n",
        "smiles2 = 'O=C=O'  # Example molecule 2: Carbon dioxide\n",
        "\n",
        "# Create RDKit molecule objects from the SMILES strings\n",
        "mol1 = Chem.MolFromSmiles(smiles1)\n",
        "mol2 = Chem.MolFromSmiles(smiles2)\n",
        "\n",
        "# Combine the two molecules into a single molecule\n",
        "combined_mol = Chem.CombineMols(mol1, mol2)\n",
        "combined_mol"
      ]
    },
    {
      "cell_type": "code",
      "execution_count": 209,
      "metadata": {},
      "outputs": [
        {
          "data": {
            "text/plain": [
              "[(0, 6), (1, 8), (2, 6), (3, 8), (4, 6), (5, 6)]"
            ]
          },
          "execution_count": 209,
          "metadata": {},
          "output_type": "execute_result"
        }
      ],
      "source": [
        "m1 = Chem.MolFromSmiles(\"C(O)C(O)C(C)\")\n",
        "[(atom.GetIdx(), atom.GetAtomicNum()) for atom in m1.GetAtoms()]"
      ]
    },
    {
      "cell_type": "code",
      "execution_count": 210,
      "metadata": {},
      "outputs": [
        {
          "ename": "SyntaxError",
          "evalue": "invalid syntax (2871620560.py, line 2)",
          "output_type": "error",
          "traceback": [
            "\u001b[0;36m  Cell \u001b[0;32mIn[210], line 2\u001b[0;36m\u001b[0m\n\u001b[0;31m    print(new_lig_smile)avaliable_idxs\u001b[0m\n\u001b[0m                        ^\u001b[0m\n\u001b[0;31mSyntaxError\u001b[0m\u001b[0;31m:\u001b[0m invalid syntax\n"
          ]
        }
      ],
      "source": [
        "print(position)\n",
        "print(new_lig_smile)"
      ]
    },
    {
      "cell_type": "code",
      "execution_count": 198,
      "metadata": {},
      "outputs": [
        {
          "data": {
            "text/plain": [
              "[0.45, 0.025, 0.025, 0.025, 0.025, 0.45]"
            ]
          },
          "execution_count": 198,
          "metadata": {},
          "output_type": "execute_result"
        }
      ],
      "source": [
        "avaliable_idx_probs"
      ]
    },
    {
      "cell_type": "code",
      "execution_count": 91,
      "metadata": {},
      "outputs": [
        {
          "data": {
            "text/plain": [
              "'dd'"
            ]
          },
          "execution_count": 91,
          "metadata": {},
          "output_type": "execute_result"
        }
      ],
      "source": [
        "a = \"dd\"\n",
        "b = a\n",
        "b = b+'r'\n",
        "a"
      ]
    },
    {
      "cell_type": "code",
      "execution_count": 87,
      "metadata": {},
      "outputs": [
        {
          "data": {
            "text/plain": [
              "[0.25, 0.16666666666666666, 0.16666666666666666, 0.16666666666666666, 0.25]"
            ]
          },
          "execution_count": 87,
          "metadata": {},
          "output_type": "execute_result"
        }
      ],
      "source": [
        "avaliable_idx_probs"
      ]
    },
    {
      "cell_type": "code",
      "execution_count": 88,
      "metadata": {},
      "outputs": [
        {
          "data": {
            "text/plain": [
              "[-1, 0, 1, 2, 4]"
            ]
          },
          "execution_count": 88,
          "metadata": {},
          "output_type": "execute_result"
        }
      ],
      "source": [
        "avaliable_idxs"
      ]
    },
    {
      "cell_type": "code",
      "execution_count": 84,
      "metadata": {},
      "outputs": [
        {
          "data": {
            "text/plain": [
              "9"
            ]
          },
          "execution_count": 84,
          "metadata": {},
          "output_type": "execute_result"
        }
      ],
      "source": [
        "total_atoms"
      ]
    },
    {
      "cell_type": "code",
      "execution_count": 82,
      "metadata": {},
      "outputs": [
        {
          "data": {
            "text/plain": [
              "False"
            ]
          },
          "execution_count": 82,
          "metadata": {},
          "output_type": "execute_result"
        }
      ],
      "source": [
        "''.isalpha()"
      ]
    },
    {
      "cell_type": "code",
      "execution_count": 76,
      "metadata": {},
      "outputs": [
        {
          "data": {
            "image/png": "[encoded data removed]",
            "text/plain": [
              "<rdkit.Chem.rdchem.Mol at 0x7efc270a9900>"
            ]
          },
          "execution_count": 76,
          "metadata": {},
          "output_type": "execute_result"
        }
      ],
      "source": [
        "m3 = Chem.MolFromSmiles(\"C1CCCC1C(COOC)C(C)(C)\")\n",
        "m3 = AllChem.AddHs(m3)\n",
        "sucess = AllChem.EmbedMolecule(m3)\n",
        "m3"
      ]
    },
    {
      "cell_type": "code",
      "execution_count": 68,
      "metadata": {},
      "outputs": [],
      "source": [
        "a = m2.GetAtomWithIdx(3)\n"
      ]
    },
    {
      "cell_type": "code",
      "execution_count": 69,
      "metadata": {},
      "outputs": [
        {
          "data": {
            "text/plain": [
              "6"
            ]
          },
          "execution_count": 69,
          "metadata": {},
          "output_type": "execute_result"
        }
      ],
      "source": [
        "a.GetAtomicNum()"
      ]
    },
    {
      "cell_type": "code",
      "execution_count": 70,
      "metadata": {},
      "outputs": [
        {
          "name": "stdout",
          "output_type": "stream",
          "text": [
            "1.1506860549298685 0.7007709055710742 0.6038579454174144 6\n",
            "2.671561894789035 0.5710908165379416 0.38934213779486676 6\n",
            "2.8881113333319695 -0.7895211566861843 -0.19945841780626197 6\n",
            "1.5205311347781933 -1.4460729540782757 -0.21551350645983608 6\n",
            "0.6245466667371755 -0.2181836119986849 -0.4422927516155217 6\n",
            "-0.7933784810924638 -0.6369006667097407 -0.31252473407295656 6\n",
            "-1.8278239838704928 0.41963344609341324 -0.342688609452989 6\n",
            "-1.7749741014189406 1.4687647083163307 0.7047072641269793 6\n",
            "-3.179996662718203 -0.30111679448638884 -0.18160784891629328 6\n",
            "0.933410294470462 1.7580833119836812 0.48880577333774816 1\n",
            "0.9326489912638745 0.25999595264309017 1.596966375224916 1\n",
            "3.148444695266622 0.6215245159322546 1.3901929366472745 1\n",
            "3.026308079967616 1.3909077784891646 -0.26474799007600264 1\n",
            "3.2369777778768736 -0.7357949331437094 -1.2677949376956994 1\n",
            "3.629765010789062 -1.3896780003933267 0.3703991553344848 1\n",
            "1.269510294142485 -1.8038862065662855 0.8023600981059081 1\n",
            "1.40596798565907 -2.1887432574340484 -1.004171966287759 1\n",
            "0.8697274277381807 0.10939917084963666 -1.4775561619888764 1\n",
            "-1.0005003456555186 -1.3086390906385181 -1.200382762908541 1\n",
            "-0.9121504169834279 -1.30394612144605 0.5672440033142983 1\n",
            "-1.8724846500113836 0.9308751733719484 -1.3326569160128576 1\n",
            "-1.3337021851318744 2.4301451505990403 0.3724300935795422 1\n",
            "-1.2579621258268265 1.1729593145133572 1.6340714375604246 1\n",
            "-2.844333616082474 1.7535290527856273 0.9573406952797124 1\n",
            "-3.3951708545427164 -0.9170082324378992 -1.0628811341126847 1\n",
            "-3.9848525752530786 0.4347774511707507 0.05628331846511645 1\n",
            "-3.130867643153169 -0.9829657228381988 0.7072906049771134 1\n"
          ]
        }
      ],
      "source": [
        "c = m2.GetConformer()\n",
        "atoms = m2.GetAtomWithIdx\n",
        "for i in range(c.GetNumAtoms()):\n",
        "    pos = c.GetAtomPosition(i)\n",
        "    print(pos.x, pos.y, pos.z, m2.GetAtomWithIdx(i).GetAtomicNum())"
      ]
    },
    {
      "cell_type": "code",
      "execution_count": 73,
      "metadata": {},
      "outputs": [
        {
          "name": "stdout",
          "output_type": "stream",
          "text": [
            "21.407120853409737 22.077154387455003 20.0957800004924 6\n",
            "22.614393207818836 22.652203786277855 20.79257296516815 6\n",
            "23.509022302448315 21.50171408310428 21.14765905986584 6\n",
            "22.87616908583483 20.30676707589393 20.401351040941165 6\n",
            "21.395294005177323 20.59199879931908 20.412847503571133 6\n",
            "20.666564061276485 19.798410285302367 19.386148603330188 6\n",
            "19.22173056843407 20.222262475419953 19.220044807788504 6\n",
            "18.403662452006152 20.091200953104945 20.4753293342299 6\n",
            "16.992821006461842 20.57079551328307 20.106992690067624 6\n",
            "16.1694033605043 20.438422577190064 21.372895037442454 6\n",
            "16.360581954957922 19.636282321881474 19.08489984860032 6\n",
            "20.610771157962816 18.324194023337718 19.60320732313953 6\n",
            "19.82143233788491 17.643734193282246 18.475022664441752 6\n",
            "21.89197975435199 17.59759034274864 19.748938725606358 6\n",
            "21.520723875670512 22.278228629832356 19.02178566636841 1\n",
            "20.506753253416445 22.586927056650467 20.502526426632826 1\n",
            "22.342795555075472 23.26595743700678 21.671233611120883 1\n",
            "23.207814908924842 23.321953413405232 20.11889719834377 1\n",
            "24.533528412164078 21.59019862667465 20.74126186331159 1\n",
            "23.583706667960538 21.307523762653425 22.222091450280445 1\n",
            "23.22261107248402 20.316614953062864 19.363588274808023 1\n",
            "23.20056648136794 19.45331035047634 20.992526510589297 1\n",
            "20.915130973806292 20.459142450240794 21.398743082728203 1\n",
            "21.15310378412875 19.978935669542157 18.404167637315872 1\n",
            "19.114191148137667 21.24420060091605 18.81900810704238 1\n",
            "18.77342386049048 19.546359713330112 18.463791506893912 1\n",
            "18.746577400252335 20.751885757656968 21.287898511647146 1\n",
            "18.250240936921656 19.03963470073714 20.79364227939951 1\n",
            "17.00407958495006 21.609332298432275 19.77204008114715 1\n",
            "16.829964799024197 20.477304599696577 22.28458055657544 1\n",
            "15.651459400792437 19.45389306217294 21.39154821379543 1\n",
            "15.415390895710342 21.242870474163276 21.444068147751988 1\n",
            "16.6562037746951 18.59821066259239 19.23650446059417 1\n",
            "16.609745422336985 19.976467950451937 18.06343476657367 1\n",
            "15.238745787796702 19.658533350006483 19.192608414309255 1\n",
            "20.04210965824813 18.148047006806163 20.564671927930142 1\n",
            "19.997722790396285 18.14696433060109 17.522818490148232 1\n",
            "20.20722330705381 16.608054631512374 18.406312317747652 1\n",
            "18.75323174791411 17.539185850358752 18.752218970019463 1\n",
            "22.158966447500955 17.35694160012023 20.801961904566863 1\n",
            "21.739736198375674 16.561995656025516 19.3011152562841 1\n",
            "22.683305745874783 18.02859458727356 19.141264761388612 1\n"
          ]
        }
      ],
      "source": [
        "c = m3.GetConformer()\n",
        "atoms = m3.GetAtomWithIdx\n",
        "for i in range(c.GetNumAtoms()):\n",
        "    pos = c.GetAtomPosition(i)\n",
        "    pos.x += 20\n",
        "    pos.y += 20\n",
        "    pos.z += 20\n",
        "\n",
        "    c.SetAtomPosition(i, pos)\n",
        "    print(pos.x, pos.y, pos.z, m3.GetAtomWithIdx(i).GetAtomicNum())"
      ]
    },
    {
      "cell_type": "code",
      "execution_count": 74,
      "metadata": {},
      "outputs": [
        {
          "ename": "RuntimeError",
          "evalue": "No sub-structure match found between the probe and query mol",
          "output_type": "error",
          "traceback": [
            "\u001b[0;31m---------------------------------------------------------------------------\u001b[0m",
            "\u001b[0;31mRuntimeError\u001b[0m                              Traceback (most recent call last)",
            "Cell \u001b[0;32mIn[74], line 1\u001b[0m\n\u001b[0;32m----> 1\u001b[0m \u001b[43mAllChem\u001b[49m\u001b[38;5;241;43m.\u001b[39;49m\u001b[43mAlignMol\u001b[49m\u001b[43m(\u001b[49m\u001b[43mm3\u001b[49m\u001b[43m,\u001b[49m\u001b[43m \u001b[49m\u001b[43mm2\u001b[49m\u001b[43m)\u001b[49m\n",
            "\u001b[0;31mRuntimeError\u001b[0m: No sub-structure match found between the probe and query mol"
          ]
        }
      ],
      "source": [
        "AllChem.AlignMol(m3, m2, )"
      ]
    },
    {
      "cell_type": "code",
      "execution_count": 65,
      "metadata": {},
      "outputs": [],
      "source": [
        "c: rdkit.Chem.rdchem.Conformer\n",
        "for x in c.GetPropNames(): print(x)"
      ]
    },
    {
      "cell_type": "code",
      "execution_count": null,
      "metadata": {},
      "outputs": [],
      "source": []
    },
    {
      "cell_type": "code",
      "execution_count": null,
      "metadata": {},
      "outputs": [],
      "source": []
    },
    {
      "cell_type": "code",
      "execution_count": null,
      "metadata": {},
      "outputs": [],
      "source": []
    },
    {
      "cell_type": "code",
      "execution_count": 49,
      "metadata": {},
      "outputs": [
        {
          "data": {
            "text/plain": [
              "(<rdkit.Chem.rdchem.Mol at 0x7efc27288a50>,\n",
              " 'c1(N2CCCC2)cc(C(=O)O)ccc1CC(c1ncccc1)(c1ccccc1)NCCCOCCC(=O)NC(c1ccc(cc1)OCC)C',\n",
              " 80.417)"
            ]
          },
          "execution_count": 49,
          "metadata": {},
          "output_type": "execute_result"
        }
      ],
      "source": [
        "result"
      ]
    },
    {
      "cell_type": "code",
      "execution_count": 136,
      "metadata": {},
      "outputs": [
        {
          "data": {
            "image/png": "[encoded data removed]",
            "text/plain": [
              "<rdkit.Chem.rdchem.Mol at 0x7f7eb34d7f90>"
            ]
          },
          "execution_count": 136,
          "metadata": {},
          "output_type": "execute_result"
        }
      ],
      "source": [
        "result[0]"
      ]
    },
    {
      "cell_type": "code",
      "execution_count": 112,
      "metadata": {
        "colab": {
          "base_uri": "https://localhost:8080/"
        },
        "id": "pP7xEcr5c8ig",
        "outputId": "0fc6bf98-89c9-42c1-a476-01c0b66688d3"
      },
      "outputs": [
        {
          "data": {
            "text/plain": [
              "520.3830000000004"
            ]
          },
          "execution_count": 112,
          "metadata": {},
          "output_type": "execute_result"
        }
      ],
      "source": [
        "Descriptors.HeavyAtomMolWt(result[0])"
      ]
    },
    {
      "cell_type": "code",
      "execution_count": null,
      "metadata": {
        "id": "QQMwYyIJ9CHS"
      },
      "outputs": [],
      "source": [
        "pdb = s.rdkitToPdbqt(result[0])\n",
        "\n",
        "f = open('simple.pdbqt', 'w')\n",
        "f.write(pdb)\n",
        "f.close()"
      ]
    },
    {
      "cell_type": "code",
      "execution_count": 137,
      "metadata": {
        "colab": {
          "base_uri": "https://localhost:8080/"
        },
        "id": "Ds_Jd5dW-YSo",
        "outputId": "f491af8e-3a0b-4d6e-b954-093c47814724"
      },
      "outputs": [],
      "source": [
        "vina.set_ligand_from_string(s.rdkitToPdbqt(result[0]))\n",
        "# vina.optimize()"
      ]
    },
    {
      "cell_type": "code",
      "execution_count": 138,
      "metadata": {},
      "outputs": [],
      "source": [
        "vina.write_pose(\"ulig11.pdbqt\")"
      ]
    },
    {
      "cell_type": "code",
      "execution_count": 139,
      "metadata": {
        "colab": {
          "base_uri": "https://localhost:8080/"
        },
        "id": "g1GW88jS-hMD",
        "outputId": "d2b91b14-07af-430b-8ea3-897903671bf8"
      },
      "outputs": [
        {
          "data": {
            "text/plain": [
              "array([171.436, 256.624,   0.   ,   0.   ,   0.   ,   0.35 , -85.188,\n",
              "         0.35 ])"
            ]
          },
          "execution_count": 139,
          "metadata": {},
          "output_type": "execute_result"
        }
      ],
      "source": [
        "vina.score()"
      ]
    },
    {
      "cell_type": "code",
      "execution_count": 140,
      "metadata": {
        "colab": {
          "base_uri": "https://localhost:8080/"
        },
        "id": "_s1_4kin7Kiu",
        "outputId": "10d85ddf-aa35-4fef-f11e-626d05aa68c1"
      },
      "outputs": [
        {
          "name": "stdout",
          "output_type": "stream",
          "text": [
            "Performing docking (random seed: 810768273) ... \n",
            "0%   10   20   30   40   50   60   70   80   90   100%\n",
            "|----|----|----|----|----|----|----|----|----|----|\n",
            "***************************************************\n",
            "\n",
            "mode |   affinity | dist from best mode\n",
            "     | (kcal/mol) | rmsd l.b.| rmsd u.b.\n",
            "-----+------------+----------+----------\n",
            "   1       -9.916          0          0\n"
          ]
        },
        {
          "name": "stderr",
          "output_type": "stream",
          "text": [
            "WARNING: At low exhaustiveness, it may be impossible to utilize all CPUs.\n"
          ]
        }
      ],
      "source": [
        "vina.dock(n_poses=1)"
      ]
    },
    {
      "cell_type": "code",
      "execution_count": null,
      "metadata": {
        "id": "9Z0QCyKZ1oop"
      },
      "outputs": [],
      "source": [
        "vina.write_poses('out.pdbqt', n_poses=1, overwrite=True)"
      ]
    },
    {
      "cell_type": "code",
      "execution_count": 72,
      "metadata": {
        "colab": {
          "base_uri": "https://localhost:8080/"
        },
        "id": "MAE8ddSt7Ybc",
        "outputId": "0f2591f9-c6ce-47f2-c7a4-7825ae1ae395"
      },
      "outputs": [
        {
          "data": {
            "text/plain": [
              "array([[-10.072, -17.137,  -3.196,   7.065,  -3.196]])"
            ]
          },
          "execution_count": 72,
          "metadata": {},
          "output_type": "execute_result"
        }
      ],
      "source": [
        "vina.energies()"
      ]
    },
    {
      "cell_type": "code",
      "execution_count": 141,
      "metadata": {
        "id": "sJZ-Ug4A8GDW"
      },
      "outputs": [],
      "source": [
        "vina.write_pose(\"lig11.pdbqt\")"
      ]
    },
    {
      "cell_type": "code",
      "execution_count": 121,
      "metadata": {},
      "outputs": [],
      "source": [
        "def read_pdbqt(filename):\n",
        "    mol = next(pb.readfile(\"pdbqt\", filename))\n",
        "    return Chem.MolFromMolBlock(mol.write(\"mol\"))"
      ]
    },
    {
      "cell_type": "code",
      "execution_count": 122,
      "metadata": {},
      "outputs": [],
      "source": [
        "mol = read_pdbqt(\"lig6.pdbqt\")"
      ]
    },
    {
      "cell_type": "code",
      "execution_count": 123,
      "metadata": {},
      "outputs": [
        {
          "data": {
            "image/png": "[encoded data removed]",
            "text/plain": [
              "<rdkit.Chem.rdchem.Mol at 0x7f7eb34d7120>"
            ]
          },
          "execution_count": 123,
          "metadata": {},
          "output_type": "execute_result"
        }
      ],
      "source": [
        "mol"
      ]
    },
    {
      "cell_type": "code",
      "execution_count": 142,
      "metadata": {},
      "outputs": [],
      "source": [
        "c = mol.GetConformer()"
      ]
    },
    {
      "cell_type": "code",
      "execution_count": 144,
      "metadata": {},
      "outputs": [
        {
          "name": "stdout",
          "output_type": "stream",
          "text": [
            "23.224 -41.728 9.705\n",
            "24.658 -41.539 9.373\n",
            "25.559 -42.694 9.631\n",
            "24.941 -43.966 9.407\n",
            "25.68 -45.014 8.825\n",
            "25.16 -46.132 8.622\n",
            "27.09 -44.8 8.447\n",
            "23.582 -44.171 9.779\n",
            "22.635 -43.081 9.433\n",
            "22.056 -43.206 8.084\n",
            "22.851 -43.155 6.939\n",
            "24.084 -43.042 6.758\n",
            "21.732 -43.291 5.545\n",
            "20.355 -43.976 6.553\n",
            "20.681 -43.379 7.853\n",
            "19.776 -43.057 8.679\n",
            "20.6 -45.483 6.569\n",
            "19.344 -46.239 6.462\n",
            "18.372 -45.807 7.057\n",
            "19.172 -47.716 5.533\n",
            "21.262 -40.224 9.494\n",
            "20.547 -39.207 8.953\n",
            "21.127 -38.537 7.903\n",
            "22.394 -38.892 7.421\n",
            "23.017 -39.933 8.044\n",
            "22.461 -40.627 9.101\n",
            "19.233 -38.869 9.476\n",
            "18.891 -37.631 9.924\n",
            "17.618 -37.336 10.42\n",
            "16.666 -38.315 10.463\n",
            "16.991 -39.579 10.013\n",
            "18.254 -39.843 9.529\n",
            "17.334 -35.993 10.882\n",
            "16.574 -35.85 11.874\n",
            "17.867 -34.859 10.272\n"
          ]
        }
      ],
      "source": [
        "for i in range(c.GetNumAtoms()):\n",
        "    pos = c.GetAtomPosition(i)\n",
        "    print(pos.x, pos.y, pos.z)"
      ]
    },
    {
      "cell_type": "code",
      "execution_count": null,
      "metadata": {},
      "outputs": [],
      "source": []
    }
  ],
  "metadata": {
    "colab": {
      "provenance": []
    },
    "kernelspec": {
      "display_name": "Python 3",
      "name": "python3"
    },
    "language_info": {
      "codemirror_mode": {
        "name": "ipython",
        "version": 3
      },
      "file_extension": ".py",
      "mimetype": "text/x-python",
      "name": "python",
      "nbconvert_exporter": "python",
      "pygments_lexer": "ipython3",
      "version": "3.9.12"
    }
  },
  "nbformat": 4,
  "nbformat_minor": 0
}
