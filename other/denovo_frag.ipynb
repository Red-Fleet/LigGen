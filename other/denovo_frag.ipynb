{
  "cells": [
    {
      "cell_type": "code",
      "execution_count": 2,
      "metadata": {
        "id": "AKykjHjlbGT6"
      },
      "outputs": [
        {
          "data": {
            "text/plain": [
              "<module 'mcsa' from '/home/red_fleet/cb/denovo-frag/mcsa.py'>"
            ]
          },
          "execution_count": 2,
          "metadata": {},
          "output_type": "execute_result"
        }
      ],
      "source": [
        "from vina import Vina\n",
        "from openbabel import openbabel as ob\n",
        "from openbabel import pybel as pb\n",
        "from rdkit import Chem\n",
        "from rdkit.Chem import AllChem, Descriptors, Draw\n",
        "import time\n",
        "import rdkit\n",
        "import matplotlib.pyplot as plt\n",
        "import random\n",
        "import math\n",
        "import re\n",
        "import os\n",
        "import numpy as np\n",
        "from rdkit.Chem import RDConfig\n",
        "import sys\n",
        "sys.path.append(os.path.join(RDConfig.RDContribDir, \"SA_Score\"))\n",
        "import sascorer\n",
        "import rdkit.Chem\n",
        "import utils as utils\n",
        "from rdkit import RDLogger\n",
        "import importlib\n",
        "importlib.reload(utils)\n",
        "import mcsa\n",
        "importlib.reload(mcsa)\n",
        "\n"
      ]
    },
    {
      "cell_type": "code",
      "execution_count": 363,
      "metadata": {},
      "outputs": [],
      "source": [
        "RDLogger.DisableLog('rdApp.*')"
      ]
    },
    {
      "cell_type": "code",
      "execution_count": 481,
      "metadata": {
        "id": "5denOWVYfxyD"
      },
      "outputs": [],
      "source": []
    },
    {
      "cell_type": "code",
      "execution_count": 413,
      "metadata": {},
      "outputs": [
        {
          "data": {
            "text/plain": [
              "12"
            ]
          },
          "execution_count": 413,
          "metadata": {},
          "output_type": "execute_result"
        }
      ],
      "source": [
        "len(s.getSmilesIdx('n1(c(nnc1)S)c1cnccc1'))"
      ]
    },
    {
      "cell_type": "code",
      "execution_count": 7,
      "metadata": {},
      "outputs": [],
      "source": [
        "def fun(a, b):\n",
        "    print(a, b)"
      ]
    },
    {
      "cell_type": "code",
      "execution_count": 9,
      "metadata": {},
      "outputs": [
        {
          "ename": "TypeError",
          "evalue": "fun() missing 1 required positional argument: 'b'",
          "output_type": "error",
          "traceback": [
            "\u001b[0;31m---------------------------------------------------------------------------\u001b[0m",
            "\u001b[0;31mTypeError\u001b[0m                                 Traceback (most recent call last)",
            "Cell \u001b[0;32mIn[9], line 1\u001b[0m\n\u001b[0;32m----> 1\u001b[0m \u001b[43mfun\u001b[49m\u001b[43m(\u001b[49m\u001b[43ma\u001b[49m\u001b[38;5;241;43m=\u001b[39;49m\u001b[43m \u001b[49m\u001b[38;5;241;43m10\u001b[39;49m\u001b[43m)\u001b[49m\n",
            "\u001b[0;31mTypeError\u001b[0m: fun() missing 1 required positional argument: 'b'"
          ]
        }
      ],
      "source": [
        "fun(a= 10)"
      ]
    },
    {
      "cell_type": "code",
      "execution_count": 2,
      "metadata": {},
      "outputs": [],
      "source": [
        "import re"
      ]
    },
    {
      "cell_type": "code",
      "execution_count": 3,
      "metadata": {},
      "outputs": [
        {
          "data": {
            "text/plain": [
              "'sdfsdf'"
            ]
          },
          "execution_count": 3,
          "metadata": {},
          "output_type": "execute_result"
        }
      ],
      "source": [
        "re.sub(r'\\s+', '', \"sdf sdf\")"
      ]
    },
    {
      "cell_type": "code",
      "execution_count": 311,
      "metadata": {
        "id": "3DpV1bhUyYCa"
      },
      "outputs": [],
      "source": [
        "f_file = open(\"frags.smi\")\n",
        "frags = f_file.read().split(\"\\n\")\n",
        "frags = [re.sub(r'\\s+', '', frag) for frag in frags if '.' not in frag]"
      ]
    },
    {
      "cell_type": "code",
      "execution_count": 317,
      "metadata": {},
      "outputs": [
        {
          "data": {
            "text/plain": [
              "937"
            ]
          },
          "execution_count": 317,
          "metadata": {},
          "output_type": "execute_result"
        }
      ],
      "source": [
        "frags = [smi for smi in frags if len(smi)<=20]\n",
        "len(frags)"
      ]
    },
    {
      "cell_type": "code",
      "execution_count": 3,
      "metadata": {},
      "outputs": [],
      "source": []
    },
    {
      "cell_type": "code",
      "execution_count": 524,
      "metadata": {
        "id": "-_BAOXx1vkD_"
      },
      "outputs": [
        {
          "name": "stdout",
          "output_type": "stream",
          "text": [
            "Computing Vina grid ... done.\n"
          ]
        }
      ],
      "source": [
        "vina = Vina()\n",
        "\n",
        "s = mcsa.SimulatedAnnealing(fragments=frags, vina=vina)\n",
        "name = \"7d9o\"\n",
        "center, size = getGridFromLigand(f\"/home/red_fleet/cb/programs/protien_seprate/out_folder/{name}/{name}_lig.pdb\", 'pdb')\n",
        "s.setTarget(target_pdbqt_path=f'/home/red_fleet/cb/programs/protien_seprate/out_folder/{name}/{name}.pdbqt', grid_param=(None, center, size))"
      ]
    },
    {
      "cell_type": "code",
      "execution_count": 5,
      "metadata": {},
      "outputs": [
        {
          "data": {
            "text/plain": [
              "(array([-13.5265, -43.287 ,  27.2615]), array([23.975, 20.   , 20.717]))"
            ]
          },
          "execution_count": 5,
          "metadata": {},
          "output_type": "execute_result"
        }
      ],
      "source": [
        "getGridFromLigand(f\"/home/red_fleet/cb/programs/protien_seprate/out_folder/7d9o/7d9o_lig.pdb\", 'pdb')"
      ]
    },
    {
      "cell_type": "code",
      "execution_count": 1,
      "metadata": {},
      "outputs": [
        {
          "ename": "NameError",
          "evalue": "name 'center' is not defined",
          "output_type": "error",
          "traceback": [
            "\u001b[0;31m---------------------------------------------------------------------------\u001b[0m",
            "\u001b[0;31mNameError\u001b[0m                                 Traceback (most recent call last)",
            "Cell \u001b[0;32mIn[1], line 1\u001b[0m\n\u001b[0;32m----> 1\u001b[0m \u001b[43mcenter\u001b[49m\n",
            "\u001b[0;31mNameError\u001b[0m: name 'center' is not defined"
          ]
        }
      ],
      "source": [
        "center, size"
      ]
    },
    {
      "cell_type": "code",
      "execution_count": 486,
      "metadata": {},
      "outputs": [],
      "source": [
        "result = []"
      ]
    },
    {
      "cell_type": "code",
      "execution_count": 525,
      "metadata": {},
      "outputs": [
        {
          "name": "stdout",
          "output_type": "stream",
          "text": [
            "Performing local search ... done.\n",
            "Performing local search ... done.\n",
            "Performing local search ... done.\n",
            "Performing local search ... done.\n",
            "Performing local search ... done.\n",
            "Performing local search ... done.\n",
            "Performing local search ... done.\n",
            "Performing local search ... done.\n",
            "Performing local search ... done.\n",
            "Performing local search ... done.\n",
            "Performing local search ... done.\n",
            "Performing local search ... done.\n",
            "Performing local search ... done.\n",
            "Performing local search ... done.\n",
            "Performing local search ... done.\n",
            "Performing local search ... done.\n",
            "Performing local search ... done.\n",
            "Performing local search ... done.\n",
            "Performing local search ... done.\n",
            "Performing local search ... done.\n",
            "Performing local search ... done.\n",
            "Performing local search ... done.\n",
            "Performing local search ... done.\n",
            "Performing local search ... done.\n",
            "Performing local search ... done.\n",
            "Performing local search ... done.\n",
            "Performing local search ... done.\n",
            "Performing local search ... done.\n",
            "Performing local search ... done.\n",
            "Performing local search ... done.\n",
            "Performing local search ... done.\n",
            "Performing local search ... done.\n",
            "Performing local search ... done.\n",
            "Performing local search ... done.\n",
            "Performing local search ... done.\n",
            "Performing local search ... done.\n",
            "Performing local search ... done.\n",
            "Performing local search ... done.\n",
            "Performing local search ... done.\n"
          ]
        }
      ],
      "source": [
        "for i in range(1):\n",
        "    r, d = s.simulatedAnnealing(ligand='', \n",
        "                                    start_score=0,  \n",
        "                                    initial_building_position=center, \n",
        "                                    max_mw=500, \n",
        "                                    temp=10, \n",
        "                                    end_prob=1,\n",
        "                                    vina_score_weight=0.9,\n",
        "                                    max_iter_at_state = 100)\n",
        "    result.append((r, d))"
      ]
    },
    {
      "cell_type": "code",
      "execution_count": 526,
      "metadata": {},
      "outputs": [
        {
          "data": {
            "text/plain": [
              "(<rdkit.Chem.rdchem.Mol at 0x7ff102ab7eb0>,\n",
              " {'total_frag_screened': 1274,\n",
              "  'total_frag_rejected_mpc': 21,\n",
              "  'state_details': [{'added_frag': 'c1(occc1)CCC(NC)C',\n",
              "    'in_ligand': '',\n",
              "    'out_ligand': 'c1(occc1)CCC(NC)C',\n",
              "    'total_score': -3.5068488993727587,\n",
              "    'vina_score': -4.74,\n",
              "    'sa_score': 7.591511006272416},\n",
              "   {'added_frag': 'N1C(=O)CCC1CCC(=O)O',\n",
              "    'in_ligand': 'c1(occc1)CCC(NC)C',\n",
              "    'out_ligand': 'c1(occc1)CCC(NC)CN1C(=O)CCC1CCC(=O)O',\n",
              "    'total_score': -1.6562391531150715,\n",
              "    'vina_score': -2.613,\n",
              "    'sa_score': 6.954608468849288},\n",
              "   {'added_frag': 'N1CC(C)(C)CCC1',\n",
              "    'in_ligand': 'c1(occc1)CCC(NC)CN1C(=O)CCC1CCC(=O)O',\n",
              "    'out_ligand': 'c1(occc1)CCC(NC)CN1C(=O)CCC1CCC(=O)ON1CC(C)(C)CCC1',\n",
              "    'total_score': -1.599199203061023,\n",
              "    'vina_score': -2.624,\n",
              "    'sa_score': 7.624007969389774},\n",
              "   {'added_frag': 'C(C(=O)O)C1(O)CCCCC1',\n",
              "    'in_ligand': 'c1(occc1)CCC(NC)CN1C(=O)CCC1CCC(=O)ON1CC(C)(C)CCC1',\n",
              "    'out_ligand': 'c1(occc1)CCC(NC)CN1C(=O)CCC1CCC(=O)ON1CC(C)(C)CCC1C(C(=O)O)C1(O)CCCCC1',\n",
              "    'total_score': -3.7472907960031536,\n",
              "    'vina_score': -5.023,\n",
              "    'sa_score': 7.734092039968463}]})"
            ]
          },
          "execution_count": 526,
          "metadata": {},
          "output_type": "execute_result"
        }
      ],
      "source": [
        "result[-1]"
      ]
    },
    {
      "cell_type": "code",
      "execution_count": 505,
      "metadata": {},
      "outputs": [],
      "source": [
        "result = result[10:20]"
      ]
    },
    {
      "cell_type": "code",
      "execution_count": 519,
      "metadata": {},
      "outputs": [
        {
          "data": {
            "image/png": "[encoded data removed]",
            "text/plain": [
              "<rdkit.Chem.rdchem.Mol at 0x7ff102ab7510>"
            ]
          },
          "execution_count": 519,
          "metadata": {},
          "output_type": "execute_result"
        }
      ],
      "source": [
        "result[-1][0]"
      ]
    },
    {
      "cell_type": "code",
      "execution_count": null,
      "metadata": {},
      "outputs": [],
      "source": []
    },
    {
      "cell_type": "code",
      "execution_count": 514,
      "metadata": {},
      "outputs": [
        {
          "name": "stdout",
          "output_type": "stream",
          "text": [
            "Performing docking (random seed: 112027414) ... \n",
            "0%   10   20   30   40   50   60   70   80   90   100%\n",
            "|----|----|----|----|----|----|----|----|----|----|\n",
            "***************************************************\n",
            "\n",
            "mode |   affinity | dist from best mode\n",
            "     | (kcal/mol) | rmsd l.b.| rmsd u.b.\n",
            "-----+------------+----------+----------\n",
            "   1       -8.509          0          0\n"
          ]
        },
        {
          "name": "stderr",
          "output_type": "stream",
          "text": [
            "WARNING: At low exhaustiveness, it may be impossible to utilize all CPUs.\n"
          ]
        }
      ],
      "source": [
        "vina.set_ligand_from_string(s.rdkitToPdbqt(result[-1][0]))\n",
        "vina.dock(n_poses=1)"
      ]
    },
    {
      "cell_type": "code",
      "execution_count": 527,
      "metadata": {},
      "outputs": [],
      "source": [
        "with open('test_out.pdbqt', 'w') as f:\n",
        "    f.write(s.rdkitToPdbqt(result[-1][0]))"
      ]
    },
    {
      "cell_type": "code",
      "execution_count": null,
      "metadata": {},
      "outputs": [],
      "source": [
        "# generating 100 ligands\n",
        "lig_out_dir = f\"results/{name}\"\n",
        "try:os.mkdir(lig_out_dir)\n",
        "except : pass\n",
        "\n",
        "count = 100\n",
        "f_result = open(f\"{lig_out_dir}/scores.txt\", 'a')\n",
        "\n",
        "scores = []\n",
        "for i in range(0,count):\n",
        "    try:\n",
        "        result = s.simulatedAnnealing(ligand='', \n",
        "                                start_score=0, \n",
        "                                ligand_3d=None, \n",
        "                                initial_building_position=center, \n",
        "                                max_mw=300, \n",
        "                                temp=300, \n",
        "                                chain_prob=0.7)\n",
        "        \n",
        "        if result == None:\n",
        "            continue\n",
        "\n",
        "        vina.set_ligand_from_string(s.rdkitToPdbqt(result[0]))\n",
        "        vina.dock(n_poses=1)\n",
        "        dockend_energy = vina.energies()[0][0]\n",
        "\n",
        "        vina.write_poses(os.path.join(lig_out_dir, f'{i}.pdbqt'), n_poses=1, overwrite=True)\n",
        "        #f_result.write(f'{i}.pdbqt,{dockend_energy},{result[2]}\\n')\n",
        "        f_result.write(f'{i}.pdbqt: {dockend_energy}\\n')\n",
        "        f_result.flush()\n",
        "        print(f'{i}.pdbqt,docked = {dockend_energy}, undocked = {result[2]}')\n",
        "        \n",
        "    except Exception as e:\n",
        "        print(e)\n",
        "        pass\n",
        "    \n",
        "    \n",
        "f_result.close()"
      ]
    },
    {
      "cell_type": "code",
      "execution_count": 23,
      "metadata": {},
      "outputs": [
        {
          "data": {
            "image/png": "[encoded data removed]",
            "text/plain": [
              "<Figure size 640x480 with 1 Axes>"
            ]
          },
          "metadata": {},
          "output_type": "display_data"
        }
      ],
      "source": [
        "import matplotlib.pyplot as plt\n",
        "f_data = open(f\"results/{name}/scores.txt\")\n",
        "lines = f_data.readlines()\n",
        "f_data.close()\n",
        "values = [float(s.split()[1]) for s in lines if len(s.split())>0 and len(s)>0]\n",
        "# Create histogram\n",
        "plt.hist(values, bins=30, edgecolor='black')  # Adjust the number of bins as needed\n",
        "\n",
        "# Add labels and title\n",
        "plt.xlabel('energy')\n",
        "plt.ylabel('count')\n",
        "plt.title('frag_based')\n",
        "\n",
        "# Show plot\n",
        "plt.show()"
      ]
    },
    {
      "cell_type": "code",
      "execution_count": 293,
      "metadata": {
        "id": "3SmV1PLBAa3W"
      },
      "outputs": [
        {
          "name": "stderr",
          "output_type": "stream",
          "text": [
            "[16:40:28] Explicit valence for atom # 16 O, 3, is greater than permitted\n",
            "[16:40:28] Can't kekulize mol.  Unkekulized atoms: 17 27 28 29 30\n",
            "[16:40:28] Can't kekulize mol.  Unkekulized atoms: 23 24 25\n",
            "[16:40:28] SMILES Parse Error: ring closure 1 duplicates bond between atom 16 and atom 17 for input: 'c1(sc(nn1)N)c1c(OC(C(C1(C(=C(C(=CC1c1ccc(cc1)F)c1ccccc1)C#N)N)(C#N)C#N))C)cccc1'\n",
            "[16:40:28] Explicit valence for atom # 4 N, 6, is greater than permitted\n",
            "[16:40:28] Can't kekulize mol.  Unkekulized atoms: 25 26 27\n",
            "[16:40:28] Explicit valence for atom # 16 C, 5, is greater than permitted\n",
            "[16:40:28] Can't kekulize mol.  Unkekulized atoms: 6 7 11 12 13 14 15 21 22 23 25 37 38 39 40\n",
            "[16:40:28] Can't kekulize mol.  Unkekulized atoms: 17 28 29 33 34 35 36\n",
            "[16:40:28] Can't kekulize mol.  Unkekulized atoms: 18 19 20\n",
            "[16:40:28] Can't kekulize mol.  Unkekulized atoms: 17 18 19 20 21\n",
            "[16:40:28] Can't kekulize mol.  Unkekulized atoms: 16 17 18 19 20\n",
            "[16:40:28] Can't kekulize mol.  Unkekulized atoms: 30 31 32\n",
            "[16:40:28] Explicit valence for atom # 16 N, 6, is greater than permitted\n",
            "[16:40:28] Can't kekulize mol.  Unkekulized atoms: 14 15 16\n",
            "[16:40:28] Can't kekulize mol.  Unkekulized atoms: 17 18 19\n",
            "[16:40:28] Explicit valence for atom # 16 N, 6, is greater than permitted\n",
            "[16:40:28] Can't kekulize mol.  Unkekulized atoms: 29 30 31\n",
            "[16:40:28] Explicit valence for atom # 16 N, 6, is greater than permitted\n",
            "[16:40:28] Explicit valence for atom # 16 C, 6, is greater than permitted\n",
            "[16:40:28] Can't kekulize mol.  Unkekulized atoms: 19 20 21\n",
            "[16:40:28] Explicit valence for atom # 0 C, 6, is greater than permitted\n",
            "[16:40:28] Can't kekulize mol.  Unkekulized atoms: 19 20 21\n",
            "[16:40:28] Explicit valence for atom # 16 S, 7, is greater than permitted\n",
            "[16:40:28] Can't kekulize mol.  Unkekulized atoms: 17 28 30\n",
            "[16:40:28] Can't kekulize mol.  Unkekulized atoms: 26 37 38 39 40\n",
            "[16:40:28] Explicit valence for atom # 16 N, 6, is greater than permitted\n",
            "[16:40:28] Can't kekulize mol.  Unkekulized atoms: 21 22 23\n",
            "[16:40:28] Explicit valence for atom # 12 Cl, 2, is greater than permitted\n",
            "[16:40:28] Explicit valence for atom # 16 C, 5, is greater than permitted\n",
            "[16:40:28] Can't kekulize mol.  Unkekulized atoms: 17 32 33\n",
            "[16:40:28] Explicit valence for atom # 16 C, 6, is greater than permitted\n",
            "[16:40:28] Explicit valence for atom # 16 C, 6, is greater than permitted\n",
            "[16:40:28] Can't kekulize mol.  Unkekulized atoms: 30 31 32\n",
            "[16:40:28] Can't kekulize mol.  Unkekulized atoms: 18 19 20 21 22 23 24\n",
            "[16:40:28] Can't kekulize mol.  Unkekulized atoms: 18 19 20\n",
            "[16:40:28] Explicit valence for atom # 16 N, 6, is greater than permitted\n",
            "[16:40:28] Can't kekulize mol.  Unkekulized atoms: 13 14 15\n",
            "[16:40:28] Can't kekulize mol.  Unkekulized atoms: 31 32 33\n",
            "[16:40:28] Explicit valence for atom # 16 F, 2, is greater than permitted\n",
            "[16:40:28] Explicit valence for atom # 26 Cl, 2, is greater than permitted\n",
            "[16:40:28] Explicit valence for atom # 8 O, 3, is greater than permitted\n",
            "[16:40:28] Explicit valence for atom # 20 C, 6, is greater than permitted\n",
            "[16:40:28] Explicit valence for atom # 3 C, 6, is greater than permitted\n",
            "[16:40:28] Can't kekulize mol.  Unkekulized atoms: 6 7 12 13 15 16 17 18 19 32 33\n",
            "[16:40:28] Can't kekulize mol.  Unkekulized atoms: 11 12 13\n",
            "[16:40:28] Explicit valence for atom # 6 N, 6, is greater than permitted\n",
            "[16:40:28] Explicit valence for atom # 16 S, 7, is greater than permitted\n",
            "[16:40:28] Can't kekulize mol.  Unkekulized atoms: 18 19 20\n",
            "[16:40:28] Can't kekulize mol.  Unkekulized atoms: 20 21 22\n",
            "[16:40:28] Explicit valence for atom # 14 N, 6, is greater than permitted\n",
            "[16:40:28] Explicit valence for atom # 16 C, 6, is greater than permitted\n",
            "[16:40:28] Can't kekulize mol.  Unkekulized atoms: 20 21 22\n",
            "[16:40:28] Explicit valence for atom # 26 N, 4, is greater than permitted\n",
            "[16:40:28] Can't kekulize mol.  Unkekulized atoms: 20 21 22\n",
            "[16:40:28] Explicit valence for atom # 16 N, 6, is greater than permitted\n",
            "[16:40:28] Explicit valence for atom # 16 C, 6, is greater than permitted\n",
            "[16:40:28] Explicit valence for atom # 16 C, 5, is greater than permitted\n",
            "[16:40:28] Can't kekulize mol.  Unkekulized atoms: 20 21 22\n",
            "[16:40:28] Explicit valence for atom # 27 C, 6, is greater than permitted\n",
            "[16:40:28] Explicit valence for atom # 6 N, 5, is greater than permitted\n",
            "[16:40:28] Explicit valence for atom # 23 N, 4, is greater than permitted\n",
            "[16:40:28] Can't kekulize mol.  Unkekulized atoms: 18 19 20 22 23 24 25\n",
            "[16:40:28] Can't kekulize mol.  Unkekulized atoms: 18 19 20\n",
            "[16:40:28] Explicit valence for atom # 16 N, 6, is greater than permitted\n",
            "[16:40:28] Can't kekulize mol.  Unkekulized atoms: 21 22 23\n",
            "[16:40:28] Explicit valence for atom # 16 N, 6, is greater than permitted\n",
            "[16:40:28] Can't kekulize mol.  Unkekulized atoms: 21 22 23\n",
            "[16:40:28] Can't kekulize mol.  Unkekulized atoms: 17 18 19 20 21\n",
            "[16:40:28] Can't kekulize mol.  Unkekulized atoms: 24 25 26\n",
            "[16:40:28] Explicit valence for atom # 15 O, 3, is greater than permitted\n",
            "[16:40:28] Explicit valence for atom # 18 C, 6, is greater than permitted\n",
            "[16:40:28] Can't kekulize mol.  Unkekulized atoms: 16 17 18\n",
            "[16:40:28] Can't kekulize mol.  Unkekulized atoms: 0 2 5 18 19 20 21 23\n",
            "[16:40:28] Explicit valence for atom # 8 Cl, 2, is greater than permitted\n",
            "[16:40:28] Explicit valence for atom # 17 F, 2, is greater than permitted\n",
            "[16:40:28] Can't kekulize mol.  Unkekulized atoms: 20 21 22 23 24 25 26\n",
            "[16:40:28] Can't kekulize mol.  Unkekulized atoms: 26 27 28\n",
            "[16:40:28] Can't kekulize mol.  Unkekulized atoms: 29 30 31\n",
            "[16:40:28] Can't kekulize mol.  Unkekulized atoms: 28 29 30\n",
            "[16:40:28] Can't kekulize mol.  Unkekulized atoms: 20 21 22\n",
            "[16:40:28] Can't kekulize mol.  Unkekulized atoms: 22 23 24\n",
            "[16:40:28] Can't kekulize mol.  Unkekulized atoms: 18 19 20\n",
            "[16:40:28] Explicit valence for atom # 16 N, 4, is greater than permitted\n",
            "[16:40:28] Can't kekulize mol.  Unkekulized atoms: 18 19 20 21 30 31 32\n",
            "[16:40:28] Explicit valence for atom # 16 N, 4, is greater than permitted\n",
            "[16:40:28] Explicit valence for atom # 16 S, 7, is greater than permitted\n",
            "[16:40:28] Explicit valence for atom # 14 Cl, 2, is greater than permitted\n",
            "[16:40:28] Explicit valence for atom # 23 C, 6, is greater than permitted\n",
            "[16:40:28] Explicit valence for atom # 20 O, 3, is greater than permitted\n",
            "[16:40:28] Explicit valence for atom # 16 N, 6, is greater than permitted\n",
            "[16:40:28] Explicit valence for atom # 25 C, 6, is greater than permitted\n",
            "[16:40:28] Explicit valence for atom # 16 N, 4, is greater than permitted\n",
            "[16:40:28] Can't kekulize mol.  Unkekulized atoms: 17 18 19\n",
            "[16:40:28] Explicit valence for atom # 16 O, 3, is greater than permitted\n",
            "[16:40:28] Can't kekulize mol.  Unkekulized atoms: 27 28 29\n",
            "[16:40:28] Explicit valence for atom # 22 C, 6, is greater than permitted\n",
            "[16:40:28] Can't kekulize mol.  Unkekulized atoms: 15 16 17\n",
            "[16:40:28] Explicit valence for atom # 16 C, 5, is greater than permitted\n",
            "[16:40:28] Can't kekulize mol.  Unkekulized atoms: 22 23 24\n",
            "[16:40:28] Can't kekulize mol.  Unkekulized atoms: 18 19 20 24 25\n",
            "[16:40:28] Can't kekulize mol.  Unkekulized atoms: 35 36 37 41 42\n",
            "[16:40:28] Can't kekulize mol.  Unkekulized atoms: 0 12 13 14 15 16 17 18 22 23 26 27 28 29 30 31 32 36 37\n",
            "[16:40:28] Can't kekulize mol.  Unkekulized atoms: 0 8 9 10 14 16 17 18 19 20 39\n",
            "[16:40:28] Can't kekulize mol.  Unkekulized atoms: 35 36 37 41 42\n",
            "[16:40:28] Can't kekulize mol.  Unkekulized atoms: 23 24 25 29 30\n",
            "[16:40:28] Explicit valence for atom # 16 N, 6, is greater than permitted\n",
            "[16:40:28] Explicit valence for atom # 19 F, 2, is greater than permitted\n",
            "[16:40:28] Can't kekulize mol.  Unkekulized atoms: 30 32 33 34 35 36 37\n",
            "[16:40:28] Explicit valence for atom # 16 N, 6, is greater than permitted\n",
            "[16:40:28] Explicit valence for atom # 16 C, 5, is greater than permitted\n",
            "[16:40:28] Can't kekulize mol.  Unkekulized atoms: 33 34 35 39 40\n",
            "[16:40:28] Can't kekulize mol.  Unkekulized atoms: 32 33 34 38 39\n",
            "[16:40:28] Can't kekulize mol.  Unkekulized atoms: 35 36 37 41 42\n",
            "[16:40:28] Can't kekulize mol.  Unkekulized atoms: 30 31 32 36 37\n",
            "[16:40:28] Explicit valence for atom # 16 N, 6, is greater than permitted\n",
            "[16:40:28] Explicit valence for atom # 6 N, 4, is greater than permitted\n",
            "[16:40:28] Can't kekulize mol.  Unkekulized atoms: 34 35 36 40 41\n",
            "[16:40:28] Explicit valence for atom # 16 N, 4, is greater than permitted\n",
            "[16:40:28] Can't kekulize mol.  Unkekulized atoms: 17 19 20 21 22 23 24\n",
            "[16:40:28] Explicit valence for atom # 22 O, 3, is greater than permitted\n",
            "[16:40:28] Can't kekulize mol.  Unkekulized atoms: 28 29 30 34 35\n",
            "[16:40:28] Explicit valence for atom # 16 N, 6, is greater than permitted\n",
            "[16:40:28] Explicit valence for atom # 16 C, 5, is greater than permitted\n",
            "[16:40:28] Explicit valence for atom # 16 C, 6, is greater than permitted\n",
            "[16:40:28] Can't kekulize mol.  Unkekulized atoms: 37 38 39 43 44\n",
            "[16:40:28] Can't kekulize mol.  Unkekulized atoms: 26 27 28 32 33\n",
            "[16:40:28] Explicit valence for atom # 16 C, 5, is greater than permitted\n",
            "[16:40:28] Explicit valence for atom # 1 C, 5, is greater than permitted\n",
            "[16:40:28] Explicit valence for atom # 11 C, 6, is greater than permitted\n",
            "[16:40:28] Can't kekulize mol.  Unkekulized atoms: 23 24 25 29 30\n",
            "[16:40:28] Can't kekulize mol.  Unkekulized atoms: 22 23 24 28 29\n",
            "[16:40:28] Can't kekulize mol.  Unkekulized atoms: 33 34 35 39 40\n",
            "[16:40:28] Can't kekulize mol.  Unkekulized atoms: 18 19 20 22 23 24 25\n",
            "[16:40:28] Explicit valence for atom # 1 C, 5, is greater than permitted\n",
            "[16:40:28] Can't kekulize mol.  Unkekulized atoms: 18 19 20 22 23 24 25 26 27 28 29\n",
            "[16:40:28] Can't kekulize mol.  Unkekulized atoms: 19 20 21 25 26\n",
            "[16:40:28] Can't kekulize mol.  Unkekulized atoms: 33 34 35 39 40\n",
            "[16:40:28] Explicit valence for atom # 28 N, 4, is greater than permitted\n",
            "[16:40:28] Explicit valence for atom # 6 N, 4, is greater than permitted\n",
            "[16:40:28] Can't kekulize mol.  Unkekulized atoms: 20 21 22 26 27\n",
            "[16:40:28] Explicit valence for atom # 16 C, 6, is greater than permitted\n",
            "[16:40:28] Can't kekulize mol.  Unkekulized atoms: 14 15 16 20 21\n",
            "[16:40:28] Can't kekulize mol.  Unkekulized atoms: 21 22 23 27 28\n",
            "[16:40:28] Can't kekulize mol.  Unkekulized atoms: 20 21 22 23 24 25 26\n",
            "[16:40:28] Explicit valence for atom # 23 Cl, 2, is greater than permitted\n",
            "[16:40:28] Can't kekulize mol.  Unkekulized atoms: 30 31 32 36 37\n",
            "[16:40:28] Can't kekulize mol.  Unkekulized atoms: 31 32 33 37 38\n",
            "[16:40:28] Can't kekulize mol.  Unkekulized atoms: 28 29 30 34 35\n",
            "[16:40:28] Explicit valence for atom # 16 N, 4, is greater than permitted\n",
            "[16:40:28] Can't kekulize mol.  Unkekulized atoms: 29 30 31 35 36\n",
            "[16:40:28] Explicit valence for atom # 12 N, 4, is greater than permitted\n",
            "[16:40:28] Can't kekulize mol.  Unkekulized atoms: 31 32 33 37 38\n",
            "[16:40:28] Explicit valence for atom # 23 Cl, 2, is greater than permitted\n",
            "[16:40:28] Can't kekulize mol.  Unkekulized atoms: 30 31 32 36 37\n",
            "[16:40:28] Explicit valence for atom # 16 N, 6, is greater than permitted\n",
            "[16:40:28] Can't kekulize mol.  Unkekulized atoms: 17 18 20\n",
            "[16:40:28] Can't kekulize mol.  Unkekulized atoms: 17 18 19 24 25 26 27\n",
            "[16:40:28] Explicit valence for atom # 12 N, 4, is greater than permitted\n",
            "[16:40:28] Can't kekulize mol.  Unkekulized atoms: 27 28 29 33 34\n",
            "[16:40:28] Can't kekulize mol.  Unkekulized atoms: 32 33 34 38 39\n",
            "[16:40:28] Can't kekulize mol.  Unkekulized atoms: 35 36 37 41 42\n",
            "[16:40:28] Can't kekulize mol.  Unkekulized atoms: 17 18 19 20 21\n",
            "[16:40:28] Explicit valence for atom # 16 C, 5, is greater than permitted\n",
            "[16:40:28] Can't kekulize mol.  Unkekulized atoms: 17 19 20 21 22\n",
            "[16:40:28] Can't kekulize mol.  Unkekulized atoms: 33 34 35 39 40\n",
            "[16:40:28] Explicit valence for atom # 16 N, 6, is greater than permitted\n",
            "[16:41:11] Can't kekulize mol.  Unkekulized atoms: 1 2 3 4 5 22 23\n",
            "[16:41:11] Can't kekulize mol.  Unkekulized atoms: 27 28 29 33 34\n",
            "[16:41:11] Can't kekulize mol.  Unkekulized atoms: 26 27 28 32 33\n",
            "[16:41:11] Can't kekulize mol.  Unkekulized atoms: 37 39 40 41 42\n",
            "[16:41:11] Can't kekulize mol.  Unkekulized atoms: 31 32 33 37 38\n",
            "[16:41:11] Can't kekulize mol.  Unkekulized atoms: 37 38 39 43 44\n",
            "[16:41:11] Explicit valence for atom # 19 F, 2, is greater than permitted\n",
            "[16:41:11] Explicit valence for atom # 16 C, 5, is greater than permitted\n",
            "[16:41:11] Explicit valence for atom # 14 F, 2, is greater than permitted\n",
            "[16:41:11] Can't kekulize mol.  Unkekulized atoms: 30 31 32 36 37\n",
            "[16:41:11] Can't kekulize mol.  Unkekulized atoms: 28 29 30 34 35\n",
            "[16:41:11] Can't kekulize mol.  Unkekulized atoms: 20 21 22 26 27\n",
            "[16:41:11] Explicit valence for atom # 17 Cl, 2, is greater than permitted\n",
            "[16:41:11] Explicit valence for atom # 16 N, 4, is greater than permitted\n",
            "[16:41:11] Can't kekulize mol.  Unkekulized atoms: 35 36 37 41 42\n",
            "[16:41:11] Explicit valence for atom # 16 N, 6, is greater than permitted\n",
            "[16:41:11] Can't kekulize mol.  Unkekulized atoms: 17 18 19\n",
            "[16:41:11] Can't kekulize mol.  Unkekulized atoms: 25 26 27 31 32\n",
            "[16:41:11] Can't kekulize mol.  Unkekulized atoms: 17 37 39\n",
            "[16:41:11] Can't kekulize mol.  Unkekulized atoms: 36 37 38 42 43\n",
            "[16:41:11] Can't kekulize mol.  Unkekulized atoms: 42 43 44\n",
            "[16:41:11] Explicit valence for atom # 16 N, 4, is greater than permitted\n",
            "[16:41:11] Explicit valence for atom # 16 C, 5, is greater than permitted\n",
            "[16:41:11] Can't kekulize mol.  Unkekulized atoms: 0 8 9 10 14 15 17 18 19\n",
            "[16:41:11] Can't kekulize mol.  Unkekulized atoms: 0 8 10 11 21 22 23 28 29 33 34\n",
            "[16:41:11] Can't kekulize mol.  Unkekulized atoms: 29 30 31 35 36\n",
            "[16:41:11] SMILES Parse Error: ring closure 1 duplicates bond between atom 18 and atom 19 for input: 'c1(C(=O)NCCCN)cnc(/C=N(C1(=C(SC(=C(C1c1cocc1)C#N)N)N)C#N)\\O)cc1'\n",
            "[16:41:11] Can't kekulize mol.  Unkekulized atoms: 17 18 19 20 21 22 23 24 25\n",
            "[16:41:11] Can't kekulize mol.  Unkekulized atoms: 0 8 9 10 15 16 18 38 39\n",
            "[16:41:11] Can't kekulize mol.  Unkekulized atoms: 23 24 25 29 30\n",
            "[16:41:11] Can't kekulize mol.  Unkekulized atoms: 34 35 36 40 41\n",
            "[16:41:11] Explicit valence for atom # 16 C, 6, is greater than permitted\n",
            "[16:41:11] Can't kekulize mol.  Unkekulized atoms: 24 26 27 28 29 30 31\n",
            "[16:41:11] Can't kekulize mol.  Unkekulized atoms: 27 29 30 31 32 33 34\n",
            "[16:41:11] Can't kekulize mol.  Unkekulized atoms: 14 16 17 18 19 20 21\n",
            "[16:41:11] Can't kekulize mol.  Unkekulized atoms: 18 19 20 22 23 24 25\n",
            "[16:41:11] Can't kekulize mol.  Unkekulized atoms: 23 25 26 27 28 29 30\n",
            "[16:41:11] Can't kekulize mol.  Unkekulized atoms: 18 20 21\n",
            "[16:41:11] Can't kekulize mol.  Unkekulized atoms: 13 15 16 17 18 19 20\n",
            "[16:41:11] Can't kekulize mol.  Unkekulized atoms: 20 22 23 24 25 26 27\n",
            "[16:41:11] Can't kekulize mol.  Unkekulized atoms: 25 27 28 29 30 31 32\n",
            "[16:41:11] Explicit valence for atom # 19 O, 3, is greater than permitted\n"
          ]
        }
      ],
      "source": [
        "result = s.simulatedAnnealing(ligand='', \n",
        "                              start_score=0, \n",
        "                              ligand_3d=None, \n",
        "                              initial_building_position=[16, -40, 8], \n",
        "                              max_mw=500, \n",
        "                              temp=300, \n",
        "                              coolingSchedule=coolingSchedule,\n",
        "                              chain_prob=0.5)"
      ]
    },
    {
      "cell_type": "code",
      "execution_count": 79,
      "metadata": {},
      "outputs": [],
      "source": [
        "result = r"
      ]
    },
    {
      "cell_type": "code",
      "execution_count": 80,
      "metadata": {},
      "outputs": [
        {
          "data": {
            "image/png": "[encoded data removed]",
            "text/plain": [
              "<rdkit.Chem.rdchem.Mol at 0x7f240a71dc10>"
            ]
          },
          "execution_count": 80,
          "metadata": {},
          "output_type": "execute_result"
        }
      ],
      "source": [
        "result[0]"
      ]
    },
    {
      "cell_type": "code",
      "execution_count": 81,
      "metadata": {
        "colab": {
          "base_uri": "https://localhost:8080/"
        },
        "id": "pP7xEcr5c8ig",
        "outputId": "0fc6bf98-89c9-42c1-a476-01c0b66688d3"
      },
      "outputs": [
        {
          "data": {
            "text/plain": [
              "1171.9079999999992"
            ]
          },
          "execution_count": 81,
          "metadata": {},
          "output_type": "execute_result"
        }
      ],
      "source": [
        "Descriptors.HeavyAtomMolWt(result[0])"
      ]
    },
    {
      "cell_type": "code",
      "execution_count": null,
      "metadata": {
        "id": "QQMwYyIJ9CHS"
      },
      "outputs": [],
      "source": [
        "pdb = s.rdkitToPdbqt(result[0])\n",
        "\n",
        "f = open('simple.pdbqt', 'w')\n",
        "f.write(pdb)\n",
        "f.close()"
      ]
    },
    {
      "cell_type": "code",
      "execution_count": 296,
      "metadata": {
        "colab": {
          "base_uri": "https://localhost:8080/"
        },
        "id": "Ds_Jd5dW-YSo",
        "outputId": "f491af8e-3a0b-4d6e-b954-093c47814724"
      },
      "outputs": [],
      "source": [
        "vina.set_ligand_from_string(s.rdkitToPdbqt(result[0]))\n",
        "# vina.optimize()"
      ]
    },
    {
      "cell_type": "code",
      "execution_count": 138,
      "metadata": {},
      "outputs": [],
      "source": [
        "vina.write_pose(\"ulig11.pdbqt\")"
      ]
    },
    {
      "cell_type": "code",
      "execution_count": 88,
      "metadata": {},
      "outputs": [
        {
          "ename": "SyntaxError",
          "evalue": "invalid syntax (3473949686.py, line 2)",
          "output_type": "error",
          "traceback": [
            "\u001b[0;36m  Cell \u001b[0;32mIn[88], line 2\u001b[0;36m\u001b[0m\n\u001b[0;31m    df = pd.dataframe(c(1,2,3,4,5,6,7,8,,9,10,11,12)\u001b[0m\n\u001b[0m                                        ^\u001b[0m\n\u001b[0;31mSyntaxError\u001b[0m\u001b[0;31m:\u001b[0m invalid syntax\n"
          ]
        }
      ],
      "source": []
    },
    {
      "cell_type": "code",
      "execution_count": 84,
      "metadata": {
        "colab": {
          "base_uri": "https://localhost:8080/"
        },
        "id": "g1GW88jS-hMD",
        "outputId": "d2b91b14-07af-430b-8ea3-897903671bf8"
      },
      "outputs": [
        {
          "ename": "RuntimeError",
          "evalue": "\n\nVina runtime error: The ligand is outside the grid box. Increase the size of the grid box or center it accordingly around the ligand.\n",
          "output_type": "error",
          "traceback": [
            "\u001b[0;31m---------------------------------------------------------------------------\u001b[0m",
            "\u001b[0;31mRuntimeError\u001b[0m                              Traceback (most recent call last)",
            "Cell \u001b[0;32mIn[84], line 1\u001b[0m\n\u001b[0;32m----> 1\u001b[0m \u001b[43mvina\u001b[49m\u001b[38;5;241;43m.\u001b[39;49m\u001b[43mscore\u001b[49m\u001b[43m(\u001b[49m\u001b[43m)\u001b[49m\n",
            "File \u001b[0;32m~/miniconda3/lib/python3.9/site-packages/vina/vina.py:426\u001b[0m, in \u001b[0;36mVina.score\u001b[0;34m(self, unbound_energy)\u001b[0m\n\u001b[1;32m    423\u001b[0m \u001b[38;5;66;03m# It does not make sense to report energies with a precision higher than 3\u001b[39;00m\n\u001b[1;32m    424\u001b[0m \u001b[38;5;66;03m# since the coordinates precision is 3.\u001b[39;00m\n\u001b[1;32m    425\u001b[0m \u001b[38;5;28;01mif\u001b[39;00m unbound_energy \u001b[38;5;129;01mis\u001b[39;00m \u001b[38;5;28;01mNone\u001b[39;00m:\n\u001b[0;32m--> 426\u001b[0m     energies \u001b[38;5;241m=\u001b[39m np\u001b[38;5;241m.\u001b[39maround(\u001b[38;5;28;43mself\u001b[39;49m\u001b[38;5;241;43m.\u001b[39;49m\u001b[43m_vina\u001b[49m\u001b[38;5;241;43m.\u001b[39;49m\u001b[43mscore\u001b[49m\u001b[43m(\u001b[49m\u001b[43m)\u001b[49m, decimals\u001b[38;5;241m=\u001b[39m\u001b[38;5;241m3\u001b[39m)\n\u001b[1;32m    427\u001b[0m \u001b[38;5;28;01melse\u001b[39;00m:\n\u001b[1;32m    428\u001b[0m     energies \u001b[38;5;241m=\u001b[39m np\u001b[38;5;241m.\u001b[39maround(\u001b[38;5;28mself\u001b[39m\u001b[38;5;241m.\u001b[39m_vina\u001b[38;5;241m.\u001b[39mscore(unbound_energy), decimals\u001b[38;5;241m=\u001b[39m\u001b[38;5;241m3\u001b[39m)\n",
            "File \u001b[0;32m~/miniconda3/lib/python3.9/site-packages/vina/vina_wrapper.py:744\u001b[0m, in \u001b[0;36mVina.score\u001b[0;34m(self, *args)\u001b[0m\n\u001b[1;32m    743\u001b[0m \u001b[38;5;28;01mdef\u001b[39;00m \u001b[38;5;21mscore\u001b[39m(\u001b[38;5;28mself\u001b[39m, \u001b[38;5;241m*\u001b[39margs) \u001b[38;5;241m-\u001b[39m\u001b[38;5;241m>\u001b[39m \u001b[38;5;124m\"\u001b[39m\u001b[38;5;124mstd::vector< double,std::allocator< double > >\u001b[39m\u001b[38;5;124m\"\u001b[39m:\n\u001b[0;32m--> 744\u001b[0m     \u001b[38;5;28;01mreturn\u001b[39;00m \u001b[43m_vina_wrapper\u001b[49m\u001b[38;5;241;43m.\u001b[39;49m\u001b[43mVina_score\u001b[49m\u001b[43m(\u001b[49m\u001b[38;5;28;43mself\u001b[39;49m\u001b[43m,\u001b[49m\u001b[43m \u001b[49m\u001b[38;5;241;43m*\u001b[39;49m\u001b[43margs\u001b[49m\u001b[43m)\u001b[49m\n",
            "\u001b[0;31mRuntimeError\u001b[0m: \n\nVina runtime error: The ligand is outside the grid box. Increase the size of the grid box or center it accordingly around the ligand.\n"
          ]
        }
      ],
      "source": [
        "vina.score()"
      ]
    },
    {
      "cell_type": "code",
      "execution_count": 83,
      "metadata": {
        "colab": {
          "base_uri": "https://localhost:8080/"
        },
        "id": "_s1_4kin7Kiu",
        "outputId": "10d85ddf-aa35-4fef-f11e-626d05aa68c1"
      },
      "outputs": [
        {
          "name": "stdout",
          "output_type": "stream",
          "text": [
            "Performing docking (random seed: 780876452) ... \n",
            "0%   10   20   30   40   50   60   70   80   90   100%\n",
            "|----|----|----|----|----|----|----|----|----|----|\n",
            "***************************************************\n",
            "\n",
            "mode |   affinity | dist from best mode\n",
            "     | (kcal/mol) | rmsd l.b.| rmsd u.b.\n",
            "-----+------------+----------+----------\n",
            "   1          956          0          0\n"
          ]
        },
        {
          "name": "stderr",
          "output_type": "stream",
          "text": [
            "WARNING: At low exhaustiveness, it may be impossible to utilize all CPUs.\n"
          ]
        }
      ],
      "source": [
        "vina.dock(n_poses=1)"
      ]
    },
    {
      "cell_type": "code",
      "execution_count": null,
      "metadata": {
        "id": "9Z0QCyKZ1oop"
      },
      "outputs": [],
      "source": [
        "vina.write_poses('out.pdbqt', n_poses=1, overwrite=True)"
      ]
    },
    {
      "cell_type": "code",
      "execution_count": 299,
      "metadata": {
        "colab": {
          "base_uri": "https://localhost:8080/"
        },
        "id": "MAE8ddSt7Ybc",
        "outputId": "0f2591f9-c6ce-47f2-c7a4-7825ae1ae395"
      },
      "outputs": [
        {
          "data": {
            "text/plain": [
              "array([[ -8.767, -12.61 ,  -0.717,   3.844,  -0.717]])"
            ]
          },
          "execution_count": 299,
          "metadata": {},
          "output_type": "execute_result"
        }
      ],
      "source": [
        "vina.energies()"
      ]
    },
    {
      "cell_type": "code",
      "execution_count": 141,
      "metadata": {
        "id": "sJZ-Ug4A8GDW"
      },
      "outputs": [],
      "source": [
        "vina.write_pose(\"lig11.pdbqt\")"
      ]
    },
    {
      "cell_type": "code",
      "execution_count": 121,
      "metadata": {},
      "outputs": [],
      "source": [
        "def read_pdbqt(filename):\n",
        "    mol = next(pb.readfile(\"pdbqt\", filename))\n",
        "    return Chem.MolFromMolBlock(mol.write(\"mol\"))"
      ]
    },
    {
      "cell_type": "code",
      "execution_count": 122,
      "metadata": {},
      "outputs": [],
      "source": [
        "mol = read_pdbqt(\"lig6.pdbqt\")"
      ]
    },
    {
      "cell_type": "code",
      "execution_count": 123,
      "metadata": {},
      "outputs": [
        {
          "data": {
            "image/png": "[encoded data removed]",
            "text/plain": [
              "<rdkit.Chem.rdchem.Mol at 0x7f7eb34d7120>"
            ]
          },
          "execution_count": 123,
          "metadata": {},
          "output_type": "execute_result"
        }
      ],
      "source": [
        "mol"
      ]
    },
    {
      "cell_type": "code",
      "execution_count": 142,
      "metadata": {},
      "outputs": [],
      "source": [
        "c = mol.GetConformer()"
      ]
    },
    {
      "cell_type": "code",
      "execution_count": 144,
      "metadata": {},
      "outputs": [
        {
          "name": "stdout",
          "output_type": "stream",
          "text": [
            "23.224 -41.728 9.705\n",
            "24.658 -41.539 9.373\n",
            "25.559 -42.694 9.631\n",
            "24.941 -43.966 9.407\n",
            "25.68 -45.014 8.825\n",
            "25.16 -46.132 8.622\n",
            "27.09 -44.8 8.447\n",
            "23.582 -44.171 9.779\n",
            "22.635 -43.081 9.433\n",
            "22.056 -43.206 8.084\n",
            "22.851 -43.155 6.939\n",
            "24.084 -43.042 6.758\n",
            "21.732 -43.291 5.545\n",
            "20.355 -43.976 6.553\n",
            "20.681 -43.379 7.853\n",
            "19.776 -43.057 8.679\n",
            "20.6 -45.483 6.569\n",
            "19.344 -46.239 6.462\n",
            "18.372 -45.807 7.057\n",
            "19.172 -47.716 5.533\n",
            "21.262 -40.224 9.494\n",
            "20.547 -39.207 8.953\n",
            "21.127 -38.537 7.903\n",
            "22.394 -38.892 7.421\n",
            "23.017 -39.933 8.044\n",
            "22.461 -40.627 9.101\n",
            "19.233 -38.869 9.476\n",
            "18.891 -37.631 9.924\n",
            "17.618 -37.336 10.42\n",
            "16.666 -38.315 10.463\n",
            "16.991 -39.579 10.013\n",
            "18.254 -39.843 9.529\n",
            "17.334 -35.993 10.882\n",
            "16.574 -35.85 11.874\n",
            "17.867 -34.859 10.272\n"
          ]
        }
      ],
      "source": [
        "for i in range(c.GetNumAtoms()):\n",
        "    pos = c.GetAtomPosition(i)\n",
        "    print(pos.x, pos.y, pos.z)"
      ]
    },
    {
      "cell_type": "code",
      "execution_count": 5,
      "metadata": {},
      "outputs": [],
      "source": [
        "import matplotlib.pyplot as plt\n",
        "import seaborn as sns"
      ]
    },
    {
      "cell_type": "code",
      "execution_count": 15,
      "metadata": {},
      "outputs": [],
      "source": [
        "f = open(\"result.txt\")\n",
        "\n",
        "energy = []\n",
        "for line in f.readlines():\n",
        "    if line == \"\": continue\n",
        "    energy.append(float(line.split(',')[1]))"
      ]
    },
    {
      "cell_type": "code",
      "execution_count": 19,
      "metadata": {},
      "outputs": [
        {
          "name": "stderr",
          "output_type": "stream",
          "text": [
            "No artists with labels found to put in legend.  Note that artists whose label start with an underscore are ignored when legend() is called with no argument.\n"
          ]
        },
        {
          "data": {
            "text/plain": [
              "Text(0.5, 0, 'Binding affinity')"
            ]
          },
          "execution_count": 19,
          "metadata": {},
          "output_type": "execute_result"
        },
        {
          "data": {
            "image/png": "[encoded data removed]",
            "text/plain": [
              "<Figure size 640x480 with 1 Axes>"
            ]
          },
          "metadata": {},
          "output_type": "display_data"
        }
      ],
      "source": [
        "sns.kdeplot(energy, fill=True)\n",
        "plt.legend()\n",
        "plt.xlabel('Binding affinity')"
      ]
    },
    {
      "cell_type": "code",
      "execution_count": 17,
      "metadata": {},
      "outputs": [
        {
          "data": {
            "text/plain": [
              "<Axes: ylabel='Count'>"
            ]
          },
          "execution_count": 17,
          "metadata": {},
          "output_type": "execute_result"
        },
        {
          "data": {
            "image/png": "[encoded data removed]",
            "text/plain": [
              "<Figure size 640x480 with 1 Axes>"
            ]
          },
          "metadata": {},
          "output_type": "display_data"
        }
      ],
      "source": [
        "sns.histplot(energy, fill=True, color='red', label='vina', bins=5)"
      ]
    },
    {
      "cell_type": "code",
      "execution_count": 14,
      "metadata": {},
      "outputs": [
        {
          "data": {
            "text/plain": [
              "['-9.525',\n",
              " '-9.029',\n",
              " '-9.486',\n",
              " '-9.573',\n",
              " '-9.347',\n",
              " '-8.671',\n",
              " '-9.113',\n",
              " '-7.696',\n",
              " '-7.958',\n",
              " '-8.588',\n",
              " '-9.241',\n",
              " '-8.564',\n",
              " '-8.365',\n",
              " '-7.954',\n",
              " '-7.735',\n",
              " '-8.773',\n",
              " '-8.471',\n",
              " '-10.268',\n",
              " '-6.419',\n",
              " '-8.165',\n",
              " '-9.353',\n",
              " '-9.469',\n",
              " '-10.39',\n",
              " '-9.806',\n",
              " '-9.327',\n",
              " '-7.554',\n",
              " '-11.973',\n",
              " '-7.909',\n",
              " '-7.723',\n",
              " '-8.154',\n",
              " '-9.028',\n",
              " '-8.62',\n",
              " '-7.634',\n",
              " '-9.436',\n",
              " '-8.356',\n",
              " '-10.504',\n",
              " '-7.111',\n",
              " '-9.121',\n",
              " '-8.314',\n",
              " '-9.533',\n",
              " '-8.885',\n",
              " '-8.973',\n",
              " '-9.444',\n",
              " '-8.038',\n",
              " '-9.947',\n",
              " '-7.489',\n",
              " '-7.576',\n",
              " '-10.443',\n",
              " '-8.693',\n",
              " '-9.063',\n",
              " '-10.157',\n",
              " '-8.055',\n",
              " '-8.128',\n",
              " '-10.125',\n",
              " '-9.809',\n",
              " '-9.354',\n",
              " '-8.981',\n",
              " '-8.447',\n",
              " '-10.32',\n",
              " '-9.81',\n",
              " '-9.396',\n",
              " '-8.201',\n",
              " '-9.551',\n",
              " '-9.126',\n",
              " '-8.514',\n",
              " '-9.035',\n",
              " '-7.167',\n",
              " '-8.379',\n",
              " '-8.361',\n",
              " '-8.631',\n",
              " '-8.098',\n",
              " '-7.96',\n",
              " '-9.825',\n",
              " '-8.951',\n",
              " '-8.237',\n",
              " '-9.989',\n",
              " '-9.075',\n",
              " '-8.578',\n",
              " '-8.194',\n",
              " '-7.644',\n",
              " '-7.814',\n",
              " '-9.34',\n",
              " '-8.701',\n",
              " '-9.831',\n",
              " '-8.319',\n",
              " '-9.877',\n",
              " '-9.208',\n",
              " '-8.163',\n",
              " '-9.63',\n",
              " '-8.362',\n",
              " '-8.84',\n",
              " '-8.079',\n",
              " '-9.194',\n",
              " '-8.249',\n",
              " '-8.621',\n",
              " '-7.646',\n",
              " '-8.26',\n",
              " '-7.924',\n",
              " '-9.539',\n",
              " '-8.767']"
            ]
          },
          "execution_count": 14,
          "metadata": {},
          "output_type": "execute_result"
        }
      ],
      "source": [
        "energy"
      ]
    },
    {
      "cell_type": "code",
      "execution_count": null,
      "metadata": {},
      "outputs": [],
      "source": []
    }
  ],
  "metadata": {
    "colab": {
      "provenance": []
    },
    "kernelspec": {
      "display_name": "Python 3 (ipykernel)",
      "language": "python",
      "name": "python3"
    },
    "language_info": {
      "codemirror_mode": {
        "name": "ipython",
        "version": 3
      },
      "file_extension": ".py",
      "mimetype": "text/x-python",
      "name": "python",
      "nbconvert_exporter": "python",
      "pygments_lexer": "ipython3",
      "version": "3.9.18"
    }
  },
  "nbformat": 4,
  "nbformat_minor": 0
}
