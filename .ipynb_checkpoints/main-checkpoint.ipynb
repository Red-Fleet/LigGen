{
 "cells": [
  {
   "cell_type": "code",
   "execution_count": 1,
   "metadata": {
    "id": "AKykjHjlbGT6"
   },
   "outputs": [],
   "source": [
    "from vina import Vina\n",
    "from openbabel import openbabel as ob\n",
    "from openbabel import pybel as pb\n",
    "from rdkit import Chem\n",
    "from rdkit.Chem import AllChem, Descriptors, Draw\n",
    "import time\n",
    "import rdkit\n",
    "import matplotlib.pyplot as plt\n",
    "import random\n",
    "import math"
   ]
  },
  {
   "cell_type": "code",
   "execution_count": 3,
   "metadata": {
    "id": "5denOWVYfxyD"
   },
   "outputs": [],
   "source": [
    "class SimulatedAnnealing:\n",
    "    def __init__(self, fragments: list[str], vina: Vina):\n",
    "        self.fragments = fragments\n",
    "        self.vina:Vina = vina\n",
    "\n",
    "    def setTarget(self, target_pdbqt_path: str, grid_param: tuple[int, list[int, int, int], list[int, int, int]] = None):\n",
    "        '''\n",
    "        grid_param = (spacing, center, box)\n",
    "        '''\n",
    "        self.vina.set_receptor(target_pdbqt_path)\n",
    "\n",
    "        if grid_param is not None:\n",
    "            self.setGridMap(grid_param)\n",
    "\n",
    "    def setGridMap(self, grid_param: tuple[int, list[int, int, int], list[int, int, int]] = None):\n",
    "        '''\n",
    "        grid_param = (spacing, center, box)\n",
    "        '''\n",
    "        if grid_param[0] == None:\n",
    "            self.vina.compute_vina_maps(center=grid_param[1], box_size=grid_param[2])\n",
    "        else:\n",
    "            self.vina.compute_vina_maps(center=grid_param[1], box_size=grid_param[2], spacing=grid_param[0])\n",
    "\n",
    "    def generateRdkitConformer(self, mol:rdkit.Chem.rdchem.Mol) -> rdkit.Chem.rdchem.Mol:\n",
    "        mol = AllChem.AddHs(mol)\n",
    "        sucess = AllChem.EmbedMolecule(mol)\n",
    "\n",
    "        if sucess == -1:\n",
    "            return None\n",
    "\n",
    "        return mol\n",
    "\n",
    "    def placeRdkitMolAtNewPoint(self, mol: rdkit.Chem.rdchem.Mol, atom_idx: int, new_x: float, new_y: float, new_z: float) ->  rdkit.Chem.rdchem.Mol:\n",
    "        ''' For shifing Rdkit molecule(conformer), conformer should be created for this method to work\n",
    "        '''\n",
    "        c = mol.GetConformer()\n",
    "        atom_point = c.GetAtomPosition(atom_idx)\n",
    "        x_offset = new_x - atom_point.x\n",
    "        y_offset = new_y - atom_point.y\n",
    "        z_offset = new_z - atom_point.z\n",
    "\n",
    "        mol = self.shiftRdkitMol(mol, x_offset, y_offset, z_offset)\n",
    "\n",
    "        return mol\n",
    "\n",
    "\n",
    "    def shiftRdkitMol(self, mol: rdkit.Chem.rdchem.Mol, x_offset: float, y_offset: float, z_offset: float)->  rdkit.Chem.rdchem.Mol:\n",
    "        ''' For shifing Rdkit molecule, offeset is, conformer should be created for this method to work\n",
    "        '''\n",
    "\n",
    "        c = mol.GetConformer()\n",
    "\n",
    "        # shift all atoms\n",
    "        for i in range(c.GetNumAtoms()):\n",
    "            pos = c.GetAtomPosition(i)\n",
    "            pos.x += x_offset\n",
    "            pos.y += y_offset\n",
    "            pos.z += z_offset\n",
    "\n",
    "            c.SetAtomPosition(i, pos)\n",
    "\n",
    "        return mol\n",
    "\n",
    "\n",
    "    def getScore(self, ligand_pdbqt: str):\n",
    "        self.vina.set_ligand_from_string(ligand_pdbqt)\n",
    "        score = vina.score()\n",
    "\n",
    "        return score[0]\n",
    "\n",
    "\n",
    "    def rdkitToPdbqt(self, mol: rdkit.Chem.rdchem.Mol)->str:\n",
    "        mol_block = Chem.MolToMolBlock(mol) # sdf format\n",
    "\n",
    "        pymol = pb.readstring(format=\"sdf\", string=mol_block)\n",
    "        pdbqt = pymol.write(format=\"pdbqt\")\n",
    "\n",
    "        return pdbqt\n",
    "\n",
    "    def getRandomFragment(self) -> str:\n",
    "        idx = random.randint(0, len(self.fragments)-1)\n",
    "        self.idx = idx\n",
    "        return self.fragments[idx]\n",
    "\n",
    "    def metropolisAcceptanceCriterion(self, temp: float, iter: int, old_score: float, new_score: float) -> float:\n",
    "        new_temp = temp/(iter+1)\n",
    "        mac = math.exp(((old_score-new_score)/(old_score+0.000001))/new_temp)\n",
    "\n",
    "        return mac\n",
    "\n",
    "    def simulatedAnnealingRecursive(self, ligand: str, old_score: float, first_atom_pos: list, max_mw: float, temp: float, iter: int)-> dict:\n",
    "\n",
    "        for i in range(1000):\n",
    "            iter += 1\n",
    "            frag = self.getRandomFragment()\n",
    "\n",
    "            new_lig = ligand + frag\n",
    "            self.new_lig = new_lig\n",
    "            try:\n",
    "                mol = Chem.MolFromSmiles(new_lig)\n",
    "            except:\n",
    "                # wrong smiles\n",
    "                iter -= 1 # reset iteration\n",
    "                continue\n",
    "\n",
    "            if mol is None:\n",
    "                # cannot create conformer of this ligand, there try different\n",
    "                iter -= 1 # reset iteration\n",
    "                continue\n",
    "\n",
    "            mol = self.generateRdkitConformer(mol)\n",
    "\n",
    "            if mol is None:\n",
    "                # cannot create conformer of this ligand, there try different\n",
    "                iter -= 1 # reset iteration\n",
    "                continue\n",
    "\n",
    "            mol = self.placeRdkitMolAtNewPoint(mol, 0, first_atom_pos[0], first_atom_pos[1], first_atom_pos[2])\n",
    "\n",
    "            pdbqt = self.rdkitToPdbqt(mol)\n",
    "\n",
    "            new_score = self.getScore(pdbqt)\n",
    "\n",
    "            if new_score < old_score or random.random() < self.metropolisAcceptanceCriterion(temp, iter, old_score, new_score):\n",
    "                if Descriptors.HeavyAtomMolWt(mol) >= max_mw:\n",
    "                    return (mol, new_lig, new_score)\n",
    "                else:\n",
    "                    result = self.simulatedAnnealingRecursive(new_lig, new_score, first_atom_pos, max_mw, temp, iter)\n",
    "                    if result is not None:\n",
    "                        return result\n",
    "                    else:\n",
    "                        # reset iter\n",
    "                        iter -= 1\n",
    "\n",
    "\n",
    "        return None\n",
    "\n",
    "\n",
    "\n",
    "\n",
    "    def simulatedAnnealing(self, ligand:str, first_atom_pos: list, max_mw: float, temp: float, start_score = 100):\n",
    "        return self.simulatedAnnealingRecursive(ligand = ligand, old_score = start_score, first_atom_pos = first_atom_pos, max_mw = max_mw, temp= temp, iter = 0)\n",
    "\n"
   ]
  },
  {
   "cell_type": "code",
   "execution_count": 5,
   "metadata": {
    "id": "3DpV1bhUyYCa"
   },
   "outputs": [],
   "source": [
    "f_file = open(\"frags.smi\")\n",
    "frags = f_file.read().split(\"\\n\")\n"
   ]
  },
  {
   "cell_type": "code",
   "execution_count": 4,
   "metadata": {
    "colab": {
     "base_uri": "https://localhost:8080/"
    },
    "id": "-_BAOXx1vkD_",
    "outputId": "92007f1a-f9a5-4482-a910-61867c8f08bc"
   },
   "outputs": [
    {
     "ename": "NameError",
     "evalue": "name 'frags' is not defined",
     "output_type": "error",
     "traceback": [
      "\u001b[0;31m---------------------------------------------------------------------------\u001b[0m",
      "\u001b[0;31mNameError\u001b[0m                                 Traceback (most recent call last)",
      "Cell \u001b[0;32mIn[4], line 3\u001b[0m\n\u001b[1;32m      1\u001b[0m vina \u001b[38;5;241m=\u001b[39m Vina()\n\u001b[0;32m----> 3\u001b[0m s \u001b[38;5;241m=\u001b[39m SimulatedAnnealing(fragments\u001b[38;5;241m=\u001b[39m\u001b[43mfrags\u001b[49m, vina\u001b[38;5;241m=\u001b[39mvina)\n\u001b[1;32m      4\u001b[0m s\u001b[38;5;241m.\u001b[39msetTarget(target_pdbqt_path\u001b[38;5;241m=\u001b[39m\u001b[38;5;124m'\u001b[39m\u001b[38;5;124m6cc0_filled.pdbqt\u001b[39m\u001b[38;5;124m'\u001b[39m, grid_param\u001b[38;5;241m=\u001b[39m(\u001b[38;5;28;01mNone\u001b[39;00m, [\u001b[38;5;241m-\u001b[39m\u001b[38;5;241m60\u001b[39m, \u001b[38;5;241m0\u001b[39m, \u001b[38;5;241m20\u001b[39m], [\u001b[38;5;241m50\u001b[39m, \u001b[38;5;241m50\u001b[39m, \u001b[38;5;241m50\u001b[39m]))\n",
      "\u001b[0;31mNameError\u001b[0m: name 'frags' is not defined"
     ]
    }
   ],
   "source": [
    "vina = Vina()\n",
    "\n",
    "s = SimulatedAnnealing(fragments=frags, vina=vina)\n",
    "s.setTarget(target_pdbqt_path='6cc0_filled.pdbqt', grid_param=(None, [-60, 0, 20], [50, 50, 50]))"
   ]
  },
  {
   "cell_type": "code",
   "execution_count": 96,
   "metadata": {
    "id": "a5eBdWq61EAh"
   },
   "outputs": [],
   "source": [
    "result = s.simulatedAnnealing(\"\", [-60, 0, 20] , 400, 1, 100)"
   ]
  },
  {
   "cell_type": "code",
   "execution_count": 97,
   "metadata": {
    "colab": {
     "base_uri": "https://localhost:8080/",
     "height": 167
    },
    "id": "TV1sBGQs8T2h",
    "outputId": "436ec579-1dff-46ec-8a53-9886fbf05d1e"
   },
   "outputs": [
    {
     "data": {
      "image/png": "[encoded data removed]",
      "text/plain": [
       "<rdkit.Chem.rdchem.Mol at 0x7fea7b843e40>"
      ]
     },
     "execution_count": 97,
     "metadata": {},
     "output_type": "execute_result"
    }
   ],
   "source": [
    "result[0]"
   ]
  },
  {
   "cell_type": "code",
   "execution_count": 98,
   "metadata": {
    "colab": {
     "base_uri": "https://localhost:8080/"
    },
    "id": "tXijaNofbYHu",
    "outputId": "b15e04e9-1cf7-4deb-b81f-0665e09bb0d6"
   },
   "outputs": [
    {
     "data": {
      "text/plain": [
       "(<rdkit.Chem.rdchem.Mol at 0x7fea7b843e40>,\n",
       " 'CC1NC2(CC=CC#N)CCC1C2COC1(C)CC1C1CCN(C)C1C=CC1NC=C2C1ON=C2NC=N',\n",
       " 145.809)"
      ]
     },
     "execution_count": 98,
     "metadata": {},
     "output_type": "execute_result"
    }
   ],
   "source": [
    "result"
   ]
  },
  {
   "cell_type": "code",
   "execution_count": 65,
   "metadata": {
    "colab": {
     "base_uri": "https://localhost:8080/"
    },
    "id": "pP7xEcr5c8ig",
    "outputId": "0fc6bf98-89c9-42c1-a476-01c0b66688d3"
   },
   "outputs": [
    {
     "data": {
      "text/plain": [
       "468.34300000000025"
      ]
     },
     "execution_count": 65,
     "metadata": {},
     "output_type": "execute_result"
    }
   ],
   "source": [
    "Descriptors.HeavyAtomMolWt(result[0])"
   ]
  },
  {
   "cell_type": "code",
   "execution_count": 34,
   "metadata": {
    "id": "QQMwYyIJ9CHS"
   },
   "outputs": [],
   "source": [
    "pdb = s.rdkitToPdbqt(result[0])\n",
    "\n",
    "f = open('simple.pdbqt', 'w')\n",
    "f.write(pdb)\n",
    "f.close()"
   ]
  },
  {
   "cell_type": "code",
   "execution_count": 82,
   "metadata": {
    "colab": {
     "base_uri": "https://localhost:8080/"
    },
    "id": "Ds_Jd5dW-YSo",
    "outputId": "7699a8c1-52d2-4345-b5a8-a35a3ea72a94"
   },
   "outputs": [
    {
     "name": "stdout",
     "output_type": "stream",
     "text": [
      "\n",
      "mode |   affinity | dist from best mode\n",
      "     | (kcal/mol) | rmsd l.b.| rmsd u.b.\n",
      "-----+------------+----------+----------\n",
      "   1        -7.11          0          0\n",
      "Performing local search ... "
     ]
    },
    {
     "data": {
      "text/plain": [
       "array([-1.618, -2.8  ,  0.   ,  0.   ,  0.   , -1.749,  1.182, -1.749])"
      ]
     },
     "execution_count": 82,
     "metadata": {},
     "output_type": "execute_result"
    },
    {
     "name": "stdout",
     "output_type": "stream",
     "text": [
      "done.\n"
     ]
    }
   ],
   "source": [
    "vina.set_ligand_from_string(s.rdkitToPdbqt(result[0]))\n",
    "vina.optimize()"
   ]
  },
  {
   "cell_type": "code",
   "execution_count": 75,
   "metadata": {
    "colab": {
     "base_uri": "https://localhost:8080/"
    },
    "id": "g1GW88jS-hMD",
    "outputId": "ff596b08-8211-4615-e1a9-3723014ed595"
   },
   "outputs": [
    {
     "data": {
      "text/plain": [
       "array([ 2.48876e+02,  3.94369e+02,  0.00000e+00,  0.00000e+00,\n",
       "        0.00000e+00, -7.10000e-02, -1.45493e+02, -7.10000e-02])"
      ]
     },
     "execution_count": 75,
     "metadata": {},
     "output_type": "execute_result"
    }
   ],
   "source": [
    "vina.score()"
   ]
  },
  {
   "cell_type": "code",
   "execution_count": 99,
   "metadata": {
    "colab": {
     "base_uri": "https://localhost:8080/"
    },
    "id": "_s1_4kin7Kiu",
    "outputId": "4c3c8d7e-119b-4b59-e58e-16e468b3fbdd"
   },
   "outputs": [
    {
     "name": "stdout",
     "output_type": "stream",
     "text": [
      "Performing docking (random seed: 1167920484) ... \n",
      "0%   10   20   30   40   50   60   70   80   90   100%\n",
      "|----|----|----|----|----|----|----|----|----|----|\n",
      "***************************************************\n"
     ]
    },
    {
     "name": "stderr",
     "output_type": "stream",
     "text": [
      "WARNING: At low exhaustiveness, it may be impossible to utilize all CPUs.\n"
     ]
    }
   ],
   "source": [
    "vina.dock(n_poses=1)"
   ]
  },
  {
   "cell_type": "code",
   "execution_count": 86,
   "metadata": {
    "id": "9Z0QCyKZ1oop"
   },
   "outputs": [],
   "source": [
    "vina.write_poses('out.pdbqt', n_poses=1, overwrite=True)"
   ]
  },
  {
   "cell_type": "code",
   "execution_count": 100,
   "metadata": {
    "colab": {
     "base_uri": "https://localhost:8080/"
    },
    "id": "MAE8ddSt7Ybc",
    "outputId": "43fa6f8b-18da-4ab7-b911-50dec68356f5"
   },
   "outputs": [
    {
     "data": {
      "text/plain": [
       "array([[ -8.869, -13.535,  -1.272,   4.666,  -1.272]])"
      ]
     },
     "execution_count": 100,
     "metadata": {},
     "output_type": "execute_result"
    }
   ],
   "source": [
    "vina.energies()"
   ]
  },
  {
   "cell_type": "code",
   "execution_count": null,
   "metadata": {
    "id": "sJZ-Ug4A8GDW"
   },
   "outputs": [],
   "source": [
    "vina.write_pose(\"dock.pdbqt\")"
   ]
  }
 ],
 "metadata": {
  "colab": {
   "provenance": []
  },
  "kernelspec": {
   "display_name": "Python 3 (ipykernel)",
   "language": "python",
   "name": "python3"
  },
  "language_info": {
   "codemirror_mode": {
    "name": "ipython",
    "version": 3
   },
   "file_extension": ".py",
   "mimetype": "text/x-python",
   "name": "python",
   "nbconvert_exporter": "python",
   "pygments_lexer": "ipython3",
   "version": "3.9.12"
  }
 },
 "nbformat": 4,
 "nbformat_minor": 1
}
