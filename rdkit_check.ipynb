{
 "cells": [
  {
   "cell_type": "code",
   "execution_count": 3,
   "metadata": {},
   "outputs": [],
   "source": [
    "from rdkit import Chem\n",
    "from openbabel import openbabel as ob\n",
    "from openbabel import pybel as pb"
   ]
  },
  {
   "cell_type": "code",
   "execution_count": 4,
   "metadata": {},
   "outputs": [],
   "source": [
    "smiles = '''Fc1c(cc(Oc2nc3CCN(C23)CC(=O)CC=C)ccc1)C\n",
    "c1(ccc2c(OC3C(CCN2C(=O)O)CCC3)c1Cl)Cl\n",
    "O(c1c(OC)cc(OC(=O)OC)cc1)Cc1ccccc1\n",
    "N(c1[nH]c2cc(cc2c1)C)c1c(Nc2cc(ccc2)c1)C(=O)NC1=NCCc2ccccc2OC1\n",
    "[C@]12(c3cc4c5[n+](O1)c(CCC5)Ccc4)(c(OC[C@H]1O[C@@H]2C(=C)NCC1)cccc3)C\n",
    "n1(c(=O)n2c(c(c3n(-c4c(nc3ccccc4)c3ccccc4)C)CCc2)c2cnns1)c1ccccc1\n",
    "c1ccc2c(c1)C(=O)c1n(c2[C@@H]2NS(=O)(=O)C)cccn1C\n",
    "c1(C/C=C/CC(=O)c2c[nH]c3nccn3c2C)cncc1S(=O)(=O)c1c(cc(C2C2)c2c1c(cnc2Cl)Cl)ccccc1\n",
    "S(c1cc(C(=O)O)ccc1)C(=O)O/C=C/c1ccccc1\n",
    "Cc1[nH]c2cc(F)ccc2n1c1cccc(NC(=O)N2CC(C2=O)Nc2cc(OC(F)(F)F)nc3)ccn1\n",
    "'''.split()"
   ]
  },
  {
   "cell_type": "code",
   "execution_count": 5,
   "metadata": {},
   "outputs": [
    {
     "name": "stderr",
     "output_type": "stream",
     "text": [
      "[00:43:06] Can't kekulize mol.  Unkekulized atoms: 1 2 3 4 19 20 21\n",
      "[00:43:06] Can't kekulize mol.  Unkekulized atoms: 1 3 4 5 6 7 8\n",
      "[00:43:06] Explicit valence for atom # 0 C, 5, is greater than permitted\n",
      "[00:43:06] SMILES Parse Error: unclosed ring for input: 'n1(c(=O)n2c(c(c3n(-c4c(nc3ccccc4)c3ccccc4)C)CCc2)c2cnns1)c1ccccc1'\n",
      "[00:43:06] SMILES Parse Error: unclosed ring for input: 'c1ccc2c(c1)C(=O)c1n(c2[C@@H]2NS(=O)(=O)C)cccn1C'\n",
      "[00:43:06] SMILES Parse Error: unclosed ring for input: 'c1(C/C=C/CC(=O)c2c[nH]c3nccn3c2C)cncc1S(=O)(=O)c1c(cc(C2C2)c2c1c(cnc2Cl)Cl)ccccc1'\n",
      "[00:43:06] SMILES Parse Error: unclosed ring for input: 'Cc1[nH]c2cc(F)ccc2n1c1cccc(NC(=O)N2CC(C2=O)Nc2cc(OC(F)(F)F)nc3)ccn1'\n"
     ]
    }
   ],
   "source": [
    "correct = 0\n",
    "in_correct = 0   \n",
    "for smile in smiles:\n",
    "    x = Chem.MolFromSmiles(smile)\n",
    "    if x is None:\n",
    "        in_correct += 1\n",
    "        #print(\"False\", smile)\n",
    "    else: \n",
    "        correct += 1\n",
    "        #print(\"True\", smile)\n",
    "\n"
   ]
  },
  {
   "cell_type": "code",
   "execution_count": 6,
   "metadata": {},
   "outputs": [
    {
     "name": "stdout",
     "output_type": "stream",
     "text": [
      "3 7\n"
     ]
    }
   ],
   "source": [
    "print(correct, in_correct)"
   ]
  },
  {
   "cell_type": "code",
   "execution_count": 5,
   "metadata": {},
   "outputs": [],
   "source": [
    "itr = pb.readfile('sdf', \"chembl_27.sdf\")\n"
   ]
  },
  {
   "cell_type": "code",
   "execution_count": 6,
   "metadata": {},
   "outputs": [],
   "source": [
    "smiles = []"
   ]
  },
  {
   "cell_type": "code",
   "execution_count": 7,
   "metadata": {},
   "outputs": [],
   "source": [
    "for sdf in itr:\n",
    "    smiles.append(sdf.write('smiles'))"
   ]
  },
  {
   "cell_type": "code",
   "execution_count": 8,
   "metadata": {},
   "outputs": [
    {
     "data": {
      "text/plain": [
       "1941411"
      ]
     },
     "execution_count": 8,
     "metadata": {},
     "output_type": "execute_result"
    }
   ],
   "source": [
    "len(smiles)"
   ]
  },
  {
   "cell_type": "code",
   "execution_count": 9,
   "metadata": {},
   "outputs": [
    {
     "data": {
      "text/plain": [
       "'c1(c2nc(N=C(N)N)sc2)cn(c(c1)C)C\\tCHEMBL153534\\n'"
      ]
     },
     "execution_count": 9,
     "metadata": {},
     "output_type": "execute_result"
    }
   ],
   "source": [
    "smiles[0]"
   ]
  },
  {
   "cell_type": "code",
   "execution_count": 10,
   "metadata": {},
   "outputs": [],
   "source": [
    "with open(\"chembl_27.smiles\", 'w') as f:\n",
    "    for s in smiles:\n",
    "        f.write(s)"
   ]
  },
  {
   "cell_type": "code",
   "execution_count": null,
   "metadata": {},
   "outputs": [],
   "source": []
  }
 ],
 "metadata": {
  "kernelspec": {
   "display_name": "base",
   "language": "python",
   "name": "python3"
  },
  "language_info": {
   "codemirror_mode": {
    "name": "ipython",
    "version": 3
   },
   "file_extension": ".py",
   "mimetype": "text/x-python",
   "name": "python",
   "nbconvert_exporter": "python",
   "pygments_lexer": "ipython3",
   "version": "3.9.18"
  }
 },
 "nbformat": 4,
 "nbformat_minor": 2
}
