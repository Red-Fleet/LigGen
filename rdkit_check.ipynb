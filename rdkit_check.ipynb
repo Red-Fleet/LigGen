{
 "cells": [
  {
   "cell_type": "code",
   "execution_count": 3,
   "metadata": {},
   "outputs": [],
   "source": [
    "from rdkit import Chem\n",
    "from openbabel import openbabel as ob\n",
    "from openbabel import pybel as pb"
   ]
  },
  {
   "cell_type": "markdown",
   "metadata": {},
   "source": []
  },
  {
   "cell_type": "code",
   "execution_count": 9,
   "metadata": {},
   "outputs": [],
   "source": [
    "s = '''COC=CC=C(C1=CN=CC=C1CCCN2C(=O)C3=CC=CC=C32)CCl\n",
    "COC=CCC=CC1=C(NNC(=O)C=C2C3=C(Cl)C=CC=N3)N=CCCCC=CC=C2C=N1\n",
    "O=CCOC1CCNC=C1CCS(=O)(=O)C=CC2C3=CC=CC=C3CCC2C=CC=CS\n",
    "C1=2C(CC(=O)C(C)CNC=O)C=C1C=2C=NCC\n",
    "CCCCCC1=NC(N)C(=C)C1(C(=O)OCCCOC=CC=C(O)C=N)CCCC2=CC=CC=C2S\n",
    "COC=C1C=CCNC(=O)NCC(=O)C=CC1(NNCC(=O)[NH1]C)CCC(=O)NCCNCC2CC(C)CC2\n",
    "CC1C(OC)C=CC1C#N\n",
    "O=C(CNC(=O)C(C)CCC(C)CC1C2)C(O)C=CC(Br)=C2NCNC=CC=CC(=O)OCC=C(F)C(F)=C1CC(F)C\n",
    "N=C(S)C=O\n",
    "C1OC=CC=C2CNOC2(CSCC=C1C3)CC(C)CC3CC=O\n",
    "O=CC1(O)C=CC=C1C(=O)CC[NH1]N=C(C2=CC=CC=C2)NN=CC=C3CC4=CC=CC=C4C=N3\n",
    "CS(=O)(=C)C=C(C(C12CC=CC(=C1)C)=CC=CC3=CC=CC=C3C(C4=CC=CC=C4CC2CCC)C)CC=O\n",
    "N#CC=CC=CNC=CC=C(C)Cl\n",
    "C1C=NN=C(C=O)CCCC=C1\n",
    "CC(C)CC(C(=O)N1CC2C3SC(=O)NC=NC=CC=C(Cl)C)=C3N2C=C(OS)C1=C\n",
    "CCCCCCCCNC(=O)CCOCCOCC=CS(=O)(=O)C1=CC=CC=C1CCCCNC=N\n",
    "CC(C)CC(CCC1CCCC=C1N)C=C(C)CC2=CC=CC=C2[N+1](=O)[O-1]\n",
    "CCN(C#N)C=C1C=CC=C1N2CC=CC=C(C3)N23\n",
    "CC(C)CCNCC=C1C(=O)ONC2=C(CN=C2NC=C)C=C1[NH1]C=C=CC=CC=C\n",
    "CC(=O)C1=CC=C2C=C1NC(=O)C=CC=C(O3)C2C=CC=C3\n",
    "COCC=CC(C(=O)N)C(C)CCCCC(N)=O\n",
    "CC=CCCC1CNC(=O)CC1=CC(CC=CC(C(=O)N)C)C(=O)CCCF\n",
    "O=C(CO)C(O)C(C)N(CC=CC=CC(Cl)=NC1=CC=CC=C1)CNC\n",
    "C12C(C3)C4(C=CC(F)C3C15)N2C=CC=C(OC)N4C=CC5CCC(C)CC(C)=NC=CCF\n",
    "CCC(=O)NC=CC=CC(C(N)O)CC(C1=CC=CC=C1O)C(=O)C=NOCNC2CC=CC=C2C=CC\n",
    "O=C(C)OC(C(C)F)CNCNC(=O)CCCN=C\n",
    "N12C=CC=C(NNC=NC(C3=CC=CC(=C3)Cl)N)C=CC(OCCCF)(C=NCC=CC=CC1OC)C2\n",
    "CCCCCC(C1(C(=O)N)CCC2C)CC(C)CC2CC=C[NH1]1\n",
    "CNC(C=NC)(NC=CC=C(NCC1C(=O)C2)CC=C3C=C2C=CC)CC=C13\n",
    "CC=C(C=CC=CC=C(CCC1C2CN3C1)CCC=C(F)C3C=CC=CCCN2C)C=O\n",
    "C1OC(=C23)N[NH1]C=CC=CC=C2N3C4=CC=CC=C41\n",
    "CC(C)CCN(C(=O)OC1(C)CCC1C2CCC)OCN3CCCN3C=CC=C2Cl\n",
    "CCCCC(C)CNCC1(C)CCCCOCC2(CN)C(C)N2CN1\n",
    "NCCCCNC(C(=O)NCCCC=CC1=COC(C)OC1)F\n",
    "CC(O)C=CC=C(CCCC1CCCCC1C(=O)NS(=O)=O)C(C)CCCCC(CCCCCC)CCNC(=O)C=CC=C(C)F\n",
    "N1C=NN=C(C=CC=C(C)C=O)NC1C=O\n",
    "COC=CC=C(C)C=O\n",
    "C12=CC=C3C4=C1CNC(C)=C(Cl)C(C5=CC=CC(=C5)C(=O)CF)N2OCCC(C)OCC4C3\n",
    "CCCC1N(C=CC(=NN2CC34CCO)C(C)C3CC1OC=CC(F)(F)C4C(C)=C)C=C2\n",
    "CC(=O)C=CC=NC=CC=C(OC)SC=CC(Cl)C=CC=NC(CC(C)C)=NCC=CC1=CC=CC=C1Cl\n",
    "O=C(NCC=CNCC1CNC(=O)N2NCCCN)C=CC=C21\n",
    "NC=C(CCSC1=CC=CN=C1C(=O)NCCC2=CC=CC=N2)C(F)F\n",
    "FC(O)[NH1]C(C1C)=NC=CC2=CC=C3C=C2CCN=C1NC(O)CCCCCCC=N3\n",
    "CC=CC=CCCC(=O)NCCC(C)C\n",
    "CCN(C(=O)NCC=C1)C=CC=CC(CC2=NC=CC=C2C)=CC=C1\n",
    "C1N(NC=C2C=CC=CC=CC3=C(CCC=O)OCCCC4=CC=C5C=C4)CC=C5C3C=C12\n",
    "C1OCC(O)C2CC[N+1](C3)C(C=C)N=C2CC4=C5C=CC=C4C5C(=O)NCNC3N1O\n",
    "O=CC=CC(SCNC=CC=CC=CCC1NC(=O)CSC2=CC=CC3=C2CC(C=O)(C(O)C=O)NCC)NC4=CC=CC5=C4S(=O)(=O)C=C1C5N[NH1]C6C=CC=C6C3\n",
    "C1CCNCCC=CC=CC=C2C3=NC(C=CC(SC(=O)C4=CC=CC=C4CC=CF)=C3N=CC=CC=C(F)C)=C2OC(O)CS1\n",
    "C=1=CC=CNN=S(=O)C=C=1\n",
    "O=CNNCCCOCC=CC=C(S1CC=CC=C(C)Cl)CC=CC=CNOC=CC=C1CCCC=N\n",
    "COC(=O)C1C=CC=CC(C(=O)C=NC=C(C)N2COCC2)CCCC(=O)NC(N3C=C(C)C(=O)OC=C3)N=C1\n",
    "O1C=C2C=CC3=CC=CC4=C3OCC=C2CC1N[N+1](=C)CC=CCC=CC=C4S\n",
    "CC1OC(=O)C=NC=C1CNC2=NSC(C=NC=CC=CCC=CC(OC)S2)=O\n",
    "CN(C)CCCCC1NCC2=CC=CC=C2CN1C(CNC(=O)CCCCC(=O)CC=CC)=C\n",
    "CC(NN=C(CC1=CC=CC=C12)OC3=CC(NCC4C3C2C=O)OCCCN5)CCNCC5C=CC4CCC\n",
    "CC(C)(C)CC=NC=C(CC=CC=C1C(SC)=CPC=O)CC=NN(C)CCCCC1(OC)C=O\n",
    "[H]C(O)[O-1]\n",
    "C1C(C2)C2(NC(S)(O)C=CN(C)N=CCS(=O)(=O)C=CC=O)C1N\n",
    "O=NNCCNCCNC(=O)C(CC)C(C)NC(C1)=CC=CC=C1CO\n",
    "CCOCNC(=O)CC=CC1=CC=CC=C1\n",
    "CCC1=NNC=C2C1(C=NOC2C[NH1]C=C3C=CC4=C)C=CC=C4NC(=O)NCC3C=O\n",
    "CC(C)C(=O)NCC(CCCCC=O)OCCC(=O)OCC1=CC=CC=C1CCC=C(CCNC(=O)C=C)C2=CCC=CC=C2\n",
    "C1CCOC1NCCNCC\n",
    "C1CC1CNC=NC=C2C=CN=CCC=CC=CC=CC2=N\n",
    "C1OC=CC=C2CC=C1NCCCOC(C)C=3NC=NC=3C2F\n",
    "CNC(=O)NCCCN\n",
    "CC(CCC=CN(CCCCCNC=O)CCNC(=O)C=CC(C)(N)CC1=CSC([N+1](=O)[O-1])C=C1CC=O)C=NN=CC=CC=CCC=O\n",
    "N=CN=CCC1=CC=CC=CC2=CC=CC=C2NC1NC(=O)C3=CC=CC=C3\n",
    "C1C=CNN=C(S2(=S)NCCC2C(=O)NCOC)CC=CC=C1\n",
    "CC=1CC=CC=C[NH1]C=CCC=1CC=NOC=C\n",
    "O=C1N2C(=O)COC2C3C1CSC(CC=CC=CC4=CC=C[NH1]C5=CC5=C=C4C3)OCCN\n",
    "CC(C1)CC(=O)OCC(N2C(=S)CC=N2)N=C1\n",
    "N#CC1=CNC=C1C=NCC2=CN=C(O)N2\n",
    "COCCCCCNCCCCN1CCCCC1=CC(=O)OC2=CC=C(O)C=C2CC=CN\n",
    "C1OC2=CC=C(C(=O)NCCOC1C3=C4C=C5C=C3C)C=NC(C)ON6CCCN6C(O)CCC5C4C2\n",
    "C1C=C1C2C3C=C(F)C4=C2CC(O)C=CC=C(Cl)C=CC(OC)C=C43\n",
    "CC=NN=NCC=CC(Br)=CCCC=CCNC(=O)C1NC=CC(F)=C1F\n",
    "COC=C1C2=CCCCN(CC(C)C=CC3=CC(Cl)=CC=C3C4CC=C2)CC4=N1\n",
    "CC1(C)C(C2(F)CC=CC3=C(Cl)COC=C3C2CC1(O)NC4(C)NCCC4=C5C=CC=CS56CC=CC(Cl)=C6C(=O)C)CCC(C)CCNCCC\n",
    "CCNNC#CC(=O)CC=CCC=CC=CC=C1NNCC1C(C)OC(N2)=NC=CC=C2C\n",
    "CCCN=CC1(N)C(=O)NC2CN(C)CCCCC1C=C2\n",
    "CC(=O)NCC=NCC=CC=N\n",
    "CC=CCC(C1)OC=CC2=CC=CC=C2NNC=NCSC=CC=C3C=CCCC3C1=O\n",
    "CC(C)CS(=O)(=O)C=CC1=CC=CC=C1C(=O)NC2=CC=C(F)C=C2\n",
    "O=CC(C1=C)C=CC=C1Cl\n",
    "CC1=CC=C2C=C1CC2(C)COCC=CC(=O)OC\n",
    "C1CCCC(N1C(C)CCC=CC=CCNC=C(C=CC(OC2C)=O)C=CC3=CC=CC)=C3C=C2O\n",
    "C1C(C)CCN(CCC2C=3CCCCNN=C(NC(C)F)C=3Cl)C4=C2N=C(Cl)C=C4N1CC=O\n",
    "C1CCCCC(C(=O)C=CC=C(CNCCN(C)C=O)CC2C=O)NOCCCCNC(OCC=CC=N)C21\n",
    "CCCCCC(CC(CC(=O)C=CCCCCCC(N1)C)(O)C=C(C#N)C=CC(C)F)=C1\n",
    "COCC1=CC=C1CC=N[Se]C(C2=CC=CC=NOC3=CC4(C)C=CC=C4N3C=N2)CCC=O\n",
    "CC12OC(=S)N(C)CC=CC(OC3=CC=CC=C3C1)=C2\n",
    "C=NCC=CC1=CC(=O)NC=CC2=CC=C1C=N2\n",
    "CC=CC(C(=O)NCN=SC1=CC=CC2=[N+1]1[O-1])CCCC3CCCC32C\n",
    "C12OC=CC3=NC4(C=CC(C=CC=CCN(CC5CC5)NC6(C=NC=CC=C4)NC)=N6)C=C1OC=C2CC=C3N\n",
    "CC(C)CCC=CC=NC(NC(=O)C=CC=CC(O)=CNCOC(=O)C1CNCCN1CNCCCC=C(CCC)N=O)CC=CC=C2C=CC(F)C=C2C\n",
    "CC=NC=CC(C1NC2=NCCC=CC=C1)=CC#CNC3=CC=CC=C3N2\n",
    "N=CCNCCCCC=NC1CC=CC=CN=CC2[NH1][NH1]C=CC2=C1C(=O)NCC\n",
    "C1C(C(N)C(=O)[NH1]C=C1CC=C)C2C=CC=C(C)N2CC=O\n",
    "'''"
   ]
  },
  {
   "cell_type": "code",
   "execution_count": 10,
   "metadata": {},
   "outputs": [
    {
     "name": "stdout",
     "output_type": "stream",
     "text": [
      "True COC=CC=C(C1=CN=CC=C1CCCN2C(=O)C3=CC=CC=C32)CCl\n",
      "True COC=CCC=CC1=C(NNC(=O)C=C2C3=C(Cl)C=CC=N3)N=CCCCC=CC=C2C=N1\n",
      "True O=CCOC1CCNC=C1CCS(=O)(=O)C=CC2C3=CC=CC=C3CCC2C=CC=CS\n",
      "True C1=2C(CC(=O)C(C)CNC=O)C=C1C=2C=NCC\n",
      "True CCCCCC1=NC(N)C(=C)C1(C(=O)OCCCOC=CC=C(O)C=N)CCCC2=CC=CC=C2S\n",
      "True COC=C1C=CCNC(=O)NCC(=O)C=CC1(NNCC(=O)[NH1]C)CCC(=O)NCCNCC2CC(C)CC2\n",
      "True CC1C(OC)C=CC1C#N\n",
      "True O=C(CNC(=O)C(C)CCC(C)CC1C2)C(O)C=CC(Br)=C2NCNC=CC=CC(=O)OCC=C(F)C(F)=C1CC(F)C\n",
      "True N=C(S)C=O\n",
      "True C1OC=CC=C2CNOC2(CSCC=C1C3)CC(C)CC3CC=O\n",
      "True O=CC1(O)C=CC=C1C(=O)CC[NH1]N=C(C2=CC=CC=C2)NN=CC=C3CC4=CC=CC=C4C=N3\n",
      "True CS(=O)(=C)C=C(C(C12CC=CC(=C1)C)=CC=CC3=CC=CC=C3C(C4=CC=CC=C4CC2CCC)C)CC=O\n",
      "True N#CC=CC=CNC=CC=C(C)Cl\n",
      "True C1C=NN=C(C=O)CCCC=C1\n",
      "True CC(C)CC(C(=O)N1CC2C3SC(=O)NC=NC=CC=C(Cl)C)=C3N2C=C(OS)C1=C\n",
      "True CCCCCCCCNC(=O)CCOCCOCC=CS(=O)(=O)C1=CC=CC=C1CCCCNC=N\n",
      "True CC(C)CC(CCC1CCCC=C1N)C=C(C)CC2=CC=CC=C2[N+1](=O)[O-1]\n",
      "True CCN(C#N)C=C1C=CC=C1N2CC=CC=C(C3)N23\n",
      "True CC(C)CCNCC=C1C(=O)ONC2=C(CN=C2NC=C)C=C1[NH1]C=C=CC=CC=C\n",
      "True CC(=O)C1=CC=C2C=C1NC(=O)C=CC=C(O3)C2C=CC=C3\n",
      "True COCC=CC(C(=O)N)C(C)CCCCC(N)=O\n",
      "True CC=CCCC1CNC(=O)CC1=CC(CC=CC(C(=O)N)C)C(=O)CCCF\n",
      "True O=C(CO)C(O)C(C)N(CC=CC=CC(Cl)=NC1=CC=CC=C1)CNC\n",
      "True C12C(C3)C4(C=CC(F)C3C15)N2C=CC=C(OC)N4C=CC5CCC(C)CC(C)=NC=CCF\n",
      "True CCC(=O)NC=CC=CC(C(N)O)CC(C1=CC=CC=C1O)C(=O)C=NOCNC2CC=CC=C2C=CC\n",
      "True O=C(C)OC(C(C)F)CNCNC(=O)CCCN=C\n",
      "True N12C=CC=C(NNC=NC(C3=CC=CC(=C3)Cl)N)C=CC(OCCCF)(C=NCC=CC=CC1OC)C2\n",
      "True CCCCCC(C1(C(=O)N)CCC2C)CC(C)CC2CC=C[NH1]1\n",
      "True CNC(C=NC)(NC=CC=C(NCC1C(=O)C2)CC=C3C=C2C=CC)CC=C13\n",
      "True CC=C(C=CC=CC=C(CCC1C2CN3C1)CCC=C(F)C3C=CC=CCCN2C)C=O\n",
      "True C1OC(=C23)N[NH1]C=CC=CC=C2N3C4=CC=CC=C41\n",
      "True CC(C)CCN(C(=O)OC1(C)CCC1C2CCC)OCN3CCCN3C=CC=C2Cl\n",
      "True CCCCC(C)CNCC1(C)CCCCOCC2(CN)C(C)N2CN1\n",
      "True NCCCCNC(C(=O)NCCCC=CC1=COC(C)OC1)F\n",
      "True CC(O)C=CC=C(CCCC1CCCCC1C(=O)NS(=O)=O)C(C)CCCCC(CCCCCC)CCNC(=O)C=CC=C(C)F\n",
      "True N1C=NN=C(C=CC=C(C)C=O)NC1C=O\n",
      "True COC=CC=C(C)C=O\n",
      "True C12=CC=C3C4=C1CNC(C)=C(Cl)C(C5=CC=CC(=C5)C(=O)CF)N2OCCC(C)OCC4C3\n",
      "True CCCC1N(C=CC(=NN2CC34CCO)C(C)C3CC1OC=CC(F)(F)C4C(C)=C)C=C2\n",
      "True CC(=O)C=CC=NC=CC=C(OC)SC=CC(Cl)C=CC=NC(CC(C)C)=NCC=CC1=CC=CC=C1Cl\n",
      "True O=C(NCC=CNCC1CNC(=O)N2NCCCN)C=CC=C21\n",
      "True NC=C(CCSC1=CC=CN=C1C(=O)NCCC2=CC=CC=N2)C(F)F\n",
      "True FC(O)[NH1]C(C1C)=NC=CC2=CC=C3C=C2CCN=C1NC(O)CCCCCCC=N3\n",
      "True CC=CC=CCCC(=O)NCCC(C)C\n",
      "True CCN(C(=O)NCC=C1)C=CC=CC(CC2=NC=CC=C2C)=CC=C1\n",
      "True C1N(NC=C2C=CC=CC=CC3=C(CCC=O)OCCCC4=CC=C5C=C4)CC=C5C3C=C12\n",
      "True C1OCC(O)C2CC[N+1](C3)C(C=C)N=C2CC4=C5C=CC=C4C5C(=O)NCNC3N1O\n",
      "True O=CC=CC(SCNC=CC=CC=CCC1NC(=O)CSC2=CC=CC3=C2CC(C=O)(C(O)C=O)NCC)NC4=CC=CC5=C4S(=O)(=O)C=C1C5N[NH1]C6C=CC=C6C3\n",
      "True C1CCNCCC=CC=CC=C2C3=NC(C=CC(SC(=O)C4=CC=CC=C4CC=CF)=C3N=CC=CC=C(F)C)=C2OC(O)CS1\n",
      "True C=1=CC=CNN=S(=O)C=C=1\n",
      "True O=CNNCCCOCC=CC=C(S1CC=CC=C(C)Cl)CC=CC=CNOC=CC=C1CCCC=N\n",
      "True COC(=O)C1C=CC=CC(C(=O)C=NC=C(C)N2COCC2)CCCC(=O)NC(N3C=C(C)C(=O)OC=C3)N=C1\n",
      "True O1C=C2C=CC3=CC=CC4=C3OCC=C2CC1N[N+1](=C)CC=CCC=CC=C4S\n",
      "True CC1OC(=O)C=NC=C1CNC2=NSC(C=NC=CC=CCC=CC(OC)S2)=O\n",
      "True CN(C)CCCCC1NCC2=CC=CC=C2CN1C(CNC(=O)CCCCC(=O)CC=CC)=C\n",
      "True CC(NN=C(CC1=CC=CC=C12)OC3=CC(NCC4C3C2C=O)OCCCN5)CCNCC5C=CC4CCC\n",
      "True CC(C)(C)CC=NC=C(CC=CC=C1C(SC)=CPC=O)CC=NN(C)CCCCC1(OC)C=O\n",
      "True [H]C(O)[O-1]\n",
      "True C1C(C2)C2(NC(S)(O)C=CN(C)N=CCS(=O)(=O)C=CC=O)C1N\n",
      "True O=NNCCNCCNC(=O)C(CC)C(C)NC(C1)=CC=CC=C1CO\n",
      "True CCOCNC(=O)CC=CC1=CC=CC=C1\n",
      "True CCC1=NNC=C2C1(C=NOC2C[NH1]C=C3C=CC4=C)C=CC=C4NC(=O)NCC3C=O\n",
      "True CC(C)C(=O)NCC(CCCCC=O)OCCC(=O)OCC1=CC=CC=C1CCC=C(CCNC(=O)C=C)C2=CCC=CC=C2\n",
      "True C1CCOC1NCCNCC\n",
      "True C1CC1CNC=NC=C2C=CN=CCC=CC=CC=CC2=N\n",
      "True C1OC=CC=C2CC=C1NCCCOC(C)C=3NC=NC=3C2F\n",
      "True CNC(=O)NCCCN\n",
      "True CC(CCC=CN(CCCCCNC=O)CCNC(=O)C=CC(C)(N)CC1=CSC([N+1](=O)[O-1])C=C1CC=O)C=NN=CC=CC=CCC=O\n",
      "True N=CN=CCC1=CC=CC=CC2=CC=CC=C2NC1NC(=O)C3=CC=CC=C3\n",
      "True C1C=CNN=C(S2(=S)NCCC2C(=O)NCOC)CC=CC=C1\n",
      "True CC=1CC=CC=C[NH1]C=CCC=1CC=NOC=C\n",
      "True O=C1N2C(=O)COC2C3C1CSC(CC=CC=CC4=CC=C[NH1]C5=CC5=C=C4C3)OCCN\n",
      "True CC(C1)CC(=O)OCC(N2C(=S)CC=N2)N=C1\n",
      "True N#CC1=CNC=C1C=NCC2=CN=C(O)N2\n",
      "True COCCCCCNCCCCN1CCCCC1=CC(=O)OC2=CC=C(O)C=C2CC=CN\n",
      "True C1OC2=CC=C(C(=O)NCCOC1C3=C4C=C5C=C3C)C=NC(C)ON6CCCN6C(O)CCC5C4C2\n",
      "True C1C=C1C2C3C=C(F)C4=C2CC(O)C=CC=C(Cl)C=CC(OC)C=C43\n",
      "True CC=NN=NCC=CC(Br)=CCCC=CCNC(=O)C1NC=CC(F)=C1F\n",
      "True COC=C1C2=CCCCN(CC(C)C=CC3=CC(Cl)=CC=C3C4CC=C2)CC4=N1\n",
      "True CC1(C)C(C2(F)CC=CC3=C(Cl)COC=C3C2CC1(O)NC4(C)NCCC4=C5C=CC=CS56CC=CC(Cl)=C6C(=O)C)CCC(C)CCNCCC\n",
      "True CCNNC#CC(=O)CC=CCC=CC=CC=C1NNCC1C(C)OC(N2)=NC=CC=C2C\n",
      "True CCCN=CC1(N)C(=O)NC2CN(C)CCCCC1C=C2\n",
      "True CC(=O)NCC=NCC=CC=N\n",
      "True CC=CCC(C1)OC=CC2=CC=CC=C2NNC=NCSC=CC=C3C=CCCC3C1=O\n",
      "True CC(C)CS(=O)(=O)C=CC1=CC=CC=C1C(=O)NC2=CC=C(F)C=C2\n",
      "True O=CC(C1=C)C=CC=C1Cl\n",
      "True CC1=CC=C2C=C1CC2(C)COCC=CC(=O)OC\n",
      "True C1CCCC(N1C(C)CCC=CC=CCNC=C(C=CC(OC2C)=O)C=CC3=CC=CC)=C3C=C2O\n",
      "True C1C(C)CCN(CCC2C=3CCCCNN=C(NC(C)F)C=3Cl)C4=C2N=C(Cl)C=C4N1CC=O\n",
      "True C1CCCCC(C(=O)C=CC=C(CNCCN(C)C=O)CC2C=O)NOCCCCNC(OCC=CC=N)C21\n",
      "True CCCCCC(CC(CC(=O)C=CCCCCCC(N1)C)(O)C=C(C#N)C=CC(C)F)=C1\n",
      "True COCC1=CC=C1CC=N[Se]C(C2=CC=CC=NOC3=CC4(C)C=CC=C4N3C=N2)CCC=O\n",
      "True CC12OC(=S)N(C)CC=CC(OC3=CC=CC=C3C1)=C2\n",
      "True C=NCC=CC1=CC(=O)NC=CC2=CC=C1C=N2\n",
      "True CC=CC(C(=O)NCN=SC1=CC=CC2=[N+1]1[O-1])CCCC3CCCC32C\n",
      "True C12OC=CC3=NC4(C=CC(C=CC=CCN(CC5CC5)NC6(C=NC=CC=C4)NC)=N6)C=C1OC=C2CC=C3N\n",
      "True CC(C)CCC=CC=NC(NC(=O)C=CC=CC(O)=CNCOC(=O)C1CNCCN1CNCCCC=C(CCC)N=O)CC=CC=C2C=CC(F)C=C2C\n",
      "True CC=NC=CC(C1NC2=NCCC=CC=C1)=CC#CNC3=CC=CC=C3N2\n",
      "True N=CCNCCCCC=NC1CC=CC=CN=CC2[NH1][NH1]C=CC2=C1C(=O)NCC\n",
      "True C1C(C(N)C(=O)[NH1]C=C1CC=C)C2C=CC=C(C)N2CC=O\n",
      "100 0\n"
     ]
    }
   ],
   "source": [
    "correct = 0\n",
    "in_correct = 0   \n",
    "for smile in s.split():\n",
    "    if smile == '': continue\n",
    "    x = Chem.MolFromSmiles(smile)\n",
    "    if x is None:\n",
    "        in_correct += 1\n",
    "        #print(\"False\", smile)\n",
    "    else: \n",
    "        correct += 1\n",
    "        print(\"True\", smile)\n",
    "\n",
    "print(correct, in_correct)"
   ]
  },
  {
   "cell_type": "code",
   "execution_count": 8,
   "metadata": {},
   "outputs": [
    {
     "name": "stdout",
     "output_type": "stream",
     "text": [
      "30 0\n"
     ]
    }
   ],
   "source": [
    "print(correct, in_correct)"
   ]
  },
  {
   "cell_type": "code",
   "execution_count": 12,
   "metadata": {},
   "outputs": [],
   "source": [
    "import selfies as sf"
   ]
  },
  {
   "cell_type": "code",
   "execution_count": 16,
   "metadata": {},
   "outputs": [],
   "source": [
    "x = [sf.encoder('s1nc(c(N2CCOC(C2)c2occc2)c1)C(F)(F)F')]"
   ]
  },
  {
   "cell_type": "code",
   "execution_count": 23,
   "metadata": {},
   "outputs": [],
   "source": [
    "r = sf.encoder('C[C@H](CO)Nc1ccc(CN2CC[C@@H](C2)COc2ccc(cc2)C#N)c(c1C)C')"
   ]
  },
  {
   "cell_type": "code",
   "execution_count": 25,
   "metadata": {},
   "outputs": [],
   "source": [
    "for i in range(1000000):\n",
    "    sf.split_selfies(r)"
   ]
  },
  {
   "cell_type": "code",
   "execution_count": null,
   "metadata": {},
   "outputs": [],
   "source": []
  },
  {
   "cell_type": "code",
   "execution_count": 14,
   "metadata": {},
   "outputs": [
    {
     "data": {
      "text/plain": [
       "str"
      ]
     },
     "execution_count": 14,
     "metadata": {},
     "output_type": "execute_result"
    }
   ],
   "source": [
    "type(sf.decoder(sf.encoder('C[C@H](CO)Nc1ccc(CN2CC[C@@H](C2)COc2ccc(cc2)C#N)c(c1C)C')))"
   ]
  },
  {
   "cell_type": "code",
   "execution_count": 29,
   "metadata": {},
   "outputs": [
    {
     "data": {
      "text/plain": [
       "{'[=Branch1]',\n",
       " '[=Branch2]',\n",
       " '[=C]',\n",
       " '[=Ring1]',\n",
       " '[Branch1]',\n",
       " '[Branch2]',\n",
       " '[C]',\n",
       " '[F]',\n",
       " '[N]',\n",
       " '[O]',\n",
       " '[Ring1]',\n",
       " '[Ring2]',\n",
       " '[S]'}"
      ]
     },
     "execution_count": 29,
     "metadata": {},
     "output_type": "execute_result"
    }
   ],
   "source": [
    "sf.get_alphabet_from_selfies(x)"
   ]
  },
  {
   "cell_type": "code",
   "execution_count": 5,
   "metadata": {},
   "outputs": [],
   "source": [
    "itr = pb.readfile('sdf', \"chembl_27.sdf\")\n"
   ]
  },
  {
   "cell_type": "code",
   "execution_count": 6,
   "metadata": {},
   "outputs": [],
   "source": [
    "smiles = []"
   ]
  },
  {
   "cell_type": "code",
   "execution_count": 7,
   "metadata": {},
   "outputs": [],
   "source": [
    "for sdf in itr:\n",
    "    smiles.append(sdf.write('smiles'))"
   ]
  },
  {
   "cell_type": "code",
   "execution_count": 8,
   "metadata": {},
   "outputs": [
    {
     "data": {
      "text/plain": [
       "1941411"
      ]
     },
     "execution_count": 8,
     "metadata": {},
     "output_type": "execute_result"
    }
   ],
   "source": [
    "len(smiles)"
   ]
  },
  {
   "cell_type": "code",
   "execution_count": 9,
   "metadata": {},
   "outputs": [
    {
     "data": {
      "text/plain": [
       "'c1(c2nc(N=C(N)N)sc2)cn(c(c1)C)C\\tCHEMBL153534\\n'"
      ]
     },
     "execution_count": 9,
     "metadata": {},
     "output_type": "execute_result"
    }
   ],
   "source": [
    "smiles[0]"
   ]
  },
  {
   "cell_type": "code",
   "execution_count": 10,
   "metadata": {},
   "outputs": [],
   "source": [
    "with open(\"chembl_27.smiles\", 'w') as f:\n",
    "    for s in smiles:\n",
    "        f.write(s)"
   ]
  },
  {
   "cell_type": "code",
   "execution_count": 1,
   "metadata": {},
   "outputs": [],
   "source": [
    "\n",
    "\n",
    "def tokenize(smiles, tokens):\n",
    "    \"\"\"\n",
    "    Takes a SMILES string and returns a list of tokens.\n",
    "    Atoms with 2 characters are treated as one token. The \n",
    "    logic references this code piece:\n",
    "    https://github.com/topazape/LSTM_Chem/blob/master/lstm_chem/utils/smiles_tokenizer2.py\n",
    "    \"\"\"\n",
    "    n = len(smiles)\n",
    "    tokenized = []\n",
    "    i = 0\n",
    "\n",
    "    # process all characters except the last one\n",
    "    while (i < n - 1):\n",
    "        # procoss tokens with length 2 first\n",
    "        c2 = smiles[i:i + 2]\n",
    "        if c2 in tokens:\n",
    "            tokenized.append(c2)\n",
    "            i += 2\n",
    "            continue\n",
    "\n",
    "        # tokens with length 2\n",
    "        c1 = smiles[i]\n",
    "        if c1 in tokens:\n",
    "            tokenized.append(c1)\n",
    "            i += 1\n",
    "            continue\n",
    "\n",
    "        raise ValueError(\n",
    "            \"Unrecognized charater in SMILES: {}, {}\".format(c1, c2))\n",
    "\n",
    "    # process last character if there is any\n",
    "    if i == n:\n",
    "        pass\n",
    "    elif i == n - 1 and smiles[i] in tokens:\n",
    "        tokenized.append(smiles[i])\n",
    "    else:\n",
    "        raise ValueError(\n",
    "            \"Unrecognized charater in SMILES: {}\".format(smiles[i]))\n",
    "    return tokenized\n",
    "\n",
    "\n",
    "atoms = [\n",
    "    'Al', 'As', 'B', 'Br', 'C', 'Cl', 'F', 'H', 'I', 'K', 'Li', 'N',\n",
    "    'Na', 'O', 'P', 'S', 'Se', 'Si', 'Te'\n",
    "]\n",
    "\n",
    "special = [\n",
    "    '(', ')', '[', ']', '=', '#', '%', '0', '1', '2', '3', '4', '5',\n",
    "    '6', '7', '8', '9', '+', '-', 'se', 'te', 'c', 'n', 'o', 'p', 's'\n",
    "]\n",
    "\n",
    "tokens = atoms + special\n",
    "tokens = set(tokens)\n",
    "\n"
   ]
  },
  {
   "cell_type": "code",
   "execution_count": 5,
   "metadata": {},
   "outputs": [],
   "source": [
    "def tokenize(smiles, tokens: set= None):\n",
    "    \"\"\"\n",
    "    Takes a SMILES string and returns a list of tokens.\n",
    "    Atoms with 2 characters are treated as one token. The \n",
    "    logic references this code piece:\n",
    "    https://github.com/topazape/LSTM_Chem/blob/master/lstm_chem/utils/smiles_tokenizer2.py\n",
    "    \"\"\"\n",
    "    if tokens == None: tokens = TOKENS\n",
    "\n",
    "    n = len(smiles)\n",
    "    tokenized = []\n",
    "    i = 0\n",
    "\n",
    "    # process all characters except the last one\n",
    "    while (i < n - 1):\n",
    "        # procoss tokens with length 2 first\n",
    "        c2 = smiles[i:i + 2]\n",
    "        if c2 in tokens:\n",
    "            tokenized.append(c2)\n",
    "            i += 2\n",
    "            continue\n",
    "\n",
    "        # tokens with length 1\n",
    "        c1 = smiles[i]\n",
    "        if c1 in tokens:\n",
    "            tokenized.append(c1)\n",
    "            i += 1\n",
    "            continue\n",
    "\n",
    "        # for unk\n",
    "        tokenized.append(UNK_TOKEN)\n",
    "\n",
    "    # process last character if there is any\n",
    "    if i == n:\n",
    "        pass\n",
    "    elif i == n - 1 and smiles[i] in tokens:\n",
    "        tokenized.append(smiles[i])\n",
    "    else:\n",
    "        tokenized.append(UNK_TOKEN)\n",
    "        \n",
    "    return tokenized\n",
    "\n"
   ]
  },
  {
   "cell_type": "code",
   "execution_count": 6,
   "metadata": {},
   "outputs": [],
   "source": [
    "for i in range(100000):\n",
    "    tokenize('O=C(N(C(C(=O)OCC)CC(=O)NCc1c2c([nH]c1)cccc2)C(C)C)c1ccccc1', tokens)"
   ]
  },
  {
   "cell_type": "code",
   "execution_count": 2,
   "metadata": {},
   "outputs": [
    {
     "ename": "ValueError",
     "evalue": "Unrecognized charater in SMILES: @, @H",
     "output_type": "error",
     "traceback": [
      "\u001b[0;31m---------------------------------------------------------------------------\u001b[0m",
      "\u001b[0;31mValueError\u001b[0m                                Traceback (most recent call last)",
      "Cell \u001b[0;32mIn[2], line 1\u001b[0m\n\u001b[0;32m----> 1\u001b[0m \u001b[43mtokenize\u001b[49m\u001b[43m(\u001b[49m\u001b[38;5;124;43m'\u001b[39;49m\u001b[38;5;124;43mN([C@H](C(=O)N)CCCN=C(N)N)C(=O)[C@@H](NC(=O)CNC(=O)[C@@H]1CCCN1C(=O)[C@@H]1CCCN1C(=O)CNC(=O)[C@@H](NC(=O)[C@@H](NC(=O)CNC(=O)[C@@H](NC(=O)[C@@H](NC(=O)[C@@H](NC(=O)[C@@H](NC(=O)[C@@H](NC(=O)[C@@H](NC(=O)[C@@H](NC(=O)[C@@H](NC(=O)[C@@H](NC(=O)CNC(=O)[C@@H](NC(=O)[C@@H](NC(=O)[C@@H](NC(=O)[C@@H](NC(=O)CNC(=O)[C@@H](NC(=O)[C@@H](NC(=O)[C@@H](NC(=O)[C@@H](N)CCSC)[C@H](O)C)CC(C)C)[C@@H](C)CC)C)C)Cc1c[nH]cn1)CC(=O)N)C)C)CCC(=O)N)CC(C)C)CC(C)C)CCCN=C(N)N)CCC(=O)N)CC(C)C)CCCN=C(N)N)CCC(=O)N)CC(C)C)CO\u001b[39;49m\u001b[38;5;124;43m'\u001b[39;49m\u001b[43m,\u001b[49m\u001b[43m \u001b[49m\u001b[43mtokens\u001b[49m\u001b[43m)\u001b[49m\n",
      "Cell \u001b[0;32mIn[1], line 28\u001b[0m, in \u001b[0;36mtokenize\u001b[0;34m(smiles, tokens)\u001b[0m\n\u001b[1;32m     25\u001b[0m         i \u001b[38;5;241m+\u001b[39m\u001b[38;5;241m=\u001b[39m \u001b[38;5;241m1\u001b[39m\n\u001b[1;32m     26\u001b[0m         \u001b[38;5;28;01mcontinue\u001b[39;00m\n\u001b[0;32m---> 28\u001b[0m     \u001b[38;5;28;01mraise\u001b[39;00m \u001b[38;5;167;01mValueError\u001b[39;00m(\n\u001b[1;32m     29\u001b[0m         \u001b[38;5;124m\"\u001b[39m\u001b[38;5;124mUnrecognized charater in SMILES: \u001b[39m\u001b[38;5;132;01m{}\u001b[39;00m\u001b[38;5;124m, \u001b[39m\u001b[38;5;132;01m{}\u001b[39;00m\u001b[38;5;124m\"\u001b[39m\u001b[38;5;241m.\u001b[39mformat(c1, c2))\n\u001b[1;32m     31\u001b[0m \u001b[38;5;66;03m# process last character if there is any\u001b[39;00m\n\u001b[1;32m     32\u001b[0m \u001b[38;5;28;01mif\u001b[39;00m i \u001b[38;5;241m==\u001b[39m n:\n",
      "\u001b[0;31mValueError\u001b[0m: Unrecognized charater in SMILES: @, @H"
     ]
    }
   ],
   "source": [
    "tokenize('N([C@H](C(=O)N)CCCN=C(N)N)C(=O)[C@@H](NC(=O)CNC(=O)[C@@H]1CCCN1C(=O)[C@@H]1CCCN1C(=O)CNC(=O)[C@@H](NC(=O)[C@@H](NC(=O)CNC(=O)[C@@H](NC(=O)[C@@H](NC(=O)[C@@H](NC(=O)[C@@H](NC(=O)[C@@H](NC(=O)[C@@H](NC(=O)[C@@H](NC(=O)[C@@H](NC(=O)[C@@H](NC(=O)CNC(=O)[C@@H](NC(=O)[C@@H](NC(=O)[C@@H](NC(=O)[C@@H](NC(=O)CNC(=O)[C@@H](NC(=O)[C@@H](NC(=O)[C@@H](NC(=O)[C@@H](N)CCSC)[C@H](O)C)CC(C)C)[C@@H](C)CC)C)C)Cc1c[nH]cn1)CC(=O)N)C)C)CCC(=O)N)CC(C)C)CC(C)C)CCCN=C(N)N)CCC(=O)N)CC(C)C)CCCN=C(N)N)CCC(=O)N)CC(C)C)CO', tokens)"
   ]
  },
  {
   "cell_type": "code",
   "execution_count": 1,
   "metadata": {},
   "outputs": [],
   "source": [
    "s = '''Category\tTerm\tCount\t%\tPValue\tGenes\tList Total\tPop Hits\tPop Total\tFold Enrichment\tBonferroni\tBenjamini\tFDR\n",
    "GOTERM_BP_DIRECT\tGO:0000122~negative regulation of transcription from RNA polymerase II promoter\t22\t8.979591836734693\t0.0027376233857505016\tSUZ12, ZFP566, MYEF2, SMARCC2, EED, CUL3, IRF2BP1, ZBTB10, ZFP949, YBX3, SMAD5, NR2F6, THAP11, PURA, KAT2A, DAB2, RYBP, CDK6, SAP30L, TBX20, HMX1, HSPA1A\t209\t1047\t20199\t2.0307645905594933\t0.9699075353714104\t1.0\t1.0\n",
    "GOTERM_BP_DIRECT\tGO:0007049~cell cycle\t15\t6.122448979591836\t0.007508528584478598\tMAP10, RBM38, DUSP1, CUL3, MASTL, RAB11A, SNX18, CDK6, MARVELD1, MCMBP, PHF13, ERH, SPDL1, BRD7, BANP\t209\t649\t20199\t2.233727265354871\t0.999934411253772\t1.0\t1.0\n",
    "GOTERM_BP_DIRECT\tGO:0060213~positive regulation of nuclear-transcribed mRNA poly(A) tail shortening\t3\t1.2244897959183674\t0.007638883566690017\tAGO2, PABPC1, TNRC6A\t209\t13\t20199\t22.302907618697095\t0.9999445468177359\t1.0\t1.0\n",
    "GOTERM_BP_DIRECT\tGO:0007080~mitotic metaphase plate congression\t4\t1.6326530612244898\t0.00919762214183824\tCUL3, CHMP4B, SPDL1, RAB11A\t209\t42\t20199\t9.204374572795626\t0.9999925623221173\t1.0\t1.0\n",
    "GOTERM_BP_DIRECT\tGO:0032436~positive regulation of proteasomal ubiquitin-dependent protein catabolic process\t5\t2.0408163265306123\t0.010227204979345761\tGSK3A, DAB2, HSPA1B, DDA1, HSPA1A\t209\t82\t20199\t5.8930446959972\t0.999998030368041\t1.0\t1.0\n",
    "GOTERM_BP_DIRECT\tGO:1900153~positive regulation of nuclear-transcribed mRNA catabolic process, deadenylation-dependent decay\t3\t1.2244897959183674\t0.011516366586510758\tAGO2, PABPC1, TNRC6A\t209\t16\t20199\t18.121112440191386\t0.9999996276089382\t1.0\t1.0\n",
    "GOTERM_BP_DIRECT\tGO:0006355~regulation of transcription, DNA-templated\t23\t9.387755102040817\t0.012272471525737388\tZFHX2, MTERF3, BNC2, ZFP703, ZFP768, CDCA7L, KMT2B, TFEB, EBF3, HOXD11, SMAD5, NR2F6, ASXL1, KAT2A, PTP4A3, HINT1, RYBP, SAP30L, FUBP1, AGO2, TBX20, HMX1, TMPO\t209\t1275\t20199\t1.7434168308471714\t0.9999998599484701\t1.0\t1.0\n",
    "GOTERM_BP_DIRECT\tGO:0006470~protein dephosphorylation\t6\t2.4489795918367347\t0.01867038468332765\tPTP4A3, PPM1L, PPP2R1B, DUSP1, PPP2R5B, PPP4R3B\t209\t148\t20199\t3.9180783654467866\t0.9999999999653703\t1.0\t1.0\n",
    "GOTERM_BP_DIRECT\tGO:0006513~protein monoubiquitination\t4\t1.6326530612244898\t0.01907351795974573\tCUL3, UBE2D3, HUWE1, RNF220\t209\t55\t20199\t7.028795128316659\t0.9999999999795169\t1.0\t1.0\n",
    "GOTERM_BP_DIRECT\tGO:1901673~regulation of mitotic spindle assembly\t3\t1.2244897959183674\t0.021291746432049775\tCHMP4B, HSPA1B, HSPA1A\t209\t22\t20199\t13.178990865593736\t0.9999999999988654\t1.0\t1.0\n",
    "GOTERM_BP_DIRECT\tGO:0006357~regulation of transcription from RNA polymerase II promoter\t24\t9.795918367346939\t0.032608609097379615\tZFP566, ZFHX2, SMARCC2, CUL3, IRF2BP1, PRDM15, TFEB, ZBTB10, ZFP609, WIZ, ZFP949, EBF3, HOXD11, SMAD5, THAP11, PURA, KAT2A, ZFP24, FUBP1, TBX20, LCORL, BRD7, MAMLD1, HMX1\t209\t1485\t20199\t1.5619544729592578\t1.0\t1.0\t1.0\n",
    "GOTERM_BP_DIRECT\tGO:0042733~embryonic digit morphogenesis\t4\t1.6326530612244898\t0.03308535314656937\tC2CD3, GNAQ, GNA12, HOXD11\t209\t68\t20199\t5.685054883197298\t1.0\t1.0\t1.0\n",
    "GOTERM_BP_DIRECT\tGO:0017156~calcium ion regulated exocytosis\t3\t1.2244897959183674\t0.03570935730548789\tRAP1B, SYN2, SYT6\t209\t29\t20199\t9.99785513941594\t1.0\t1.0\t1.0\n",
    "GOTERM_BP_DIRECT\tGO:0007275~multicellular organism development\t19\t7.755102040816326\t0.03578968299019846\tVEZT, DOCK7, ZFR, PRDM15, ZFP609, EBF3, CELSR1, HOXD11, SMAD5, TSKU, DYNC2LI1, DAB2, AGO2, TBX20, RICTOR, CACTIN, LSM14A, HMX1, BANP\t209\t1101\t20199\t1.6678226405746843\t1.0\t1.0\t1.0\n",
    "GOTERM_BP_DIRECT\tGO:0090068~positive regulation of cell cycle process\t2\t0.8163265306122449\t0.04056124418431852\tTBX20, USP19\t209\t4\t20199\t48.32296650717703\t1.0\t1.0\t1.0\n",
    "GOTERM_BP_DIRECT\tGO:0008283~cell proliferation\t8\t3.2653061224489797\t0.040716405173473164\tSUZ12, RAP1B, PURA, PAK1IP1, TBX20, MALT1, FAM83A, THAP11\t209\t308\t20199\t2.510283974398807\t1.0\t1.0\t1.0\n",
    "GOTERM_BP_DIRECT\tGO:0043484~regulation of RNA splicing\t4\t1.6326530612244898\t0.04233423468426491\tRBM38, KAT2A, CDK12, PTBP2\t209\t75\t20199\t5.154449760765551\t1.0\t1.0\t1.0\n",
    "GOTERM_BP_DIRECT\tGO:0021510~spinal cord development\t3\t1.2244897959183674\t0.050284549860743426\tSUZ12, EED, NEFL\t209\t35\t20199\t8.283937115516062\t1.0\t1.0\t1.0\n",
    "GOTERM_BP_DIRECT\tGO:0046488~phosphatidylinositol metabolic process\t3\t1.2244897959183674\t0.05289045899594471\tPLCB4, PLCG1, PITPNC1\t209\t36\t20199\t8.053827751196172\t1.0\t1.0\t1.0\n",
    "GOTERM_BP_DIRECT\tGO:0050804~modulation of synaptic transmission\t5\t2.0408163265306123\t0.05339083559034197\tPLCB4, PACSIN2, PLCG1, GRIK2, LRRC4C\t209\t137\t20199\t3.5272238326406593\t1.0\t1.0\t1.0\n",
    "GOTERM_BP_DIRECT\tGO:0051301~cell division\t9\t3.6734693877551026\t0.05897708667709997\tMAP10, SNX18, CDK6, CUL3, CDC27, MCMBP, PHF13, SPDL1, MASTL\t209\t404\t20199\t2.153003458240561\t1.0\t1.0\t1.0\n",
    "GOTERM_BP_DIRECT\tGO:0009267~cellular response to starvation\t4\t1.6326530612244898\t0.05918350102705965\tRRAGA, TFEB, CLEC16A, TNRC6A\t209\t86\t20199\t4.495159675086235\t1.0\t1.0\t1.0\n",
    "GOTERM_BP_DIRECT\tGO:0010977~negative regulation of neuron projection development\t4\t1.6326530612244898\t0.06773441177621939\tGSK3A, DAB2, ZFP365, TSKU\t209\t91\t20199\t4.248172879751827\t1.0\t1.0\t1.0\n",
    "GOTERM_BP_DIRECT\tGO:0031952~regulation of protein autophosphorylation\t2\t0.8163265306122449\t0.06990384091820884\tMOB1A, PPP2R5B\t209\t7\t20199\t27.613123718386877\t1.0\t1.0\t1.0\n",
    "GOTERM_BP_DIRECT\tGO:0001701~in utero embryonic development\t8\t3.2653061224489797\t0.07060347657933333\tKAT2A, DAB2, C2CD3, CUL3, GNA12, APBA1, PLCG1, YBX3\t209\t350\t20199\t2.20904989747095\t1.0\t1.0\t1.0\n",
    "GOTERM_BP_DIRECT\tGO:2000781~positive regulation of double-strand break repair\t3\t1.2244897959183674\t0.07533100886978052\tZCWPW1, SMARCC2, BRD7\t209\t44\t20199\t6.589495432796868\t1.0\t1.0\t1.0\n",
    "GOTERM_BP_DIRECT\tGO:0006417~regulation of translation\t5\t2.0408163265306123\t0.07794926391980964\tTACO1, IREB2, AGO2, LSM14A, TNRC6A\t209\t156\t20199\t3.097626058152374\t1.0\t1.0\t1.0\n",
    "GOTERM_BP_DIRECT\tGO:0007399~nervous system development\t9\t3.6734693877551026\t0.07924123076837059\tGABRB3, PURA, KAT2A, GSK3A, SMARCC2, DOCK7, CPLX2, ZFP365, TSKU\t209\t432\t20199\t2.0134569377990434\t1.0\t1.0\t1.0\n",
    "GOTERM_BP_DIRECT\tGO:0048642~negative regulation of skeletal muscle tissue development\t2\t0.8163265306122449\t0.07948486315775932\tYBX3, USP19\t209\t8\t20199\t24.161483253588514\t1.0\t1.0\t1.0\n",
    "GOTERM_BP_DIRECT\tGO:0090063~positive regulation of microtubule nucleation\t2\t0.8163265306122449\t0.07948486315775932\tHSPA1B, HSPA1A\t209\t8\t20199\t24.161483253588514\t1.0\t1.0\t1.0\n",
    "GOTERM_BP_DIRECT\tGO:0032507~maintenance of protein location in cell\t2\t0.8163265306122449\t0.07948486315775932\tMPRIP, TNRC6A\t209\t8\t20199\t24.161483253588514\t1.0\t1.0\t1.0\n",
    "GOTERM_BP_DIRECT\tGO:0072594~establishment of protein localization to organelle\t2\t0.8163265306122449\t0.07948486315775932\tLAMP1, RAB11A\t209\t8\t20199\t24.161483253588514\t1.0\t1.0\t1.0\n",
    "GOTERM_BP_DIRECT\tGO:0031440~regulation of mRNA 3'-end processing\t2\t0.8163265306122449\t0.07948486315775932\tCDK9, PAPOLA\t209\t8\t20199\t24.161483253588514\t1.0\t1.0\t1.0\n",
    "GOTERM_BP_DIRECT\tGO:1903955~positive regulation of protein targeting to mitochondrion\t2\t0.8163265306122449\t0.07948486315775932\tADCY10, GSK3A\t209\t8\t20199\t24.161483253588514\t1.0\t1.0\t1.0\n",
    "GOTERM_BP_DIRECT\tGO:0010468~regulation of gene expression\t9\t3.6734693877551026\t0.08404462558258444\tCDK6, FUBP1, KMT2B, IREB2, APBA1, RICTOR, HOXD11, YBX3, TSKU\t209\t437\t20199\t1.9904196730645003\t1.0\t1.0\t1.0\n",
    "GOTERM_BP_DIRECT\tGO:1901524~regulation of macromitophagy\t2\t0.8163265306122449\t0.0889676598711513\tADCY10, GSK3A\t209\t9\t20199\t21.476874003189792\t1.0\t1.0\t1.0\n",
    "GOTERM_BP_DIRECT\tGO:0000209~protein polyubiquitination\t5\t2.0408163265306123\t0.08998294533675433\tCUL3, UBE2D3, HUWE1, IRF2BP1, DDA1\t209\t164\t20199\t2.9465223479986\t1.0\t1.0\t1.0\n",
    "GOTERM_BP_DIRECT\tGO:0043161~proteasome-mediated ubiquitin-dependent protein catabolic process\t6\t2.4489795918367347\t0.09228274718564233\tGSK3A, GID4, CUL3, UBE2D3, CLEC16A, KCTD5\t209\t232\t20199\t2.499463784853985\t1.0\t1.0\t1.0\n",
    "GOTERM_BP_DIRECT\tGO:0042391~regulation of membrane potential\t4\t1.6326530612244898\t0.09645792600667795\tGABRB3, PIEZO2, GRIK2, CACNG2\t209\t106\t20199\t3.647016340164304\t1.0\t1.0\t1.0\n",
    "GOTERM_BP_DIRECT\tGO:0036010~protein localization to endosome\t2\t0.8163265306122449\t0.09835323326258467\tAKAP11, PACSIN2\t209\t10\t20199\t19.329186602870813\t1.0\t1.0\t1.0\n",
    "GOTERM_BP_DIRECT\tGO:0098970~postsynaptic neurotransmitter receptor diffusion trapping\t2\t0.8163265306122449\t0.09835323326258467\tCAMK2A, CACNG2\t209\t10\t20199\t19.329186602870813\t1.0\t1.0\t1.0'''"
   ]
  },
  {
   "cell_type": "code",
   "execution_count": 3,
   "metadata": {},
   "outputs": [
    {
     "name": "stdout",
     "output_type": "stream",
     "text": [
      "Category,Term,Count,%,PValue,Genes,List Total,Pop Hits,Pop Total,Fold Enrichment,Bonferroni,Benjamini,FDR\n",
      "GOTERM_BP_DIRECT,GO:0000122~negative regulation of transcription from RNA polymerase II promoter,22,8.979591836734693,0.0027376233857505016,SUZ12, ZFP566, MYEF2, SMARCC2, EED, CUL3, IRF2BP1, ZBTB10, ZFP949, YBX3, SMAD5, NR2F6, THAP11, PURA, KAT2A, DAB2, RYBP, CDK6, SAP30L, TBX20, HMX1, HSPA1A,209,1047,20199,2.0307645905594933,0.9699075353714104,1.0,1.0\n",
      "GOTERM_BP_DIRECT,GO:0007049~cell cycle,15,6.122448979591836,0.007508528584478598,MAP10, RBM38, DUSP1, CUL3, MASTL, RAB11A, SNX18, CDK6, MARVELD1, MCMBP, PHF13, ERH, SPDL1, BRD7, BANP,209,649,20199,2.233727265354871,0.999934411253772,1.0,1.0\n",
      "GOTERM_BP_DIRECT,GO:0060213~positive regulation of nuclear-transcribed mRNA poly(A) tail shortening,3,1.2244897959183674,0.007638883566690017,AGO2, PABPC1, TNRC6A,209,13,20199,22.302907618697095,0.9999445468177359,1.0,1.0\n",
      "GOTERM_BP_DIRECT,GO:0007080~mitotic metaphase plate congression,4,1.6326530612244898,0.00919762214183824,CUL3, CHMP4B, SPDL1, RAB11A,209,42,20199,9.204374572795626,0.9999925623221173,1.0,1.0\n",
      "GOTERM_BP_DIRECT,GO:0032436~positive regulation of proteasomal ubiquitin-dependent protein catabolic process,5,2.0408163265306123,0.010227204979345761,GSK3A, DAB2, HSPA1B, DDA1, HSPA1A,209,82,20199,5.8930446959972,0.999998030368041,1.0,1.0\n",
      "GOTERM_BP_DIRECT,GO:1900153~positive regulation of nuclear-transcribed mRNA catabolic process, deadenylation-dependent decay,3,1.2244897959183674,0.011516366586510758,AGO2, PABPC1, TNRC6A,209,16,20199,18.121112440191386,0.9999996276089382,1.0,1.0\n",
      "GOTERM_BP_DIRECT,GO:0006355~regulation of transcription, DNA-templated,23,9.387755102040817,0.012272471525737388,ZFHX2, MTERF3, BNC2, ZFP703, ZFP768, CDCA7L, KMT2B, TFEB, EBF3, HOXD11, SMAD5, NR2F6, ASXL1, KAT2A, PTP4A3, HINT1, RYBP, SAP30L, FUBP1, AGO2, TBX20, HMX1, TMPO,209,1275,20199,1.7434168308471714,0.9999998599484701,1.0,1.0\n",
      "GOTERM_BP_DIRECT,GO:0006470~protein dephosphorylation,6,2.4489795918367347,0.01867038468332765,PTP4A3, PPM1L, PPP2R1B, DUSP1, PPP2R5B, PPP4R3B,209,148,20199,3.9180783654467866,0.9999999999653703,1.0,1.0\n",
      "GOTERM_BP_DIRECT,GO:0006513~protein monoubiquitination,4,1.6326530612244898,0.01907351795974573,CUL3, UBE2D3, HUWE1, RNF220,209,55,20199,7.028795128316659,0.9999999999795169,1.0,1.0\n",
      "GOTERM_BP_DIRECT,GO:1901673~regulation of mitotic spindle assembly,3,1.2244897959183674,0.021291746432049775,CHMP4B, HSPA1B, HSPA1A,209,22,20199,13.178990865593736,0.9999999999988654,1.0,1.0\n",
      "GOTERM_BP_DIRECT,GO:0006357~regulation of transcription from RNA polymerase II promoter,24,9.795918367346939,0.032608609097379615,ZFP566, ZFHX2, SMARCC2, CUL3, IRF2BP1, PRDM15, TFEB, ZBTB10, ZFP609, WIZ, ZFP949, EBF3, HOXD11, SMAD5, THAP11, PURA, KAT2A, ZFP24, FUBP1, TBX20, LCORL, BRD7, MAMLD1, HMX1,209,1485,20199,1.5619544729592578,1.0,1.0,1.0\n",
      "GOTERM_BP_DIRECT,GO:0042733~embryonic digit morphogenesis,4,1.6326530612244898,0.03308535314656937,C2CD3, GNAQ, GNA12, HOXD11,209,68,20199,5.685054883197298,1.0,1.0,1.0\n",
      "GOTERM_BP_DIRECT,GO:0017156~calcium ion regulated exocytosis,3,1.2244897959183674,0.03570935730548789,RAP1B, SYN2, SYT6,209,29,20199,9.99785513941594,1.0,1.0,1.0\n",
      "GOTERM_BP_DIRECT,GO:0007275~multicellular organism development,19,7.755102040816326,0.03578968299019846,VEZT, DOCK7, ZFR, PRDM15, ZFP609, EBF3, CELSR1, HOXD11, SMAD5, TSKU, DYNC2LI1, DAB2, AGO2, TBX20, RICTOR, CACTIN, LSM14A, HMX1, BANP,209,1101,20199,1.6678226405746843,1.0,1.0,1.0\n",
      "GOTERM_BP_DIRECT,GO:0090068~positive regulation of cell cycle process,2,0.8163265306122449,0.04056124418431852,TBX20, USP19,209,4,20199,48.32296650717703,1.0,1.0,1.0\n",
      "GOTERM_BP_DIRECT,GO:0008283~cell proliferation,8,3.2653061224489797,0.040716405173473164,SUZ12, RAP1B, PURA, PAK1IP1, TBX20, MALT1, FAM83A, THAP11,209,308,20199,2.510283974398807,1.0,1.0,1.0\n",
      "GOTERM_BP_DIRECT,GO:0043484~regulation of RNA splicing,4,1.6326530612244898,0.04233423468426491,RBM38, KAT2A, CDK12, PTBP2,209,75,20199,5.154449760765551,1.0,1.0,1.0\n",
      "GOTERM_BP_DIRECT,GO:0021510~spinal cord development,3,1.2244897959183674,0.050284549860743426,SUZ12, EED, NEFL,209,35,20199,8.283937115516062,1.0,1.0,1.0\n",
      "GOTERM_BP_DIRECT,GO:0046488~phosphatidylinositol metabolic process,3,1.2244897959183674,0.05289045899594471,PLCB4, PLCG1, PITPNC1,209,36,20199,8.053827751196172,1.0,1.0,1.0\n",
      "GOTERM_BP_DIRECT,GO:0050804~modulation of synaptic transmission,5,2.0408163265306123,0.05339083559034197,PLCB4, PACSIN2, PLCG1, GRIK2, LRRC4C,209,137,20199,3.5272238326406593,1.0,1.0,1.0\n",
      "GOTERM_BP_DIRECT,GO:0051301~cell division,9,3.6734693877551026,0.05897708667709997,MAP10, SNX18, CDK6, CUL3, CDC27, MCMBP, PHF13, SPDL1, MASTL,209,404,20199,2.153003458240561,1.0,1.0,1.0\n",
      "GOTERM_BP_DIRECT,GO:0009267~cellular response to starvation,4,1.6326530612244898,0.05918350102705965,RRAGA, TFEB, CLEC16A, TNRC6A,209,86,20199,4.495159675086235,1.0,1.0,1.0\n",
      "GOTERM_BP_DIRECT,GO:0010977~negative regulation of neuron projection development,4,1.6326530612244898,0.06773441177621939,GSK3A, DAB2, ZFP365, TSKU,209,91,20199,4.248172879751827,1.0,1.0,1.0\n",
      "GOTERM_BP_DIRECT,GO:0031952~regulation of protein autophosphorylation,2,0.8163265306122449,0.06990384091820884,MOB1A, PPP2R5B,209,7,20199,27.613123718386877,1.0,1.0,1.0\n",
      "GOTERM_BP_DIRECT,GO:0001701~in utero embryonic development,8,3.2653061224489797,0.07060347657933333,KAT2A, DAB2, C2CD3, CUL3, GNA12, APBA1, PLCG1, YBX3,209,350,20199,2.20904989747095,1.0,1.0,1.0\n",
      "GOTERM_BP_DIRECT,GO:2000781~positive regulation of double-strand break repair,3,1.2244897959183674,0.07533100886978052,ZCWPW1, SMARCC2, BRD7,209,44,20199,6.589495432796868,1.0,1.0,1.0\n",
      "GOTERM_BP_DIRECT,GO:0006417~regulation of translation,5,2.0408163265306123,0.07794926391980964,TACO1, IREB2, AGO2, LSM14A, TNRC6A,209,156,20199,3.097626058152374,1.0,1.0,1.0\n",
      "GOTERM_BP_DIRECT,GO:0007399~nervous system development,9,3.6734693877551026,0.07924123076837059,GABRB3, PURA, KAT2A, GSK3A, SMARCC2, DOCK7, CPLX2, ZFP365, TSKU,209,432,20199,2.0134569377990434,1.0,1.0,1.0\n",
      "GOTERM_BP_DIRECT,GO:0048642~negative regulation of skeletal muscle tissue development,2,0.8163265306122449,0.07948486315775932,YBX3, USP19,209,8,20199,24.161483253588514,1.0,1.0,1.0\n",
      "GOTERM_BP_DIRECT,GO:0090063~positive regulation of microtubule nucleation,2,0.8163265306122449,0.07948486315775932,HSPA1B, HSPA1A,209,8,20199,24.161483253588514,1.0,1.0,1.0\n",
      "GOTERM_BP_DIRECT,GO:0032507~maintenance of protein location in cell,2,0.8163265306122449,0.07948486315775932,MPRIP, TNRC6A,209,8,20199,24.161483253588514,1.0,1.0,1.0\n",
      "GOTERM_BP_DIRECT,GO:0072594~establishment of protein localization to organelle,2,0.8163265306122449,0.07948486315775932,LAMP1, RAB11A,209,8,20199,24.161483253588514,1.0,1.0,1.0\n",
      "GOTERM_BP_DIRECT,GO:0031440~regulation of mRNA 3'-end processing,2,0.8163265306122449,0.07948486315775932,CDK9, PAPOLA,209,8,20199,24.161483253588514,1.0,1.0,1.0\n",
      "GOTERM_BP_DIRECT,GO:1903955~positive regulation of protein targeting to mitochondrion,2,0.8163265306122449,0.07948486315775932,ADCY10, GSK3A,209,8,20199,24.161483253588514,1.0,1.0,1.0\n",
      "GOTERM_BP_DIRECT,GO:0010468~regulation of gene expression,9,3.6734693877551026,0.08404462558258444,CDK6, FUBP1, KMT2B, IREB2, APBA1, RICTOR, HOXD11, YBX3, TSKU,209,437,20199,1.9904196730645003,1.0,1.0,1.0\n",
      "GOTERM_BP_DIRECT,GO:1901524~regulation of macromitophagy,2,0.8163265306122449,0.0889676598711513,ADCY10, GSK3A,209,9,20199,21.476874003189792,1.0,1.0,1.0\n",
      "GOTERM_BP_DIRECT,GO:0000209~protein polyubiquitination,5,2.0408163265306123,0.08998294533675433,CUL3, UBE2D3, HUWE1, IRF2BP1, DDA1,209,164,20199,2.9465223479986,1.0,1.0,1.0\n",
      "GOTERM_BP_DIRECT,GO:0043161~proteasome-mediated ubiquitin-dependent protein catabolic process,6,2.4489795918367347,0.09228274718564233,GSK3A, GID4, CUL3, UBE2D3, CLEC16A, KCTD5,209,232,20199,2.499463784853985,1.0,1.0,1.0\n",
      "GOTERM_BP_DIRECT,GO:0042391~regulation of membrane potential,4,1.6326530612244898,0.09645792600667795,GABRB3, PIEZO2, GRIK2, CACNG2,209,106,20199,3.647016340164304,1.0,1.0,1.0\n",
      "GOTERM_BP_DIRECT,GO:0036010~protein localization to endosome,2,0.8163265306122449,0.09835323326258467,AKAP11, PACSIN2,209,10,20199,19.329186602870813,1.0,1.0,1.0\n",
      "GOTERM_BP_DIRECT,GO:0098970~postsynaptic neurotransmitter receptor diffusion trapping,2,0.8163265306122449,0.09835323326258467,CAMK2A, CACNG2,209,10,20199,19.329186602870813,1.0,1.0,1.0\n"
     ]
    }
   ],
   "source": [
    "print(s.replace('\\t', ','))"
   ]
  },
  {
   "cell_type": "code",
   "execution_count": null,
   "metadata": {},
   "outputs": [],
   "source": []
  }
 ],
 "metadata": {
  "kernelspec": {
   "display_name": "base",
   "language": "python",
   "name": "python3"
  },
  "language_info": {
   "codemirror_mode": {
    "name": "ipython",
    "version": 3
   },
   "file_extension": ".py",
   "mimetype": "text/x-python",
   "name": "python",
   "nbconvert_exporter": "python",
   "pygments_lexer": "ipython3",
   "version": "3.9.18"
  }
 },
 "nbformat": 4,
 "nbformat_minor": 2
}
