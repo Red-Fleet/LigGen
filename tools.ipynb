{
 "cells": [
  {
   "cell_type": "code",
   "execution_count": 2,
   "metadata": {},
   "outputs": [],
   "source": [
    "import os\n",
    "import utils\n",
    "import selfies as sf"
   ]
  },
  {
   "cell_type": "code",
   "execution_count": 10,
   "metadata": {},
   "outputs": [],
   "source": [
    "def num_atoms_in_smiles(smiles):\n",
    "    '''return number of atoms present in smiles'''\n",
    "    total = 0\n",
    "    i = 0\n",
    "    while i < len(smiles):\n",
    "        if smiles[i] in utils.smiles_atoms:\n",
    "            total += 1\n",
    "        elif i+1 < len(smiles) and smiles[i:i+2] in smiles:\n",
    "            total += 1\n",
    "            i += 1\n",
    "        i += 1\n",
    "    \n",
    "    return total\n",
    "\n",
    "def refine_smiles(smiles_list, min_atoms, max_atoms):\n",
    "    '''return new list contaning smiles which have atoms in range of min_atom and max_atom'''\n",
    "\n",
    "    result = []\n",
    "    for smiles in smiles_list: \n",
    "        count = num_atoms_in_smiles(smiles)\n",
    "\n",
    "        if count >= min_atoms and count <= max_atoms:\n",
    "            result.append(smiles)\n",
    "\n",
    "    return result\n",
    "\n",
    "def refine_smiles_file(in_file_path, out_file_path, min_atoms, max_atoms):\n",
    "    with open(in_file_path) as f_in:\n",
    "        smiles_list = [smiles.split()[0] for smiles in f_in.readlines()]\n",
    "\n",
    "        refined_smiles_list = refine_smiles(smiles_list, min_atoms, max_atoms)\n",
    "\n",
    "        with open(out_file_path, 'w') as f_out:\n",
    "            for smiles in refined_smiles_list:\n",
    "                f_out.write(smiles + '\\n')\n"
   ]
  },
  {
   "cell_type": "code",
   "execution_count": 12,
   "metadata": {},
   "outputs": [],
   "source": [
    "refine_smiles_file('enamine.smiles', 'enamine_10_atoms.smiles', 0, 10)"
   ]
  },
  {
   "cell_type": "code",
   "execution_count": null,
   "metadata": {},
   "outputs": [],
   "source": []
  }
 ],
 "metadata": {
  "kernelspec": {
   "display_name": "Python 3 (ipykernel)",
   "language": "python",
   "name": "python3"
  },
  "language_info": {
   "codemirror_mode": {
    "name": "ipython",
    "version": 3
   },
   "file_extension": ".py",
   "mimetype": "text/x-python",
   "name": "python",
   "nbconvert_exporter": "python",
   "pygments_lexer": "ipython3",
   "version": "3.9.18"
  }
 },
 "nbformat": 4,
 "nbformat_minor": 2
}
