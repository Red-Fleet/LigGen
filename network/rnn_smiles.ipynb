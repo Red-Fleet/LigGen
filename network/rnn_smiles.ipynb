{
 "cells": [
  {
   "cell_type": "code",
   "execution_count": 1,
   "metadata": {},
   "outputs": [],
   "source": [
    "import torch\n",
    "from torch import nn\n",
    "from torch.utils.data import DataLoader, Dataset, random_split\n",
    "import os\n",
    "from SmilesPE.pretokenizer import atomwise_tokenizer\n",
    "from os import path as p\n",
    "import torchtext\n",
    "from collections import OrderedDict\n",
    "import math\n",
    "import torch.nn.functional as f\n",
    "import torch.optim as optim\n",
    "import numpy as np\n",
    "import matplotlib.pyplot as plt\n",
    "from collections import defaultdict\n",
    "from torch.optim.lr_scheduler import ReduceLROnPlateau\n",
    "import selfies as sf\n"
   ]
  },
  {
   "cell_type": "code",
   "execution_count": 2,
   "metadata": {},
   "outputs": [],
   "source": [
    "START_TOKEN = '<start>'\n",
    "END_TOKEN = '<end>'\n",
    "PAD_TOKEN = '<pad>'\n",
    "UNK_TOKEN = '<unk>'\n",
    "DEVICE = 'cuda:0' if torch.cuda.is_available() else 'cpu'"
   ]
  },
  {
   "cell_type": "code",
   "execution_count": 3,
   "metadata": {},
   "outputs": [],
   "source": [
    "TOKENS = {\n",
    "    'Al', 'As', 'B', 'Br', 'C', 'Cl', 'F', 'H', 'I', 'K', 'Li', 'N',\n",
    "    'Na', 'O', 'P', 'S', 'Se', 'Si', 'Te',\n",
    "    '(', ')', '[', ']', '=', '#', '%', '0', '1', '2', '3', '4', '5',\n",
    "    '6', '7', '8', '9', '+', '-', 'se', 'te', 'c', 'n', 'o', 'p', 's', \n",
    "    '@@', '@', '\\\\', '/', '.'\n",
    "}\n",
    "\n",
    "special_tokens = [PAD_TOKEN, UNK_TOKEN, START_TOKEN, END_TOKEN]\n",
    "VOCAB = torchtext.vocab.vocab(ordered_dict=OrderedDict({e:1 for e in TOKENS}), specials=special_tokens)\n",
    "VOCAB.set_default_index(VOCAB[UNK_TOKEN])\n",
    "\n",
    "\n"
   ]
  },
  {
   "cell_type": "code",
   "execution_count": 4,
   "metadata": {},
   "outputs": [],
   "source": [
    "\n",
    "def tokenize(smiles, tokens: set= None):\n",
    "    \"\"\"\n",
    "    Takes a SMILES string and returns a list of tokens.\n",
    "    Atoms with 2 characters are treated as one token. The \n",
    "    logic references this code piece:\n",
    "    https://github.com/topazape/LSTM_Chem/blob/master/lstm_chem/utils/smiles_tokenizer2.py\n",
    "    \"\"\"\n",
    "    if tokens == None: tokens = TOKENS\n",
    "\n",
    "    n = len(smiles)\n",
    "    tokenized = []\n",
    "    i = 0\n",
    "\n",
    "    # process all characters except the last one\n",
    "    while (i < n - 1):\n",
    "        # procoss tokens with length 2 first\n",
    "        c2 = smiles[i:i + 2]\n",
    "        if c2 in tokens:\n",
    "            tokenized.append(c2)\n",
    "            i += 2\n",
    "            continue\n",
    "\n",
    "        # tokens with length 1\n",
    "        c1 = smiles[i]\n",
    "        if c1 in tokens:\n",
    "            tokenized.append(c1)\n",
    "            i += 1\n",
    "            continue\n",
    "\n",
    "        # for unk\n",
    "        tokenized.append(UNK_TOKEN)\n",
    "        i += 1\n",
    "\n",
    "    # process last character if there is any\n",
    "    if i == n:\n",
    "        pass\n",
    "    elif i == n - 1 and smiles[i] in tokens:\n",
    "        tokenized.append(smiles[i])\n",
    "    else:\n",
    "        tokenized.append(UNK_TOKEN)\n",
    "        \n",
    "    return tokenized\n",
    "\n"
   ]
  },
  {
   "cell_type": "code",
   "execution_count": 5,
   "metadata": {},
   "outputs": [],
   "source": [
    "# Dataset creation\n",
    "class SmilesDataset(Dataset):\n",
    "    def __init__(self, smiles_dir, vocab=None, tokens=None, max_len=None): # start and end tokens are added\n",
    "        '''\n",
    "        if vocab is None : getVocab() is used\n",
    "        if max_len is None: take max_len from dataset\n",
    "        if max_len == 'avg': take average length from dataset\n",
    "        '''\n",
    "        if vocab is None: vocab = VOCAB\n",
    "        self.vocab = vocab\n",
    "\n",
    "        smiles_files = os.listdir(smiles_dir)\n",
    "        # reading smiles from files\n",
    "        tokenized_sen = []\n",
    "        for file_name in smiles_files:\n",
    "            with open(p.join(smiles_dir, file_name)) as f:\n",
    "                for l in f:\n",
    "                    if (\"smile\" not in l) and (l != ''):\n",
    "                        tokenized_sen.append(tokenize(l.split()[0], tokens))\n",
    "        \n",
    "        if max_len is None: max_len = max([len(sen) for sen in tokenized_sen])\n",
    "        if max_len == 'avg': max_len = int(sum([len(sen) for sen in tokenized_sen])/len(tokenized_sen))\n",
    "\n",
    "        # stripping\n",
    "        tokenized_sen = [sen[: max_len-2] for sen in tokenized_sen]\n",
    "\n",
    "        # adding start and end tokens\n",
    "        tokenized_sen = [[START_TOKEN] + sen + [END_TOKEN] for sen in tokenized_sen]\n",
    "\n",
    "        # padding\n",
    "        tokenized_sen = [sen + [PAD_TOKEN]*(max_len-len(sen)) for sen in tokenized_sen]\n",
    "\n",
    "        # addention mask false at <pad> tokem, true at non pad token\n",
    "        self.pad_masks = torch.tensor([[PAD_TOKEN==tok for tok in sen] for sen in tokenized_sen])\n",
    "\n",
    "        # converting to index\n",
    "        self.data = torch.tensor([self.vocab(sen) for sen in tokenized_sen], dtype=torch.long)\n",
    "\n",
    "    def __len__(self):\n",
    "        return len(self.data)\n",
    "\n",
    "    def __getitem__(self, idx):\n",
    "        return {'idx': self.data[idx], 'pad_mask': self.pad_masks[idx]}"
   ]
  },
  {
   "cell_type": "code",
   "execution_count": 7,
   "metadata": {},
   "outputs": [],
   "source": [
    "dataset = SmilesDataset('smiles_chembl', VOCAB, TOKENS, max_len=100)"
   ]
  },
  {
   "cell_type": "code",
   "execution_count": 8,
   "metadata": {},
   "outputs": [],
   "source": [
    "split_ratio = 0.95\n",
    "split_seed = 42\n",
    "train_ds, valid_ds = random_split(dataset, [int(len(dataset)*split_ratio), len(dataset)-int(len(dataset)*split_ratio)], generator=torch.Generator().manual_seed(split_seed))"
   ]
  },
  {
   "cell_type": "markdown",
   "metadata": {},
   "source": [
    "# model"
   ]
  },
  {
   "cell_type": "code",
   "execution_count": 9,
   "metadata": {
    "notebookRunGroups": {
     "groupValue": "2"
    }
   },
   "outputs": [],
   "source": [
    "\n",
    "    \n",
    "class RNNSmiles(nn.Module):\n",
    "    def __init__(self, vocab_size, embed_dim, hidden_size, num_layers=1, dropout=0):\n",
    "        super().__init__()\n",
    "        self.embedding = nn.Embedding(vocab_size, embed_dim)\n",
    "        self.gru = nn.GRU(embed_dim, hidden_size, batch_first=True, num_layers=num_layers, dropout=dropout)\n",
    "        self.linear = nn.Linear(hidden_size, vocab_size)\n",
    "        \n",
    "\n",
    "\n",
    "    def forward(self, x, pad_mask=None):\n",
    "        ''' x = batch * seq_len\n",
    "            pad_mask = batch*seq_len\n",
    "        '''\n",
    "        \n",
    "        x = self.embedding(x)\n",
    "        x, _ = self.gru(x)\n",
    "        x = self.linear(x)\n",
    "        \n",
    "        return x\n",
    "    \n",
    "    def generateSmiles(self, batch_size, vocab, max_len=100):\n",
    "        x = torch.full((batch_size, 1), vocab[START_TOKEN]).to(self.getDevice())\n",
    "        \n",
    "        for i in range(1, max_len+1):\n",
    "            out = self.forward(x)[:, -1]\n",
    "            out = f.softmax(out, dim=1)\n",
    "            out = torch.multinomial(out, 1)\n",
    "            x = torch.cat((x, out), dim=1)\n",
    "        \n",
    "        x = x.detach().cpu().tolist()\n",
    "        # converting idx to smiles\n",
    "        results = []\n",
    "        for i in range(batch_size):\n",
    "            sentance = vocab.lookup_tokens(x[i])\n",
    "            \n",
    "            new_sentance = [] # removing special chars\n",
    "            for i in range(1, len(sentance)):\n",
    "                e = sentance[i]\n",
    "                if e==END_TOKEN: break\n",
    "                if e==START_TOKEN or e==PAD_TOKEN or e==UNK_TOKEN:\n",
    "                    new_sentance = ['invalid']\n",
    "                    break\n",
    "                \n",
    "                new_sentance.append(e)\n",
    "            \n",
    "            results.append(new_sentance)\n",
    "        \n",
    "        return results\n",
    "    \n"
   ]
  },
  {
   "cell_type": "code",
   "execution_count": 10,
   "metadata": {},
   "outputs": [],
   "source": [
    "model = RNNSmiles(vocab_size=len(VOCAB), \n",
    "        embed_dim=256,\n",
    "        hidden_size=512,\n",
    "        num_layers=3, \n",
    "        dropout=0)\n",
    "\n",
    "model = model.to(DEVICE)\n",
    "batch_size = 512\n",
    "\n",
    "train_loader = DataLoader(train_ds, batch_size)\n",
    "val_loader = DataLoader(valid_ds, batch_size)\n",
    "\n",
    "criterion = nn.CrossEntropyLoss(reduction='sum', ignore_index=VOCAB[PAD_TOKEN])\n",
    "optimizer = optim.Adam(model.parameters(), lr=0.0005, amsgrad=True, weight_decay=0.0001)\n",
    "\n",
    "# learning rate scheduler\n",
    "scheduler = ReduceLROnPlateau(\n",
    "    optimizer, mode='min',\n",
    "    factor=0.5, patience=5,\n",
    "    cooldown=10, min_lr=0.0001\n",
    ")\n",
    "\n",
    "train_result = []\n",
    "val_result = []\n",
    "epoch  = 10"
   ]
  },
  {
   "cell_type": "code",
   "execution_count": 12,
   "metadata": {},
   "outputs": [
    {
     "name": "stdout",
     "output_type": "stream",
     "text": [
      "33920.95703125\n",
      "27688.607421875\n",
      "24500.287109375\n",
      "23427.41796875\n",
      "22615.1015625\n",
      "21970.2578125\n",
      "21702.1640625\n",
      "20247.771484375\n",
      "20174.44140625\n",
      "14001.9765625\n",
      "Epoch: 1 train loss: 49.875187065269614 val loss: 38.25805847599821\n",
      "19144.513671875\n",
      "19486.169921875\n",
      "18928.740234375\n",
      "18768.236328125\n",
      "18604.837890625\n",
      "18331.744140625\n",
      "18432.689453125\n",
      "17645.21484375\n",
      "17801.318359375\n",
      "12278.04296875\n",
      "Epoch: 2 train loss: 36.08480705513252 val loss: 33.93201273792195\n",
      "17102.326171875\n",
      "17243.169921875\n",
      "16892.9609375\n",
      "16929.958984375\n",
      "16782.326171875\n",
      "32360.12109375\n",
      "24712.3984375\n",
      "22146.5\n",
      "21552.43359375\n",
      "14652.6865234375\n",
      "Epoch: 3 train loss: 39.0366482663083 val loss: 40.2767828095634\n",
      "20050.708984375\n",
      "20316.216796875\n",
      "19566.5\n",
      "19463.802734375\n",
      "19289.15625\n",
      "19206.388671875\n",
      "19396.720703125\n",
      "18521.0\n",
      "18772.916015625\n",
      "12996.87109375\n",
      "Epoch: 4 train loss: 37.74174072219803 val loss: 35.739043721612894\n",
      "18146.064453125\n",
      "18464.46484375\n",
      "18016.8515625\n",
      "18088.861328125\n",
      "17962.345703125\n",
      "17972.099609375\n",
      "18258.4453125\n",
      "17623.669921875\n",
      "17922.517578125\n",
      "12372.845703125\n",
      "Epoch: 5 train loss: 35.06983703368896 val loss: 34.15154421104575\n",
      "17385.23828125\n",
      "17598.384765625\n",
      "17286.20703125\n",
      "17410.4609375\n",
      "17291.740234375\n",
      "17309.6640625\n",
      "17598.068359375\n",
      "17090.734375\n",
      "17381.369140625\n",
      "11984.1455078125\n",
      "Epoch: 6 train loss: 33.75395775605012 val loss: 33.179055483836045\n",
      "16907.404296875\n",
      "17042.68359375\n",
      "16791.328125\n",
      "16945.57421875\n",
      "16841.201171875\n",
      "16846.576171875\n",
      "17111.37890625\n",
      "16705.87109375\n",
      "16987.71484375\n",
      "11698.2451171875\n",
      "Epoch: 7 train loss: 32.8513261987879 val loss: 32.460026255193746\n",
      "16543.373046875\n",
      "16623.353515625\n",
      "16401.80859375\n",
      "16581.8671875\n",
      "16481.990234375\n",
      "16481.759765625\n",
      "16729.37109375\n",
      "16394.703125\n",
      "16665.833984375\n",
      "11463.765625\n",
      "Epoch: 8 train loss: 32.1424606750916 val loss: 31.872839513814675\n",
      "16239.8505859375\n",
      "16280.318359375\n",
      "16079.3515625\n",
      "16277.240234375\n",
      "16173.5732421875\n",
      "16177.681640625\n",
      "16407.9765625\n",
      "16127.078125\n",
      "16379.197265625\n",
      "11259.7001953125\n",
      "Epoch: 9 train loss: 31.54679849412706 val loss: 31.372526204810953\n",
      "15974.18359375\n",
      "15992.5087890625\n",
      "15807.2880859375\n",
      "16013.4453125\n",
      "15899.46875\n",
      "15912.7158203125\n",
      "16130.279296875\n",
      "15884.6982421875\n",
      "16117.458984375\n",
      "11077.78125\n",
      "Epoch: 10 train loss: 31.02670793848353 val loss: 30.935279378351176\n"
     ]
    }
   ],
   "source": [
    "for i in range(10):\n",
    "    tl = train(model, optimizer, criterion, train_loader)/batch_size\n",
    "    vl = valid(model, criterion, val_loader)/batch_size\n",
    "    scheduler.step(tl)\n",
    "    train_result.append(tl)\n",
    "    val_result.append(vl)\n",
    "\n",
    "    print(\"Epoch:\", i+1, \"train loss:\", tl, \"val loss:\", vl)\n",
    "\n",
    "\n"
   ]
  },
  {
   "cell_type": "code",
   "execution_count": 13,
   "metadata": {},
   "outputs": [
    {
     "data": {
      "text/plain": [
       "[<matplotlib.lines.Line2D at 0x7f69317bec00>]"
      ]
     },
     "execution_count": 13,
     "metadata": {},
     "output_type": "execute_result"
    },
    {
     "data": {
      "image/png": "[encoded data removed]",
      "text/plain": [
       "<Figure size 640x480 with 1 Axes>"
      ]
     },
     "metadata": {},
     "output_type": "display_data"
    }
   ],
   "source": [
    "plt.plot(train_result, marker='o')\n",
    "plt.plot(val_result, marker='o')"
   ]
  },
  {
   "cell_type": "code",
   "execution_count": 72,
   "metadata": {},
   "outputs": [
    {
     "name": "stdout",
     "output_type": "stream",
     "text": [
      "COC=CC=C(C1=CN=CC=C1CCCN2C(=O)C3=CC=CC=C32)CCl\n",
      "COC=CCC=CC1=C(NNC(=O)C=C2C3=C(Cl)C=CC=N3)N=CCCCC=CC=C2C=N1\n",
      "O=CCOC1CCNC=C1CCS(=O)(=O)C=CC2C3=CC=CC=C3CCC2C=CC=CS\n",
      "C1=2C(CC(=O)C(C)CNC=O)C=C1C=2C=NCC\n",
      "CCCCCC1=NC(N)C(=C)C1(C(=O)OCCCOC=CC=C(O)C=N)CCCC2=CC=CC=C2S\n",
      "COC=C1C=CCNC(=O)NCC(=O)C=CC1(NNCC(=O)[NH1]C)CCC(=O)NCCNCC2CC(C)CC2\n",
      "CC1C(OC)C=CC1C#N\n",
      "O=C(CNC(=O)C(C)CCC(C)CC1C2)C(O)C=CC(Br)=C2NCNC=CC=CC(=O)OCC=C(F)C(F)=C1CC(F)C\n",
      "N=C(S)C=O\n",
      "C1OC=CC=C2CNOC2(CSCC=C1C3)CC(C)CC3CC=O\n",
      "O=CC1(O)C=CC=C1C(=O)CC[NH1]N=C(C2=CC=CC=C2)NN=CC=C3CC4=CC=CC=C4C=N3\n",
      "CS(=O)(=C)C=C(C(C12CC=CC(=C1)C)=CC=CC3=CC=CC=C3C(C4=CC=CC=C4CC2CCC)C)CC=O\n",
      "N#CC=CC=CNC=CC=C(C)Cl\n",
      "C1C=NN=C(C=O)CCCC=C1\n",
      "CC(C)CC(C(=O)N1CC2C3SC(=O)NC=NC=CC=C(Cl)C)=C3N2C=C(OS)C1=C\n",
      "CCCCCCCCNC(=O)CCOCCOCC=CS(=O)(=O)C1=CC=CC=C1CCCCNC=N\n",
      "CC(C)CC(CCC1CCCC=C1N)C=C(C)CC2=CC=CC=C2[N+1](=O)[O-1]\n",
      "CCN(C#N)C=C1C=CC=C1N2CC=CC=C(C3)N23\n",
      "CC(C)CCNCC=C1C(=O)ONC2=C(CN=C2NC=C)C=C1[NH1]C=C=CC=CC=C\n",
      "CC(=O)C1=CC=C2C=C1NC(=O)C=CC=C(O3)C2C=CC=C3\n",
      "COCC=CC(C(=O)N)C(C)CCCCC(N)=O\n",
      "CC=CCCC1CNC(=O)CC1=CC(CC=CC(C(=O)N)C)C(=O)CCCF\n",
      "O=C(CO)C(O)C(C)N(CC=CC=CC(Cl)=NC1=CC=CC=C1)CNC\n",
      "C12C(C3)C4(C=CC(F)C3C15)N2C=CC=C(OC)N4C=CC5CCC(C)CC(C)=NC=CCF\n",
      "CCC(=O)NC=CC=CC(C(N)O)CC(C1=CC=CC=C1O)C(=O)C=NOCNC2CC=CC=C2C=CC\n",
      "O=C(C)OC(C(C)F)CNCNC(=O)CCCN=C\n",
      "N12C=CC=C(NNC=NC(C3=CC=CC(=C3)Cl)N)C=CC(OCCCF)(C=NCC=CC=CC1OC)C2\n",
      "CCCCCC(C1(C(=O)N)CCC2C)CC(C)CC2CC=C[NH1]1\n",
      "CNC(C=NC)(NC=CC=C(NCC1C(=O)C2)CC=C3C=C2C=CC)CC=C13\n",
      "CC=C(C=CC=CC=C(CCC1C2CN3C1)CCC=C(F)C3C=CC=CCCN2C)C=O\n",
      "C1OC(=C23)N[NH1]C=CC=CC=C2N3C4=CC=CC=C41\n",
      "CC(C)CCN(C(=O)OC1(C)CCC1C2CCC)OCN3CCCN3C=CC=C2Cl\n",
      "CCCCC(C)CNCC1(C)CCCCOCC2(CN)C(C)N2CN1\n",
      "NCCCCNC(C(=O)NCCCC=CC1=COC(C)OC1)F\n",
      "CC(O)C=CC=C(CCCC1CCCCC1C(=O)NS(=O)=O)C(C)CCCCC(CCCCCC)CCNC(=O)C=CC=C(C)F\n",
      "N1C=NN=C(C=CC=C(C)C=O)NC1C=O\n",
      "COC=CC=C(C)C=O\n",
      "C12=CC=C3C4=C1CNC(C)=C(Cl)C(C5=CC=CC(=C5)C(=O)CF)N2OCCC(C)OCC4C3\n",
      "CCCC1N(C=CC(=NN2CC34CCO)C(C)C3CC1OC=CC(F)(F)C4C(C)=C)C=C2\n",
      "CC(=O)C=CC=NC=CC=C(OC)SC=CC(Cl)C=CC=NC(CC(C)C)=NCC=CC1=CC=CC=C1Cl\n",
      "O=C(NCC=CNCC1CNC(=O)N2NCCCN)C=CC=C21\n",
      "NC=C(CCSC1=CC=CN=C1C(=O)NCCC2=CC=CC=N2)C(F)F\n",
      "FC(O)[NH1]C(C1C)=NC=CC2=CC=C3C=C2CCN=C1NC(O)CCCCCCC=N3\n",
      "CC=CC=CCCC(=O)NCCC(C)C\n",
      "CCN(C(=O)NCC=C1)C=CC=CC(CC2=NC=CC=C2C)=CC=C1\n",
      "C1N(NC=C2C=CC=CC=CC3=C(CCC=O)OCCCC4=CC=C5C=C4)CC=C5C3C=C12\n",
      "C1OCC(O)C2CC[N+1](C3)C(C=C)N=C2CC4=C5C=CC=C4C5C(=O)NCNC3N1O\n",
      "O=CC=CC(SCNC=CC=CC=CCC1NC(=O)CSC2=CC=CC3=C2CC(C=O)(C(O)C=O)NCC)NC4=CC=CC5=C4S(=O)(=O)C=C1C5N[NH1]C6C=CC=C6C3\n",
      "C1CCNCCC=CC=CC=C2C3=NC(C=CC(SC(=O)C4=CC=CC=C4CC=CF)=C3N=CC=CC=C(F)C)=C2OC(O)CS1\n",
      "C=1=CC=CNN=S(=O)C=C=1\n",
      "O=CNNCCCOCC=CC=C(S1CC=CC=C(C)Cl)CC=CC=CNOC=CC=C1CCCC=N\n",
      "COC(=O)C1C=CC=CC(C(=O)C=NC=C(C)N2COCC2)CCCC(=O)NC(N3C=C(C)C(=O)OC=C3)N=C1\n",
      "O1C=C2C=CC3=CC=CC4=C3OCC=C2CC1N[N+1](=C)CC=CCC=CC=C4S\n",
      "CC1OC(=O)C=NC=C1CNC2=NSC(C=NC=CC=CCC=CC(OC)S2)=O\n",
      "CN(C)CCCCC1NCC2=CC=CC=C2CN1C(CNC(=O)CCCCC(=O)CC=CC)=C\n",
      "CC(NN=C(CC1=CC=CC=C12)OC3=CC(NCC4C3C2C=O)OCCCN5)CCNCC5C=CC4CCC\n",
      "CC(C)(C)CC=NC=C(CC=CC=C1C(SC)=CPC=O)CC=NN(C)CCCCC1(OC)C=O\n",
      "[H]C(O)[O-1]\n",
      "C1C(C2)C2(NC(S)(O)C=CN(C)N=CCS(=O)(=O)C=CC=O)C1N\n",
      "O=NNCCNCCNC(=O)C(CC)C(C)NC(C1)=CC=CC=C1CO\n",
      "CCOCNC(=O)CC=CC1=CC=CC=C1\n",
      "CCC1=NNC=C2C1(C=NOC2C[NH1]C=C3C=CC4=C)C=CC=C4NC(=O)NCC3C=O\n",
      "CC(C)C(=O)NCC(CCCCC=O)OCCC(=O)OCC1=CC=CC=C1CCC=C(CCNC(=O)C=C)C2=CCC=CC=C2\n",
      "C1CCOC1NCCNCC\n",
      "C1CC1CNC=NC=C2C=CN=CCC=CC=CC=CC2=N\n",
      "C1OC=CC=C2CC=C1NCCCOC(C)C=3NC=NC=3C2F\n",
      "CNC(=O)NCCCN\n",
      "CC(CCC=CN(CCCCCNC=O)CCNC(=O)C=CC(C)(N)CC1=CSC([N+1](=O)[O-1])C=C1CC=O)C=NN=CC=CC=CCC=O\n",
      "N=CN=CCC1=CC=CC=CC2=CC=CC=C2NC1NC(=O)C3=CC=CC=C3\n",
      "C1C=CNN=C(S2(=S)NCCC2C(=O)NCOC)CC=CC=C1\n",
      "CC=1CC=CC=C[NH1]C=CCC=1CC=NOC=C\n",
      "O=C1N2C(=O)COC2C3C1CSC(CC=CC=CC4=CC=C[NH1]C5=CC5=C=C4C3)OCCN\n",
      "CC(C1)CC(=O)OCC(N2C(=S)CC=N2)N=C1\n",
      "N#CC1=CNC=C1C=NCC2=CN=C(O)N2\n",
      "COCCCCCNCCCCN1CCCCC1=CC(=O)OC2=CC=C(O)C=C2CC=CN\n",
      "C1OC2=CC=C(C(=O)NCCOC1C3=C4C=C5C=C3C)C=NC(C)ON6CCCN6C(O)CCC5C4C2\n",
      "C1C=C1C2C3C=C(F)C4=C2CC(O)C=CC=C(Cl)C=CC(OC)C=C43\n",
      "CC=NN=NCC=CC(Br)=CCCC=CCNC(=O)C1NC=CC(F)=C1F\n",
      "COC=C1C2=CCCCN(CC(C)C=CC3=CC(Cl)=CC=C3C4CC=C2)CC4=N1\n",
      "CC1(C)C(C2(F)CC=CC3=C(Cl)COC=C3C2CC1(O)NC4(C)NCCC4=C5C=CC=CS56CC=CC(Cl)=C6C(=O)C)CCC(C)CCNCCC\n",
      "CCNNC#CC(=O)CC=CCC=CC=CC=C1NNCC1C(C)OC(N2)=NC=CC=C2C\n",
      "CCCN=CC1(N)C(=O)NC2CN(C)CCCCC1C=C2\n",
      "CC(=O)NCC=NCC=CC=N\n",
      "CC=CCC(C1)OC=CC2=CC=CC=C2NNC=NCSC=CC=C3C=CCCC3C1=O\n",
      "CC(C)CS(=O)(=O)C=CC1=CC=CC=C1C(=O)NC2=CC=C(F)C=C2\n",
      "O=CC(C1=C)C=CC=C1Cl\n",
      "CC1=CC=C2C=C1CC2(C)COCC=CC(=O)OC\n",
      "C1CCCC(N1C(C)CCC=CC=CCNC=C(C=CC(OC2C)=O)C=CC3=CC=CC)=C3C=C2O\n",
      "C1C(C)CCN(CCC2C=3CCCCNN=C(NC(C)F)C=3Cl)C4=C2N=C(Cl)C=C4N1CC=O\n",
      "C1CCCCC(C(=O)C=CC=C(CNCCN(C)C=O)CC2C=O)NOCCCCNC(OCC=CC=N)C21\n",
      "CCCCCC(CC(CC(=O)C=CCCCCCC(N1)C)(O)C=C(C#N)C=CC(C)F)=C1\n",
      "COCC1=CC=C1CC=N[Se]C(C2=CC=CC=NOC3=CC4(C)C=CC=C4N3C=N2)CCC=O\n",
      "CC12OC(=S)N(C)CC=CC(OC3=CC=CC=C3C1)=C2\n",
      "C=NCC=CC1=CC(=O)NC=CC2=CC=C1C=N2\n",
      "CC=CC(C(=O)NCN=SC1=CC=CC2=[N+1]1[O-1])CCCC3CCCC32C\n",
      "C12OC=CC3=NC4(C=CC(C=CC=CCN(CC5CC5)NC6(C=NC=CC=C4)NC)=N6)C=C1OC=C2CC=C3N\n",
      "CC(C)CCC=CC=NC(NC(=O)C=CC=CC(O)=CNCOC(=O)C1CNCCN1CNCCCC=C(CCC)N=O)CC=CC=C2C=CC(F)C=C2C\n",
      "CC=NC=CC(C1NC2=NCCC=CC=C1)=CC#CNC3=CC=CC=C3N2\n",
      "N=CCNCCCCC=NC1CC=CC=CN=CC2[NH1][NH1]C=CC2=C1C(=O)NCC\n",
      "C1C(C(N)C(=O)[NH1]C=C1CC=C)C2C=CC=C(C)N2CC=O\n"
     ]
    }
   ],
   "source": [
    "smiles = model.generateSmiles(batch_size=100, vocab=VOCAB)\n",
    "\n",
    "for e in smiles:\n",
    "    smile = \"\".join(e)\n",
    "    print(sf.decoder(smile))\n",
    "    "
   ]
  },
  {
   "cell_type": "code",
   "execution_count": 11,
   "metadata": {},
   "outputs": [],
   "source": [
    "# Training function\n",
    "def train(model, optimizer, criterion, train_loader):\n",
    "    model.train()\n",
    "    total_loss = 0\n",
    "    count = 200\n",
    "    for e in train_loader:\n",
    "        x = e['idx'].to(DEVICE)\n",
    "        pad_mask = e['pad_mask'].to(DEVICE)\n",
    "\n",
    "        x_input = x[:, :-1]\n",
    "        pad_mask = pad_mask[:, :-1]\n",
    "        y_expected = x[:, 1:]\n",
    "        output = model(x_input, pad_mask)\n",
    "        #print(output.shape, y_expected.shape)\n",
    "\n",
    "        output = torch.flatten(output, start_dim=0, end_dim=1)\n",
    "        y_expected = torch.flatten(y_expected, start_dim=0, end_dim=1)\n",
    "        loss = criterion(output, y_expected)\n",
    "\n",
    "        optimizer.zero_grad()\n",
    "        loss.backward()\n",
    "        optimizer.step()\n",
    "\n",
    "        total_loss += loss.item()\n",
    "        count += 1\n",
    "        if (count+1)%100 == 0: print(loss.item())\n",
    "        \n",
    "    total_loss = total_loss/len(train_loader)\n",
    "    \n",
    "    return total_loss\n",
    "\n",
    "# valid function\n",
    "def valid(model, criterion, val_loader):\n",
    "    model.eval()\n",
    "    total_loss = 0\n",
    "\n",
    "    with torch.no_grad():\n",
    "        for e in val_loader:\n",
    "            x = e['idx'].to(DEVICE)\n",
    "            pad_mask = e['pad_mask'].to(DEVICE)\n",
    "\n",
    "            x_input = x[:, :-1]\n",
    "            pad_mask = pad_mask[:, :-1]\n",
    "            y_expected = x[:, 1:]\n",
    "\n",
    "            output = model(x_input, pad_mask)\n",
    "            \n",
    "            output = torch.flatten(output, start_dim=0, end_dim=1)\n",
    "            y_expected = torch.flatten(y_expected, start_dim=0, end_dim=1)\n",
    "            loss = criterion(output, y_expected)\n",
    "\n",
    "            total_loss += loss.item()\n",
    "        \n",
    "    total_loss = total_loss/len(val_loader)\n",
    "   \n",
    "    return total_loss\n",
    "    "
   ]
  },
  {
   "cell_type": "code",
   "execution_count": 44,
   "metadata": {},
   "outputs": [
    {
     "data": {
      "text/plain": [
       "Decoder(\n",
       "  (embedding): Embedding(10, 10)\n",
       "  (positional_encoding): PositionalEncoding(\n",
       "    (dropout): Dropout(p=0.1, inplace=False)\n",
       "  )\n",
       "  (decoder_layers): ModuleList(\n",
       "    (0): DecoderLayer(\n",
       "      (multihead): MultiheadAttention(\n",
       "        (out_proj): NonDynamicallyQuantizableLinear(in_features=10, out_features=10, bias=True)\n",
       "      )\n",
       "      (dropout1): Dropout(p=0.1, inplace=False)\n",
       "      (norm1): LayerNorm((10,), eps=1e-05, elementwise_affine=True)\n",
       "      (linear1): Linear(in_features=10, out_features=10, bias=True)\n",
       "      (dropout2): Dropout(p=0.1, inplace=False)\n",
       "      (linear2): Linear(in_features=10, out_features=10, bias=True)\n",
       "      (dropout3): Dropout(p=0.1, inplace=False)\n",
       "      (norm2): LayerNorm((10,), eps=1e-05, elementwise_affine=True)\n",
       "    )\n",
       "  )\n",
       ")"
      ]
     },
     "execution_count": 44,
     "metadata": {},
     "output_type": "execute_result"
    }
   ],
   "source": [
    "m = Decoder(10, 10, 1, 10)\n",
    "\n",
    "m.to(device='cuda')"
   ]
  },
  {
   "cell_type": "code",
   "execution_count": 46,
   "metadata": {},
   "outputs": [
    {
     "data": {
      "text/plain": [
       "[['invalid'],\n",
       " ['invalid'],\n",
       " ['invalid'],\n",
       " ['invalid'],\n",
       " ['invalid'],\n",
       " ['invalid'],\n",
       " [],\n",
       " ['invalid'],\n",
       " ['invalid'],\n",
       " [],\n",
       " [],\n",
       " ['invalid'],\n",
       " ['invalid'],\n",
       " ['invalid'],\n",
       " ['invalid'],\n",
       " ['invalid'],\n",
       " ['invalid'],\n",
       " ['invalid'],\n",
       " ['invalid'],\n",
       " [],\n",
       " ['invalid'],\n",
       " ['invalid'],\n",
       " ['invalid'],\n",
       " ['invalid'],\n",
       " ['invalid'],\n",
       " ['invalid'],\n",
       " ['invalid'],\n",
       " ['invalid'],\n",
       " ['invalid'],\n",
       " ['invalid'],\n",
       " ['invalid'],\n",
       " ['invalid'],\n",
       " ['invalid'],\n",
       " [],\n",
       " ['invalid'],\n",
       " ['invalid'],\n",
       " ['invalid'],\n",
       " ['invalid'],\n",
       " [],\n",
       " ['invalid'],\n",
       " [],\n",
       " ['invalid'],\n",
       " ['invalid'],\n",
       " [],\n",
       " ['invalid'],\n",
       " ['=', 'C', '/'],\n",
       " ['invalid'],\n",
       " ['invalid'],\n",
       " ['invalid'],\n",
       " [],\n",
       " ['invalid'],\n",
       " [],\n",
       " ['invalid'],\n",
       " [],\n",
       " ['invalid'],\n",
       " [],\n",
       " [],\n",
       " ['invalid'],\n",
       " ['invalid'],\n",
       " ['\\\\'],\n",
       " ['invalid'],\n",
       " ['=', '\\\\'],\n",
       " ['invalid'],\n",
       " ['/', 'C', '/', 'O'],\n",
       " [],\n",
       " ['\\\\'],\n",
       " ['invalid'],\n",
       " ['invalid'],\n",
       " [],\n",
       " ['invalid'],\n",
       " ['/'],\n",
       " ['invalid'],\n",
       " ['invalid'],\n",
       " [],\n",
       " ['invalid'],\n",
       " ['invalid'],\n",
       " ['invalid'],\n",
       " [],\n",
       " ['\\\\', '/'],\n",
       " ['invalid'],\n",
       " ['invalid'],\n",
       " [],\n",
       " ['invalid'],\n",
       " ['invalid'],\n",
       " ['invalid'],\n",
       " ['invalid'],\n",
       " ['invalid'],\n",
       " ['invalid'],\n",
       " ['invalid'],\n",
       " [],\n",
       " ['invalid'],\n",
       " ['invalid'],\n",
       " ['invalid'],\n",
       " ['invalid'],\n",
       " ['invalid'],\n",
       " ['invalid'],\n",
       " ['invalid'],\n",
       " [],\n",
       " ['invalid'],\n",
       " ['invalid']]"
      ]
     },
     "execution_count": 46,
     "metadata": {},
     "output_type": "execute_result"
    }
   ],
   "source": [
    "m.generateSmiles(100, getVocab(), 10)"
   ]
  },
  {
   "cell_type": "code",
   "execution_count": null,
   "metadata": {},
   "outputs": [],
   "source": [
    "m."
   ]
  },
  {
   "cell_type": "code",
   "execution_count": 61,
   "metadata": {},
   "outputs": [
    {
     "data": {
      "text/plain": [
       "Decoder(\n",
       "  (embedding): Embedding(10, 10)\n",
       "  (decoder_layers): ModuleList(\n",
       "    (0): DecoderLayer(\n",
       "      (multihead): MultiheadAttention(\n",
       "        (out_proj): NonDynamicallyQuantizableLinear(in_features=10, out_features=10, bias=True)\n",
       "      )\n",
       "      (dropout1): Dropout(p=0.1, inplace=False)\n",
       "      (norm1): LayerNorm((10,), eps=1e-05, elementwise_affine=True)\n",
       "      (linear1): Linear(in_features=10, out_features=10, bias=True)\n",
       "      (dropout2): Dropout(p=0.1, inplace=False)\n",
       "      (linear2): Linear(in_features=10, out_features=10, bias=True)\n",
       "      (dropout3): Dropout(p=0.1, inplace=False)\n",
       "      (norm2): LayerNorm((10,), eps=1e-05, elementwise_affine=True)\n",
       "    )\n",
       "  )\n",
       ")"
      ]
     },
     "execution_count": 61,
     "metadata": {},
     "output_type": "execute_result"
    }
   ],
   "source": [
    "m.to(\"cuda:1\")"
   ]
  },
  {
   "cell_type": "code",
   "execution_count": null,
   "metadata": {},
   "outputs": [],
   "source": [
    "m."
   ]
  },
  {
   "cell_type": "code",
   "execution_count": 56,
   "metadata": {},
   "outputs": [
    {
     "name": "stdout",
     "output_type": "stream",
     "text": [
      "None\n"
     ]
    }
   ],
   "source": [
    "print(next(m.parameters()).device.index)"
   ]
  },
  {
   "cell_type": "code",
   "execution_count": 55,
   "metadata": {},
   "outputs": [],
   "source": [
    "None"
   ]
  },
  {
   "cell_type": "code",
   "execution_count": 48,
   "metadata": {},
   "outputs": [],
   "source": [
    "x = next(m.parameters()).device"
   ]
  },
  {
   "cell_type": "code",
   "execution_count": 49,
   "metadata": {},
   "outputs": [
    {
     "data": {
      "text/plain": [
       "device(type='cuda', index=1)"
      ]
     },
     "execution_count": 49,
     "metadata": {},
     "output_type": "execute_result"
    }
   ],
   "source": [
    "x"
   ]
  },
  {
   "cell_type": "code",
   "execution_count": 51,
   "metadata": {},
   "outputs": [
    {
     "data": {
      "text/plain": [
       "1"
      ]
     },
     "execution_count": 51,
     "metadata": {},
     "output_type": "execute_result"
    }
   ],
   "source": [
    "x.index"
   ]
  },
  {
   "cell_type": "code",
   "execution_count": 16,
   "metadata": {},
   "outputs": [
    {
     "data": {
      "text/plain": [
       "tensor([[4, 4, 4],\n",
       "        [4, 4, 4]])"
      ]
     },
     "execution_count": 16,
     "metadata": {},
     "output_type": "execute_result"
    }
   ],
   "source": [
    "torch.full((2, 3), 4)"
   ]
  },
  {
   "cell_type": "code",
   "execution_count": 4,
   "metadata": {},
   "outputs": [
    {
     "data": {
      "text/plain": [
       "tensor([[1., 0., 0., 0.],\n",
       "        [1., 1., 0., 0.],\n",
       "        [1., 1., 1., 0.],\n",
       "        [1., 1., 1., 1.]])"
      ]
     },
     "execution_count": 4,
     "metadata": {},
     "output_type": "execute_result"
    }
   ],
   "source": [
    "torch.tril(torch.ones(4, 4))"
   ]
  },
  {
   "cell_type": "code",
   "execution_count": 5,
   "metadata": {},
   "outputs": [
    {
     "data": {
      "text/plain": [
       "tensor([[0., -inf, -inf, -inf],\n",
       "        [0., 0., -inf, -inf],\n",
       "        [0., 0., 0., -inf],\n",
       "        [0., 0., 0., 0.]])"
      ]
     },
     "execution_count": 5,
     "metadata": {},
     "output_type": "execute_result"
    }
   ],
   "source": [
    "torch.triu(\n",
    "        torch.full((4, 4), float('-inf'), dtype=torch.float),\n",
    "        diagonal=1,\n",
    "    )"
   ]
  },
  {
   "cell_type": "code",
   "execution_count": 9,
   "metadata": {},
   "outputs": [
    {
     "data": {
      "text/plain": [
       "-1"
      ]
     },
     "execution_count": 9,
     "metadata": {},
     "output_type": "execute_result"
    }
   ],
   "source": [
    "mask.get_device()"
   ]
  },
  {
   "cell_type": "code",
   "execution_count": null,
   "metadata": {},
   "outputs": [],
   "source": []
  },
  {
   "cell_type": "code",
   "execution_count": 6,
   "metadata": {},
   "outputs": [
    {
     "data": {
      "text/plain": [
       "tensor([[0., -inf, -inf, -inf],\n",
       "        [0., 0., -inf, -inf],\n",
       "        [0., 0., 0., -inf],\n",
       "        [0., 0., 0., 0.]])"
      ]
     },
     "execution_count": 6,
     "metadata": {},
     "output_type": "execute_result"
    }
   ],
   "source": [
    "mask = torch.tril(torch.ones(4, 4) == 1)\n",
    "mask = mask.float()\n",
    "mask = mask.masked_fill(mask == 0, float('-inf')) \n",
    "mask = mask.masked_fill(mask == 1, float(0.0))\n",
    "\n",
    "mask"
   ]
  },
  {
   "cell_type": "code",
   "execution_count": 15,
   "metadata": {},
   "outputs": [
    {
     "data": {
      "text/plain": [
       "tensor([[0., -inf, -inf, -inf],\n",
       "        [0., 0., -inf, -inf],\n",
       "        [0., 0., 0., -inf],\n",
       "        [0., 0., 0., 0.]])"
      ]
     },
     "execution_count": 15,
     "metadata": {},
     "output_type": "execute_result"
    }
   ],
   "source": [
    "mask.to(device='cpu')"
   ]
  },
  {
   "cell_type": "code",
   "execution_count": null,
   "metadata": {},
   "outputs": [
    {
     "data": {
      "text/plain": [
       "tensor([[ True, False, False, False],\n",
       "        [ True,  True, False, False],\n",
       "        [ True,  True,  True, False],\n",
       "        [ True,  True,  True,  True]])"
      ]
     },
     "execution_count": 4,
     "metadata": {},
     "output_type": "execute_result"
    }
   ],
   "source": [
    "torch.tril(torch.ones(4, 4) == 1)"
   ]
  },
  {
   "cell_type": "code",
   "execution_count": 5,
   "metadata": {},
   "outputs": [
    {
     "data": {
      "text/plain": [
       "tensor([[True, True, True, True],\n",
       "        [True, True, True, True],\n",
       "        [True, True, True, True],\n",
       "        [True, True, True, True]])"
      ]
     },
     "execution_count": 5,
     "metadata": {},
     "output_type": "execute_result"
    }
   ],
   "source": [
    "torch.ones(4, 4) == 1"
   ]
  },
  {
   "cell_type": "code",
   "execution_count": 29,
   "metadata": {},
   "outputs": [
    {
     "data": {
      "text/plain": [
       "TransformerDecoderLayer(\n",
       "  (self_attn): MultiheadAttention(\n",
       "    (out_proj): NonDynamicallyQuantizableLinear(in_features=10, out_features=10, bias=True)\n",
       "  )\n",
       "  (multihead_attn): MultiheadAttention(\n",
       "    (out_proj): NonDynamicallyQuantizableLinear(in_features=10, out_features=10, bias=True)\n",
       "  )\n",
       "  (linear1): Linear(in_features=10, out_features=2048, bias=True)\n",
       "  (dropout): Dropout(p=0.1, inplace=False)\n",
       "  (linear2): Linear(in_features=2048, out_features=10, bias=True)\n",
       "  (norm1): LayerNorm((10,), eps=1e-05, elementwise_affine=True)\n",
       "  (norm2): LayerNorm((10,), eps=1e-05, elementwise_affine=True)\n",
       "  (norm3): LayerNorm((10,), eps=1e-05, elementwise_affine=True)\n",
       "  (dropout1): Dropout(p=0.1, inplace=False)\n",
       "  (dropout2): Dropout(p=0.1, inplace=False)\n",
       "  (dropout3): Dropout(p=0.1, inplace=False)\n",
       ")"
      ]
     },
     "execution_count": 29,
     "metadata": {},
     "output_type": "execute_result"
    }
   ],
   "source": [
    "torch.nn.TransformerDecoderLayer(d_model=10, nhead=1)"
   ]
  },
  {
   "cell_type": "code",
   "execution_count": null,
   "metadata": {},
   "outputs": [],
   "source": []
  }
 ],
 "metadata": {
  "kernelspec": {
   "display_name": "Python 3 (ipykernel)",
   "language": "python",
   "name": "python3"
  }
 },
 "nbformat": 4,
 "nbformat_minor": 2
}
