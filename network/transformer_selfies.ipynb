{
 "cells": [
  {
   "cell_type": "code",
   "execution_count": 202,
   "metadata": {},
   "outputs": [],
   "source": [
    "import torch\n",
    "from torch import nn\n",
    "from torch.utils.data import DataLoader, Dataset, random_split\n",
    "import os\n",
    "from SmilesPE.pretokenizer import atomwise_tokenizer\n",
    "from os import path as p\n",
    "import torchtext\n",
    "from collections import OrderedDict\n",
    "import math\n",
    "import torch.nn.functional as tf\n",
    "import torch.optim as optim\n",
    "import numpy as np\n",
    "import matplotlib.pyplot as plt\n",
    "from collections import defaultdict\n",
    "from torch.optim.lr_scheduler import ReduceLROnPlateau\n",
    "import selfies as sf\n",
    "from rdkit.Chem import AllChem, Descriptors, Draw\n",
    "from rdkit import Chem\n",
    "from rdkit import DataStructs\n",
    "import seaborn as sns"
   ]
  },
  {
   "cell_type": "code",
   "execution_count": 167,
   "metadata": {},
   "outputs": [],
   "source": [
    "START_TOKEN = '<start>'\n",
    "END_TOKEN = '<end>'\n",
    "PAD_TOKEN = '<pad>'\n",
    "UNK_TOKEN = '<unk>'\n",
    "DEVICE = 'cuda:0' if torch.cuda.is_available() else 'cpu'"
   ]
  },
  {
   "cell_type": "code",
   "execution_count": 168,
   "metadata": {},
   "outputs": [],
   "source": [
    "TOKENS = {'[#Branch1]', '[#Branch2]', '[#C-1]', '[#C]', '[#N+1]', '[#N]', '[=As]', '[=Branch1]', '[=Branch2]', '[=C]', '[=N+1]', '[=N-1]', '[=NH1+1]', '[=NH2+1]', '[=N]', '[=O+1]', '[=O]', '[=P+1]', '[=PH1]', '[=P]', '[=Ring1]', '[=Ring2]', '[=S+1]', '[=SH1]', '[=S]', '[=Se+1]', '[=Se]', '[=Te+1]', '[Al]', '[As]', '[B-1]', '[BH1-1]', '[BH2-1]', '[BH3-1]', '[B]', '[Br]', '[Branch1]', '[Branch2]', '[C+1]', '[C-1]', '[CH1-1]', '[C]', '[Cl+3]', '[Cl]', '[F]', '[H]', '[I+1]', '[I]', '[N+1]', '[N-1]', '[NH1+1]', '[NH1-1]', '[NH1]', '[NH2+1]', '[N]', '[Na]', '[O+1]', '[O-1]', '[OH0]', '[OH1+1]', '[O]', '[P+1]', '[PH1]', '[P]', '[Ring1]', '[Ring2]', '[S+1]', '[S-1]', '[SH1]', '[S]', '[Se+1]', '[SeH1]', '[Se]', '[Si]', '[Te]'}\n",
    "special_tokens = [PAD_TOKEN, UNK_TOKEN, START_TOKEN, END_TOKEN]\n",
    "VOCAB = torchtext.vocab.vocab(ordered_dict=OrderedDict({e:1 for e in TOKENS}), specials=special_tokens)\n",
    "VOCAB.set_default_index(VOCAB[UNK_TOKEN])"
   ]
  },
  {
   "cell_type": "code",
   "execution_count": 46,
   "metadata": {},
   "outputs": [],
   "source": [
    "# smiles to selfies\n",
    "in_path = 'dataset/chembl28-cleaned.smi'\n",
    "out_path = 'selfies/chembl28.selfies'\n",
    "\n",
    "with open(in_path, 'r') as in_f:\n",
    "    break #####################################################\n",
    "    with open(out_path, 'w') as out_f:\n",
    "        for l in in_f:\n",
    "            if 'smile' in l: continue\n",
    "            \n",
    "            r = sf.encoder(l.split()[0])\n",
    "            if r is not None:\n",
    "                out_f.write(r + '\\n')"
   ]
  },
  {
   "cell_type": "code",
   "execution_count": 170,
   "metadata": {},
   "outputs": [],
   "source": [
    "# Dataset creation\n",
    "class SelfiesDataset(Dataset):\n",
    "    def __init__(self, selfies_paths: list, vocab=None, tokens=None, max_len=None): # start and end tokens are added\n",
    "        '''\n",
    "        if vocab is None : getVocab() is used\n",
    "        if max_len is None: take max_len from dataset\n",
    "        if max_len == 'avg': take average length from dataset\n",
    "        '''\n",
    "        if vocab is None: vocab = VOCAB\n",
    "        self.vocab = vocab\n",
    "\n",
    "        # reading smiles from files\n",
    "        tokenized_sen = []\n",
    "        for file_path in selfies_paths:\n",
    "            with open(file_path) as f:\n",
    "                for l in f:\n",
    "                    tokenized_sen.append(list(sf.split_selfies(l.replace('\\n', ''))))\n",
    "        \n",
    "        if max_len is None: max_len = max([len(sen) for sen in tokenized_sen])\n",
    "        if max_len == 'avg': max_len = int(sum([len(sen) for sen in tokenized_sen])/len(tokenized_sen))\n",
    "\n",
    "        # stripping\n",
    "        tokenized_sen = [sen[: max_len-2] for sen in tokenized_sen]\n",
    "\n",
    "        # adding start and end tokens\n",
    "        tokenized_sen = [[START_TOKEN] + sen + [END_TOKEN] for sen in tokenized_sen]\n",
    "\n",
    "        # padding\n",
    "        tokenized_sen = [sen + [PAD_TOKEN]*(max_len-len(sen)) for sen in tokenized_sen]\n",
    "\n",
    "        # addention mask false at <pad> tokem, true at non pad token\n",
    "        self.pad_masks = torch.tensor([[PAD_TOKEN==tok for tok in sen] for sen in tokenized_sen])\n",
    "\n",
    "        # converting to index\n",
    "        self.data = torch.tensor([self.vocab(sen) for sen in tokenized_sen], dtype=torch.long)\n",
    "\n",
    "    def __len__(self):\n",
    "        return len(self.data)\n",
    "\n",
    "    def __getitem__(self, idx):\n",
    "        return {'idx': self.data[idx], 'pad_mask': self.pad_masks[idx]}"
   ]
  },
  {
   "cell_type": "code",
   "execution_count": 192,
   "metadata": {},
   "outputs": [],
   "source": [
    "selfies_path = ['denovo_dataset/selfies/enamine.selfies']\n",
    "dataset = SelfiesDataset(selfies_path, VOCAB, TOKENS, max_len=100)"
   ]
  },
  {
   "cell_type": "code",
   "execution_count": 203,
   "metadata": {},
   "outputs": [],
   "source": [
    "\n",
    "# fingureprinting library\n",
    "library_fps = []\n",
    "for path in selfies_path:\n",
    "    with open(path) as f:\n",
    "        for l in f:\n",
    "            library_fps.append(generate_morgan_fp(sf.decoder(l.replace('\\n', ''))))"
   ]
  },
  {
   "cell_type": "code",
   "execution_count": 172,
   "metadata": {},
   "outputs": [],
   "source": [
    "split_ratio = 0.95\n",
    "split_seed = 42\n",
    "train_ds, valid_ds = random_split(dataset, [int(len(dataset)*split_ratio), len(dataset)-int(len(dataset)*split_ratio)], generator=torch.Generator().manual_seed(split_seed))"
   ]
  },
  {
   "cell_type": "markdown",
   "metadata": {},
   "source": [
    "# utils"
   ]
  },
  {
   "cell_type": "code",
   "execution_count": 193,
   "metadata": {},
   "outputs": [],
   "source": [
    "# Training function\n",
    "def train(model, optimizer, criterion, train_loader):\n",
    "    model.train()\n",
    "    total_loss = 0\n",
    "    count = 200\n",
    "    for e in train_loader:\n",
    "        x = e['idx'].to(DEVICE)\n",
    "        pad_mask = e['pad_mask'].to(DEVICE)\n",
    "\n",
    "        x_input = x[:, :-1]\n",
    "        pad_mask = pad_mask[:, :-1]\n",
    "        y_expected = x[:, 1:]\n",
    "        output = model(x_input, pad_mask)\n",
    "        #print(output.shape, y_expected.shape)\n",
    "\n",
    "        output = torch.flatten(output, start_dim=0, end_dim=1)\n",
    "        y_expected = torch.flatten(y_expected, start_dim=0, end_dim=1)\n",
    "        loss = criterion(output, y_expected)\n",
    "\n",
    "        optimizer.zero_grad()\n",
    "        loss.backward()\n",
    "        optimizer.step()\n",
    "\n",
    "        total_loss += loss.item()\n",
    "        count += 1\n",
    "        #if (count+1)%100 == 0: print(loss.item())\n",
    "        \n",
    "    total_loss = total_loss/len(train_loader)\n",
    "    \n",
    "    return total_loss\n",
    "\n",
    "# valid function\n",
    "def valid(model, criterion, val_loader):\n",
    "    model.eval()\n",
    "    total_loss = 0\n",
    "\n",
    "    with torch.no_grad():\n",
    "        for e in val_loader:\n",
    "            x = e['idx'].to(DEVICE)\n",
    "            pad_mask = e['pad_mask'].to(DEVICE)\n",
    "\n",
    "            x_input = x[:, :-1]\n",
    "            pad_mask = pad_mask[:, :-1]\n",
    "            y_expected = x[:, 1:]\n",
    "\n",
    "            output = model(x_input, pad_mask)\n",
    "            \n",
    "            output = torch.flatten(output, start_dim=0, end_dim=1)\n",
    "            y_expected = torch.flatten(y_expected, start_dim=0, end_dim=1)\n",
    "            loss = criterion(output, y_expected)\n",
    "\n",
    "            total_loss += loss.item()\n",
    "        \n",
    "    total_loss = total_loss/len(val_loader)\n",
    "   \n",
    "    return total_loss\n",
    "    "
   ]
  },
  {
   "cell_type": "code",
   "execution_count": 194,
   "metadata": {},
   "outputs": [],
   "source": [
    "# generate similarity\n",
    "\n",
    "def generate_morgan_fp(smiles):\n",
    "    mol = Chem.MolFromSmiles(smiles)\n",
    "    if mol is None:\n",
    "        return None\n",
    "    fp = AllChem.GetMorganFingerprintAsBitVect(mol, 3, nBits=2048)  # Morgan fingerprint radius=2, 1024-bit vector\n",
    "    return fp\n",
    "\n",
    "def calculate_tanimoto_similarity(fp1, fp2):\n",
    "    if fp1 is None or fp2 is None:\n",
    "        return 0\n",
    "    similarity = DataStructs.TanimotoSimilarity(fp1, fp2)\n",
    "    return similarity"
   ]
  },
  {
   "cell_type": "code",
   "execution_count": 195,
   "metadata": {},
   "outputs": [],
   "source": [
    "def model_similarity(model, num_batch: int, batch_size:int, library_fps, top_k_avg = -1): # -1 take all\n",
    "    smiles = []\n",
    "    for i in range(num_batch):\n",
    "        smiles += model.generateSmiles(batch_size=batch_size, vocab=VOCAB)\n",
    "\n",
    "    fps = [generate_morgan_fp(s) for s in smiles]\n",
    "\n",
    "    avgs = []\n",
    "    maxs = []\n",
    "    for i in range(len(fps)):\n",
    "        r = []\n",
    "\n",
    "        for j in range(len(library_fps)):\n",
    "            r.append(calculate_tanimoto_similarity(fps[i], library_fps[j]))\n",
    "        \n",
    "        r.sort(key=lambda key: -key)\n",
    "        maxs.append(r[0])\n",
    "        if top_k_avg == -1: avgs.append(sum(r)/len(r))\n",
    "        else:\n",
    "            r = r[0: top_k_avg]\n",
    "            avgs.append(sum(r)/len(r))\n",
    "\n",
    "\n",
    "    return maxs, avgs\n",
    "\n"
   ]
  },
  {
   "cell_type": "markdown",
   "metadata": {},
   "source": [
    "# model"
   ]
  },
  {
   "cell_type": "code",
   "execution_count": 208,
   "metadata": {
    "notebookRunGroups": {
     "groupValue": "2"
    }
   },
   "outputs": [],
   "source": [
    "class PositionalEncoding(nn.Module):\n",
    "\n",
    "    def __init__(self, d_model: int, dropout: float = 0.1, max_len: int = 5000):\n",
    "        super().__init__()\n",
    "        self.dropout = nn.Dropout(p=dropout)\n",
    "\n",
    "        position = torch.arange(max_len).unsqueeze(1)\n",
    "        div_term = torch.exp(torch.arange(0, d_model, 2) * (-math.log(10000.0) / d_model))\n",
    "        pe = torch.zeros(max_len, 1, d_model)\n",
    "        pe[:, 0, 0::2] = torch.sin(position * div_term)\n",
    "        pe[:, 0, 1::2] = torch.cos(position * div_term)\n",
    "        self.register_buffer('pe', pe)\n",
    "\n",
    "    \n",
    "    def forward(self, x):\n",
    "        \"\"\"\n",
    "        Arguments:\n",
    "            x: Tensor, shape ``[batch_size, seq_len, embedding_dim]``\n",
    "        \"\"\"\n",
    "        x = x.transpose(0, 1)\n",
    "        x = x + self.pe[:x.size(0)]\n",
    "        x = x.transpose(0, 1)\n",
    "        return self.dropout(x)\n",
    "\n",
    "\n",
    "\n",
    "class DecoderLayer(nn.Module):\n",
    "    def __init__(self, d_model, nhead, dim_feedforward,  dropout=0.1):\n",
    "        super().__init__()\n",
    "        self.multihead = nn.MultiheadAttention(embed_dim=d_model, \n",
    "                                               num_heads=nhead, \n",
    "                                               dropout=dropout, batch_first=True)\n",
    "        self.dropout1 = nn.Dropout(dropout)\n",
    "        self.norm1 = nn.LayerNorm(d_model)\n",
    "        self.linear1 = nn.Linear(d_model, dim_feedforward)\n",
    "        self.dropout2 = nn.Dropout(dropout)\n",
    "        self.linear2 = nn.Linear(dim_feedforward, d_model)\n",
    "        self.dropout3 = nn.Dropout(dropout)\n",
    "        self.norm2 = nn.LayerNorm(d_model)\n",
    "    \n",
    "    def forward(self, q, k, v, attn_mask, pad_mask):\n",
    "        x = q + self.dropout1(self.multihead(q, k, v, key_padding_mask=pad_mask, attn_mask=attn_mask, need_weights=False)[0])\n",
    "        x = self.norm1(x)\n",
    "\n",
    "        x = x + self.dropout3(self.linear2(self.dropout2(self.linear1(x))))\n",
    "        x = self.norm2(x)\n",
    "\n",
    "        return x\n",
    "    \n",
    "class Decoder(nn.Module):\n",
    "    def __init__(self, vocab_size, d_model, nhead, dim_feedforward, num_layers=1, dropout=0.1, max_len=100):\n",
    "        super().__init__()\n",
    "        self.embedding = nn.Embedding(vocab_size, d_model)\n",
    "        self.positional_encoding = PositionalEncoding(d_model=d_model, dropout=dropout, max_len=max_len)\n",
    "        self.decoder_layers = nn.ModuleList([DecoderLayer(d_model, nhead, dim_feedforward) for i in range(num_layers)])\n",
    "        self.linear = nn.Linear(d_model, vocab_size)\n",
    "\n",
    "    def forward(self, x, pad_mask=None):\n",
    "        ''' x = batch * seq_len\n",
    "            pad_mask = batch*seq_len (boolean mask)\n",
    "        '''\n",
    "        seq_len = x.shape[1]\n",
    "        attn_mask = self.generate_square_subsequent_mask(seq_len)\n",
    "        # converting boolean pad mask to float\n",
    "        if pad_mask != None:\n",
    "            pad_mask = torch.where(pad_mask, float('-inf'), 0.0)\n",
    "\n",
    "        x = self.embedding(x)\n",
    "        x = self.positional_encoding(x)\n",
    "\n",
    "        for i in range(len(self.decoder_layers)):\n",
    "            x = self.decoder_layers[i](x, x, x, attn_mask=attn_mask, pad_mask=pad_mask)\n",
    "                \n",
    "        x = self.linear(x)\n",
    "        return x\n",
    "        \n",
    "        \n",
    "    def getDevice(self):\n",
    "        ''' return device of model\n",
    "        '''\n",
    "        device = next(self.parameters()).device\n",
    "\n",
    "        if device.index is None:\n",
    "            return device.type\n",
    "        else:\n",
    "            return device.type + \":\" + str(device.index) \n",
    "\n",
    "    def generate_square_subsequent_mask(self, sz:int) -> torch.Tensor:\n",
    "        r\"\"\"Generate a square causal mask for the sequence.\n",
    "\n",
    "        The masked positions are filled with float('-inf'). Unmasked positions are filled with float(0.0).\n",
    "        \"\"\"\n",
    "        \n",
    "        return torch.triu(\n",
    "            torch.full((sz, sz), float('-inf'), dtype=torch.float, device=self.getDevice()),\n",
    "            diagonal=1,\n",
    "        )\n",
    "\n",
    "\n",
    "    \n",
    "    def generateSmiles(self, batch_size, vocab, max_len=100):\n",
    "        x = torch.full((batch_size, 1), vocab[START_TOKEN]).to(self.getDevice())\n",
    "        \n",
    "        for i in range(1, max_len+1):\n",
    "            out = self.forward(x)[:, -1]\n",
    "            out = tf.softmax(out, dim=1)\n",
    "            out = torch.multinomial(out, 1)\n",
    "            x = torch.cat((x, out), dim=1)\n",
    "        \n",
    "        x = x.detach().cpu().tolist()\n",
    "        # converting idx to smiles\n",
    "        results = []\n",
    "        for i in range(batch_size):\n",
    "            sentance = vocab.lookup_tokens(x[i])\n",
    "            \n",
    "            new_sentance = [] # removing special chars\n",
    "            for i in range(1, len(sentance)):\n",
    "                e = sentance[i]\n",
    "                if e==END_TOKEN: break\n",
    "                if e==START_TOKEN or e==PAD_TOKEN or e==UNK_TOKEN:\n",
    "                    new_sentance = ['invalid']\n",
    "                    break\n",
    "                \n",
    "                new_sentance.append(e)\n",
    "            \n",
    "            if new_sentance != 'invalid':\n",
    "                results.append(sf.decoder(''.join(new_sentance)))\n",
    "        \n",
    "        return results\n"
   ]
  },
  {
   "cell_type": "code",
   "execution_count": 218,
   "metadata": {},
   "outputs": [],
   "source": [
    "model = Decoder(vocab_size=len(VOCAB), \n",
    "        d_model=128, \n",
    "        nhead=4, \n",
    "        dim_feedforward=64, \n",
    "        num_layers=6, \n",
    "        dropout=0, \n",
    "        max_len=150)\n",
    "\n",
    "model = model.to(DEVICE)\n",
    "batch_size = 512\n",
    "\n",
    "train_loader = DataLoader(train_ds, batch_size)\n",
    "val_loader = DataLoader(valid_ds, batch_size)\n",
    "\n",
    "criterion = nn.CrossEntropyLoss(ignore_index=VOCAB[PAD_TOKEN])\n",
    "optimizer = optim.AdamW(model.parameters(), lr=0.001)\n",
    "\n",
    "# learning rate scheduler\n",
    "#scheduler = optim.lr_scheduler.CosineAnnealingLR(optimizer, 15)\n",
    "#scheduler = optim.lr_scheduler.CyclicLR(optimizer=optimizer, base_lr=0.001, max_lr=0.005, mode='exp_range', cycle_momentum=False)\n",
    "\n",
    "train_result = []\n",
    "val_result = []\n",
    "epoch  = 10"
   ]
  },
  {
   "cell_type": "code",
   "execution_count": 219,
   "metadata": {},
   "outputs": [
    {
     "name": "stdout",
     "output_type": "stream",
     "text": [
      "Epoch: 1 train loss: 0.0041029026635505 val loss: 0.003184666275046766\n",
      "Epoch: 2 train loss: 0.0030298664411208755 val loss: 0.0027387257432565093\n",
      "Epoch: 3 train loss: 0.0027204651610347732 val loss: 0.0025024356436915696\n",
      "Epoch: 4 train loss: 0.0025329181225970387 val loss: 0.002350909460801631\n",
      "Epoch: 5 train loss: 0.002403257808102102 val loss: 0.0022343953605741262\n",
      "Epoch: 6 train loss: 0.00230922582077569 val loss: 0.0021443847799673676\n",
      "Epoch: 7 train loss: 0.0022351228760491156 val loss: 0.0020869955187663436\n",
      "Epoch: 8 train loss: 0.002178870839998126 val loss: 0.002031629905104637\n",
      "Epoch: 9 train loss: 0.0021305756587214 val loss: 0.0019962700025644153\n",
      "Epoch: 10 train loss: 0.0020939838422205427 val loss: 0.001969040575204417\n",
      "Epoch: 11 train loss: 0.0020596677124307588 val loss: 0.0019339239515829831\n",
      "Epoch: 12 train loss: 0.00202882274230621 val loss: 0.0019088615372311324\n",
      "Epoch: 13 train loss: 0.002004976095310573 val loss: 0.0018987359362654388\n",
      "Epoch: 14 train loss: 0.001982135449311343 val loss: 0.0018685608229134232\n",
      "Epoch: 15 train loss: 0.001958748959968316 val loss: 0.0018482933810446411\n",
      "Epoch: 16 train loss: 0.0019423251746800438 val loss: 0.0018291297310497612\n",
      "Epoch: 17 train loss: 0.0019250122553283542 val loss: 0.0018176526937168092\n",
      "Epoch: 18 train loss: 0.0019081849604845047 val loss: 0.001798302459064871\n",
      "Epoch: 19 train loss: 0.0018941804782712254 val loss: 0.0017908374429680407\n",
      "Epoch: 20 train loss: 0.001882720337217224 val loss: 0.0017789281846489757\n"
     ]
    }
   ],
   "source": [
    "for i in range(20):\n",
    "    tl = train(model, optimizer, criterion, train_loader)/batch_size\n",
    "    vl = valid(model, criterion, val_loader)/batch_size\n",
    "    #scheduler.step()\n",
    "    train_result.append(tl)\n",
    "    val_result.append(vl)\n",
    "\n",
    "    print(\"Epoch:\", i+1, \"train loss:\", tl, \"val loss:\", vl)\n",
    "\n",
    "\n",
    "generated_fps = model_similarity(model, num_batch=10, batch_size=100, library_fps=library_fps, top_k_avg=100)\n"
   ]
  },
  {
   "cell_type": "code",
   "execution_count": 222,
   "metadata": {},
   "outputs": [
    {
     "name": "stdout",
     "output_type": "stream",
     "text": [
      "[0.42857142857142855, 0.23170731707317074, 0.18032786885245902, 0.2857142857142857, 0.3076923076923077, 0.2736842105263158, 0.14473684210526316, 0.0, 0.2962962962962963, 0.16, 1.0, 0.3333333333333333, 0.275, 0.0, 0.3283582089552239, 0.30158730158730157, 0.30952380952380953, 0.3, 0.0, 0.21739130434782608, 0.3088235294117647, 0.1951219512195122, 0.2909090909090909, 0.20833333333333334, 0.15873015873015872, 0.48936170212765956, 0.4146341463414634, 0.43333333333333335, 0.20588235294117646, 0.0, 0.4, 0.0, 1.0, 0.1917808219178082, 0.1724137931034483, 0.1518987341772152, 0.5384615384615384, 0.2711864406779661, 0.37142857142857144, 0.20238095238095238, 0.30158730158730157, 0.48936170212765956, 0.5151515151515151, 0.20987654320987653, 0.0, 0.40476190476190477, 0.3877551020408163, 0.20833333333333334, 0.1728395061728395, 0.45454545454545453, 0.0, 0.0, 0.25333333333333335, 0.1791044776119403, 0.0, 0.28378378378378377, 1.0, 0.0, 0.27586206896551724, 0.42105263157894735, 0.0, 0.2077922077922078, 0.36538461538461536, 0.19718309859154928, 0.4166666666666667, 0.0, 0.0, 0.3333333333333333, 0.23529411764705882, 0.3333333333333333, 0.36538461538461536, 0.0, 0.2692307692307692, 0.21052631578947367, 0.3170731707317073, 0.6206896551724138, 0.0, 0.18333333333333332, 0.288135593220339, 0.5, 0.0, 0.28421052631578947, 0.22413793103448276, 0.29411764705882354, 0.189873417721519, 0.2077922077922078, 0.49056603773584906, 0.0, 0.21568627450980393, 0.1782178217821782, 0.19298245614035087, 0.2564102564102564, 0.23636363636363636, 0.24, 0.1891891891891892, 0.18, 1.0, 0.0, 0.34782608695652173, 0.2222222222222222, 0.5555555555555556, 0.18840579710144928, 0.3235294117647059, 0.38596491228070173, 0.0, 0.0, 0.0, 0.20754716981132076, 0.13793103448275862, 0.18032786885245902, 0.30612244897959184, 0.0, 0.1791044776119403, 0.0, 0.6170212765957447, 0.27586206896551724, 0.4375, 0.46511627906976744, 0.0, 0.21666666666666667, 0.2923076923076923, 0.0, 0.0, 0.3076923076923077, 0.1694915254237288, 0.32857142857142857, 0.3958333333333333, 0.34285714285714286, 0.0, 0.3898305084745763, 0.40816326530612246, 0.2247191011235955, 0.3389830508474576, 0.26229508196721313, 0.2857142857142857, 0.0, 0.0, 0.323943661971831, 0.2222222222222222, 0.2702702702702703, 0.0, 0.18421052631578946, 0.2641509433962264, 0.0, 0.1791044776119403, 0.16666666666666666, 0.0, 0.15151515151515152, 0.0, 0.0, 0.3684210526315789, 0.23728813559322035, 0.39215686274509803, 0.21568627450980393, 0.0, 0.21428571428571427, 0.0, 0.24528301886792453, 0.4225352112676056, 0.15625, 0.0, 0.0, 0.2777777777777778, 0.27906976744186046, 0.3220338983050847, 0.4166666666666667, 0.3582089552238806, 0.3617021276595745, 0.45098039215686275, 0.18181818181818182, 0.0, 0.0, 0.4727272727272727, 1.0, 0.24242424242424243, 0.15384615384615385, 0.4791666666666667, 0.2549019607843137, 0.18518518518518517, 0.6111111111111112, 0.717391304347826, 0.2375, 0.2077922077922078, 1.0, 1.0, 0.3404255319148936, 0.0, 0.38028169014084506, 0.35714285714285715, 0.36363636363636365, 0.0, 0.5128205128205128, 0.14516129032258066, 0.40816326530612246, 0.5789473684210527, 0.0, 0.5853658536585366, 0.32608695652173914, 0.5645161290322581, 0.0, 0.0, 0.2558139534883721, 0.4, 0.2222222222222222, 0.2222222222222222, 0.171875, 0.4074074074074074, 0.2537313432835821, 0.323943661971831, 0.2191780821917808, 0.25, 0.0, 0.28846153846153844, 0.24752475247524752, 0.2987012987012987, 0.3684210526315789, 0.0, 0.36065573770491804, 0.47619047619047616, 0.3088235294117647, 1.0, 0.43902439024390244, 0.3333333333333333, 0.2833333333333333, 0.40384615384615385, 0.45454545454545453, 0.24390243902439024, 0.36, 0.15384615384615385, 0.44, 0.25, 0.0, 0.0, 0.3114754098360656, 0.3, 0.22857142857142856, 0.16279069767441862, 0.22641509433962265, 0.46551724137931033, 0.18461538461538463, 0.375, 0.0, 0.375, 0.5636363636363636, 0.21428571428571427, 0.24050632911392406, 0.2978723404255319, 0.26666666666666666, 0.20512820512820512, 0.2545454545454545, 0.0, 0.0, 0.4523809523809524, 0.0, 0.1935483870967742, 0.6285714285714286, 0.1650485436893204, 0.2608695652173913, 0.35714285714285715, 0.3194444444444444, 0.17391304347826086, 0.24193548387096775, 0.0, 0.35185185185185186, 0.0, 0.6111111111111112, 0.3829787234042553, 0.4318181818181818, 0.3191489361702128, 0.0, 0.37777777777777777, 0.4166666666666667, 0.34177215189873417, 0.36363636363636365, 0.15, 0.34, 0.0, 0.2345679012345679, 0.0, 0.11864406779661017, 0.35185185185185186, 0.40816326530612246, 0.0, 0.2875, 0.41818181818181815, 0.0, 1.0, 0.4, 0.26136363636363635, 0.22727272727272727, 0.21052631578947367, 0.3898305084745763, 0.2602739726027397, 0.3787878787878788, 0.0, 1.0, 0.0, 0.15555555555555556, 0.0, 0.44642857142857145, 0.2608695652173913, 0.21818181818181817, 0.3, 0.4318181818181818, 0.40625, 0.3269230769230769, 0.26666666666666666, 0.0, 0.3617021276595745, 0.0, 0.323943661971831, 0.20987654320987653, 0.35714285714285715, 0.3103448275862069, 0.3958333333333333, 0.18181818181818182, 0.0, 0.23376623376623376, 0.21875, 0.20408163265306123, 0.21052631578947367, 0.24050632911392406, 0.45454545454545453, 0.7333333333333333, 0.375, 0.2, 0.19480519480519481, 0.20754716981132076, 0.0, 0.0, 0.40350877192982454, 0.36, 0.0, 0.16216216216216217, 0.0, 0.18181818181818182, 0.37735849056603776, 0.47619047619047616, 0.0, 0.23333333333333334, 0.0, 0.0, 0.0, 0.3620689655172414, 0.43636363636363634, 0.2222222222222222, 0.3472222222222222, 0.3333333333333333, 0.2236842105263158, 0.41025641025641024, 0.15555555555555556, 0.1875, 0.3, 0.0, 0.21505376344086022, 0.3469387755102041, 0.3333333333333333, 0.19642857142857142, 0.4666666666666667, 0.27906976744186046, 0.21505376344086022, 0.0, 0.15853658536585366, 0.1891891891891892, 0.5476190476190477, 0.20930232558139536, 0.2112676056338028, 1.0, 0.0, 1.0, 0.20689655172413793, 0.3409090909090909, 0.22058823529411764, 0.23404255319148937, 0.0, 0.30434782608695654, 0.0, 0.0, 0.14285714285714285, 0.2978723404255319, 0.36, 0.2857142857142857, 0.4838709677419355, 0.4406779661016949, 1.0, 0.575, 0.0, 0.5306122448979592, 0.19736842105263158, 0.34210526315789475, 0.19230769230769232, 0.6458333333333334, 0.2549019607843137, 0.0, 0.313953488372093, 0.43333333333333335, 0.0, 0.48484848484848486, 0.18518518518518517, 0.3870967741935484, 0.2857142857142857, 0.2676056338028169, 0.2698412698412698, 0.2978723404255319, 0.0, 0.4, 0.6666666666666666, 0.49056603773584906, 0.2558139534883721, 0.0, 0.3103448275862069, 0.29577464788732394, 0.4166666666666667, 0.28431372549019607, 0.22, 0.0, 0.23333333333333334, 0.0, 0.23809523809523808, 0.0, 0.2916666666666667, 0.0, 0.4186046511627907, 0.34, 0.34146341463414637, 0.2553191489361702, 0.0, 0.1791044776119403, 0.0, 0.0, 0.0, 0.22857142857142856, 0.0, 0.0, 0.4827586206896552, 0.23636363636363636, 0.3793103448275862, 0.48148148148148145, 0.2807017543859649, 0.3424657534246575, 0.14473684210526316, 0.26666666666666666, 0.5, 0.1702127659574468, 0.0, 0.0, 0.23529411764705882, 0.41304347826086957, 0.48, 0.0, 0.3469387755102041, 0.21428571428571427, 0.4897959183673469, 0.34285714285714286, 1.0, 0.22727272727272727, 0.25925925925925924, 0.425531914893617, 0.15853658536585366, 0.19117647058823528, 0.42857142857142855, 0.2653061224489796, 0.40963855421686746, 0.2391304347826087, 0.2857142857142857, 0.37777777777777777, 0.0, 0.31666666666666665, 0.3584905660377358, 0.32653061224489793, 0.2222222222222222, 0.35384615384615387, 0.0, 0.2463768115942029, 0.32558139534883723, 0.5681818181818182, 0.3442622950819672, 0.20833333333333334, 0.0, 0.0, 0.15942028985507245, 0.21839080459770116, 0.0, 0.4594594594594595, 0.12857142857142856, 0.18666666666666668, 0.20588235294117646, 0.2608695652173913, 0.6388888888888888, 0.3787878787878788, 0.0, 0.25925925925925924, 0.32142857142857145, 0.0, 0.3114754098360656, 0.15217391304347827, 0.0, 0.631578947368421, 0.6, 0.2702702702702703, 0.2222222222222222, 0.0, 0.19696969696969696, 0.3492063492063492, 0.0, 0.4489795918367347, 0.19672131147540983, 0.8787878787878788, 0.2804878048780488, 0.3424657534246575, 0.2, 0.18181818181818182, 0.27586206896551724, 0.14705882352941177, 0.2608695652173913, 0.2857142857142857, 0.18604651162790697, 0.27631578947368424, 0.3076923076923077, 0.0, 0.1864406779661017, 0.18181818181818182, 0.21875, 0.6595744680851063, 0.16417910447761194, 0.2857142857142857, 0.27956989247311825, 0.14666666666666667, 0.0, 0.18811881188118812, 0.26229508196721313, 0.37735849056603776, 0.24074074074074073, 0.1927710843373494, 0.14035087719298245, 0.417910447761194, 0.1951219512195122, 0.0, 0.375, 0.18333333333333332, 0.5952380952380952, 0.25, 0.1935483870967742, 0.41818181818181815, 0.2777777777777778, 0.2727272727272727, 0.43373493975903615, 0.5147058823529411, 0.19491525423728814, 0.0, 0.3582089552238806, 0.25925925925925924, 0.4888888888888889, 0.3333333333333333, 0.0, 0.18181818181818182, 0.34210526315789475, 0.0, 0.24528301886792453, 0.4583333333333333, 0.0, 0.2833333333333333, 0.26229508196721313, 0.234375, 0.38095238095238093, 0.2711864406779661, 0.16883116883116883, 0.7209302325581395, 0.2, 0.6818181818181818, 0.17272727272727273, 0.22413793103448276, 0.2153846153846154, 0.3, 0.46296296296296297, 0.38636363636363635, 0.2222222222222222, 0.17721518987341772, 0.3442622950819672, 0.24468085106382978, 0.17391304347826086, 0.3142857142857143, 0.18888888888888888, 0.46153846153846156, 0.375, 0.2753623188405797, 0.0, 0.3898305084745763, 0.2558139534883721, 0.5106382978723404, 0.34375, 0.20618556701030927, 0.3170731707317073, 0.18571428571428572, 0.0, 0.0, 0.0, 0.5555555555555556, 0.42857142857142855, 0.0, 0.2, 0.5740740740740741, 0.288135593220339, 0.3548387096774194, 0.0, 0.38181818181818183, 0.37037037037037035, 0.16666666666666666, 0.42592592592592593, 0.5102040816326531, 0.1523809523809524, 0.13432835820895522, 0.29577464788732394, 0.5789473684210527, 0.24285714285714285, 0.5964912280701754, 0.20512820512820512, 0.25555555555555554, 0.5294117647058824, 0.28205128205128205, 0.0, 0.2857142857142857, 0.17142857142857143, 0.15151515151515152, 0.24096385542168675, 0.2112676056338028, 0.21153846153846154, 0.125, 0.19298245614035087, 0.2875, 0.14285714285714285, 0.1935483870967742, 0.41935483870967744, 0.19148936170212766, 0.45454545454545453, 0.0, 0.0, 0.0, 0.0, 0.0, 0.21621621621621623, 0.25333333333333335, 0.6216216216216216, 0.0, 0.35714285714285715, 0.0, 0.1951219512195122, 0.0, 0.46938775510204084, 0.23255813953488372, 0.3888888888888889, 0.22727272727272727, 0.275, 0.20930232558139536, 0.0, 0.2786885245901639, 0.5, 0.21518987341772153, 0.425531914893617, 0.21311475409836064, 0.3541666666666667, 0.2682926829268293, 0.2, 0.0, 0.48, 0.29577464788732394, 0.0, 0.19090909090909092, 0.16417910447761194, 0.48717948717948717, 0.5714285714285714, 0.0, 0.0, 0.23728813559322035, 0.23529411764705882, 0.25, 0.3333333333333333, 0.39473684210526316, 0.3191489361702128, 0.2631578947368421, 0.0, 0.6730769230769231, 0.30303030303030304, 0.36538461538461536, 0.0, 0.23529411764705882, 0.5, 0.18604651162790697, 0.1328125, 0.2857142857142857, 0.3068181818181818, 0.0, 0.34615384615384615, 0.3114754098360656, 0.6190476190476191, 1.0, 0.0, 0.21333333333333335, 0.8085106382978723, 0.2857142857142857, 0.0, 0.0, 0.21666666666666667, 0.0, 0.2037037037037037, 0.38461538461538464, 0.21153846153846154, 0.0, 0.0, 0.29310344827586204, 0.30303030303030304, 0.23404255319148937, 0.3888888888888889, 0.2916666666666667, 0.44680851063829785, 0.0, 1.0, 0.3870967741935484, 0.2564102564102564, 0.2708333333333333, 0.3103448275862069, 0.4722222222222222, 0.0, 0.3958333333333333, 0.0, 0.5217391304347826, 0.1724137931034483, 0.23728813559322035, 0.0, 0.5614035087719298, 0.2765957446808511, 0.2698412698412698, 0.0, 0.22448979591836735, 1.0, 0.2682926829268293, 0.0, 0.0, 0.3116883116883117, 0.0, 0.42, 0.6, 0.40298507462686567, 0.0, 0.21666666666666667, 0.48214285714285715, 0.34285714285714286, 0.43902439024390244, 0.3333333333333333, 0.509090909090909, 0.3076923076923077, 0.47058823529411764, 0.20588235294117646, 0.3076923076923077, 0.2, 0.46153846153846156, 0.3333333333333333, 0.34210526315789475, 0.25333333333333335, 0.37142857142857144, 0.20270270270270271, 1.0, 0.35294117647058826, 0.3870967741935484, 0.21428571428571427, 0.4067796610169492, 0.25, 0.4189189189189189, 0.25301204819277107, 1.0, 0.2537313432835821, 0.0, 0.2602739726027397, 0.0, 0.2, 0.22, 0.2823529411764706, 0.3090909090909091, 0.25396825396825395, 0.0, 0.27586206896551724, 0.352112676056338, 0.46153846153846156, 0.125, 0.6341463414634146, 0.23076923076923078, 0.41025641025641024, 0.26229508196721313, 0.4523809523809524, 0.11363636363636363, 0.4107142857142857, 0.4473684210526316, 0.15384615384615385, 1.0, 0.18181818181818182, 0.42592592592592593, 0.4, 0.4189189189189189, 0.23943661971830985, 0.22413793103448276, 0.46153846153846156, 0.2857142857142857, 0.2413793103448276, 0.0, 0.42, 0.4528301886792453, 0.31666666666666665, 0.0, 0.19230769230769232, 0.40816326530612246, 0.20967741935483872, 0.16216216216216217, 0.4897959183673469, 0.21333333333333335, 0.0, 1.0, 0.29545454545454547, 0.3225806451612903, 0.0, 0.25925925925925924, 0.23214285714285715, 0.3469387755102041, 0.13513513513513514, 0.4594594594594595, 0.4444444444444444, 0.38461538461538464, 0.2222222222222222, 0.20930232558139536, 0.21428571428571427, 0.36666666666666664, 0.15517241379310345, 0.16535433070866143, 0.475, 0.3448275862068966, 0.0, 0.37777777777777777, 0.38181818181818183, 0.40789473684210525, 0.4166666666666667, 0.4090909090909091, 0.6382978723404256, 0.0, 0.4642857142857143, 0.35714285714285715, 0.16901408450704225, 0.18055555555555555, 0.27419354838709675, 0.16666666666666666, 0.38461538461538464, 0.28205128205128205, 0.1896551724137931, 0.20408163265306123, 0.0, 0.2978723404255319, 0.16049382716049382, 0.4411764705882353, 0.1891891891891892, 0.3411764705882353, 0.265625, 0.28205128205128205, 0.3409090909090909, 0.2553191489361702, 0.13333333333333333, 0.2753623188405797, 0.27906976744186046, 0.18, 0.21875, 0.46, 0.0, 0.0, 0.38461538461538464, 0.24742268041237114, 0.5151515151515151, 0.5106382978723404, 0.5, 0.0, 0.6, 0.2222222222222222, 0.3541666666666667, 0.14925373134328357, 0.25757575757575757, 0.20238095238095238, 0.4423076923076923, 0.14754098360655737, 0.0, 0.1484375, 0.0, 0.6170212765957447, 0.4642857142857143, 0.4117647058823529, 0.0, 0.32857142857142857, 0.39285714285714285, 0.2222222222222222, 0.423728813559322, 0.3384615384615385, 0.5135135135135135, 0.25806451612903225, 0.48717948717948717, 0.19230769230769232, 0.21875, 0.1702127659574468, 0.23333333333333334, 0.5294117647058824, 0.19047619047619047, 0.2698412698412698, 0.45614035087719296, 0.0, 0.4722222222222222, 0.5068493150684932, 0.18446601941747573, 0.2714285714285714, 0.32608695652173914, 0.3, 0.5490196078431373, 0.0, 0.4107142857142857, 0.3076923076923077, 0.2631578947368421, 0.5952380952380952, 0.2857142857142857, 0.0, 0.2857142857142857, 0.6333333333333333, 0.2, 0.0, 0.0, 0.5294117647058824, 0.20588235294117646, 0.3137254901960784, 0.0, 0.16, 0.36363636363636365, 0.22857142857142856, 0.42857142857142855, 0.3392857142857143, 0.0, 0.18666666666666668, 0.1935483870967742, 0.525, 0.25, 0.3142857142857143, 0.5897435897435898, 0.3333333333333333, 0.0, 0.38636363636363635, 0.21875, 0.373134328358209, 0.20512820512820512, 0.0, 0.1506849315068493, 0.3333333333333333, 0.0, 0.29411764705882354, 0.26506024096385544, 0.36507936507936506, 0.0, 0.26865671641791045, 0.36, 0.3493975903614458, 0.22535211267605634, 0.3611111111111111, 0.38461538461538464, 0.29577464788732394, 0.2711864406779661, 0.30434782608695654, 0.0, 0.1864406779661017, 0.2830188679245283, 0.0, 0.48148148148148145, 0.4186046511627907, 0.21666666666666667, 0.5625, 0.19230769230769232, 0.2777777777777778, 0.3409090909090909, 0.24742268041237114, 0.2127659574468085, 0.23529411764705882, 0.0, 0.4107142857142857, 0.47368421052631576, 0.27586206896551724, 0.3617021276595745, 0.34146341463414637, 0.3442622950819672, 1.0, 0.2, 0.0, 0.1566265060240964, 0.275, 0.48, 0.26136363636363635, 0.4074074074074074, 0.3389830508474576, 0.0, 0.273972602739726, 0.6, 0.6153846153846154]\n"
     ]
    }
   ],
   "source": [
    "print(generated_fps[0])"
   ]
  },
  {
   "cell_type": "code",
   "execution_count": 221,
   "metadata": {},
   "outputs": [
    {
     "data": {
      "text/plain": [
       "<Axes: ylabel='Density'>"
      ]
     },
     "execution_count": 221,
     "metadata": {},
     "output_type": "execute_result"
    },
    {
     "data": {
      "image/png": "[encoded data removed]",
      "text/plain": [
       "<Figure size 640x480 with 1 Axes>"
      ]
     },
     "metadata": {},
     "output_type": "display_data"
    }
   ],
   "source": [
    "sns.kdeplot(generated_fps[0])"
   ]
  },
  {
   "cell_type": "code",
   "execution_count": 214,
   "metadata": {},
   "outputs": [
    {
     "data": {
      "text/plain": [
       "<Axes: ylabel='Density'>"
      ]
     },
     "execution_count": 214,
     "metadata": {},
     "output_type": "execute_result"
    },
    {
     "data": {
      "image/png": "[encoded data removed]",
      "text/plain": [
       "<Figure size 640x480 with 1 Axes>"
      ]
     },
     "metadata": {},
     "output_type": "display_data"
    }
   ],
   "source": [
    "sns.kdeplot(generated_fps[1])"
   ]
  },
  {
   "cell_type": "code",
   "execution_count": 188,
   "metadata": {},
   "outputs": [
    {
     "data": {
      "text/plain": [
       "[<matplotlib.lines.Line2D at 0x7f1a25a58140>]"
      ]
     },
     "execution_count": 188,
     "metadata": {},
     "output_type": "execute_result"
    },
    {
     "data": {
      "image/png": "[encoded data removed]",
      "text/plain": [
       "<Figure size 640x480 with 1 Axes>"
      ]
     },
     "metadata": {},
     "output_type": "display_data"
    }
   ],
   "source": [
    "plt.plot(train_result)\n",
    "plt.plot(val_result)"
   ]
  },
  {
   "cell_type": "code",
   "execution_count": 72,
   "metadata": {},
   "outputs": [
    {
     "name": "stdout",
     "output_type": "stream",
     "text": [
      "COC=CC=C(C1=CN=CC=C1CCCN2C(=O)C3=CC=CC=C32)CCl\n",
      "COC=CCC=CC1=C(NNC(=O)C=C2C3=C(Cl)C=CC=N3)N=CCCCC=CC=C2C=N1\n",
      "O=CCOC1CCNC=C1CCS(=O)(=O)C=CC2C3=CC=CC=C3CCC2C=CC=CS\n",
      "C1=2C(CC(=O)C(C)CNC=O)C=C1C=2C=NCC\n",
      "CCCCCC1=NC(N)C(=C)C1(C(=O)OCCCOC=CC=C(O)C=N)CCCC2=CC=CC=C2S\n",
      "COC=C1C=CCNC(=O)NCC(=O)C=CC1(NNCC(=O)[NH1]C)CCC(=O)NCCNCC2CC(C)CC2\n",
      "CC1C(OC)C=CC1C#N\n",
      "O=C(CNC(=O)C(C)CCC(C)CC1C2)C(O)C=CC(Br)=C2NCNC=CC=CC(=O)OCC=C(F)C(F)=C1CC(F)C\n",
      "N=C(S)C=O\n",
      "C1OC=CC=C2CNOC2(CSCC=C1C3)CC(C)CC3CC=O\n",
      "O=CC1(O)C=CC=C1C(=O)CC[NH1]N=C(C2=CC=CC=C2)NN=CC=C3CC4=CC=CC=C4C=N3\n",
      "CS(=O)(=C)C=C(C(C12CC=CC(=C1)C)=CC=CC3=CC=CC=C3C(C4=CC=CC=C4CC2CCC)C)CC=O\n",
      "N#CC=CC=CNC=CC=C(C)Cl\n",
      "C1C=NN=C(C=O)CCCC=C1\n",
      "CC(C)CC(C(=O)N1CC2C3SC(=O)NC=NC=CC=C(Cl)C)=C3N2C=C(OS)C1=C\n",
      "CCCCCCCCNC(=O)CCOCCOCC=CS(=O)(=O)C1=CC=CC=C1CCCCNC=N\n",
      "CC(C)CC(CCC1CCCC=C1N)C=C(C)CC2=CC=CC=C2[N+1](=O)[O-1]\n",
      "CCN(C#N)C=C1C=CC=C1N2CC=CC=C(C3)N23\n",
      "CC(C)CCNCC=C1C(=O)ONC2=C(CN=C2NC=C)C=C1[NH1]C=C=CC=CC=C\n",
      "CC(=O)C1=CC=C2C=C1NC(=O)C=CC=C(O3)C2C=CC=C3\n",
      "COCC=CC(C(=O)N)C(C)CCCCC(N)=O\n",
      "CC=CCCC1CNC(=O)CC1=CC(CC=CC(C(=O)N)C)C(=O)CCCF\n",
      "O=C(CO)C(O)C(C)N(CC=CC=CC(Cl)=NC1=CC=CC=C1)CNC\n",
      "C12C(C3)C4(C=CC(F)C3C15)N2C=CC=C(OC)N4C=CC5CCC(C)CC(C)=NC=CCF\n",
      "CCC(=O)NC=CC=CC(C(N)O)CC(C1=CC=CC=C1O)C(=O)C=NOCNC2CC=CC=C2C=CC\n",
      "O=C(C)OC(C(C)F)CNCNC(=O)CCCN=C\n",
      "N12C=CC=C(NNC=NC(C3=CC=CC(=C3)Cl)N)C=CC(OCCCF)(C=NCC=CC=CC1OC)C2\n",
      "CCCCCC(C1(C(=O)N)CCC2C)CC(C)CC2CC=C[NH1]1\n",
      "CNC(C=NC)(NC=CC=C(NCC1C(=O)C2)CC=C3C=C2C=CC)CC=C13\n",
      "CC=C(C=CC=CC=C(CCC1C2CN3C1)CCC=C(F)C3C=CC=CCCN2C)C=O\n",
      "C1OC(=C23)N[NH1]C=CC=CC=C2N3C4=CC=CC=C41\n",
      "CC(C)CCN(C(=O)OC1(C)CCC1C2CCC)OCN3CCCN3C=CC=C2Cl\n",
      "CCCCC(C)CNCC1(C)CCCCOCC2(CN)C(C)N2CN1\n",
      "NCCCCNC(C(=O)NCCCC=CC1=COC(C)OC1)F\n",
      "CC(O)C=CC=C(CCCC1CCCCC1C(=O)NS(=O)=O)C(C)CCCCC(CCCCCC)CCNC(=O)C=CC=C(C)F\n",
      "N1C=NN=C(C=CC=C(C)C=O)NC1C=O\n",
      "COC=CC=C(C)C=O\n",
      "C12=CC=C3C4=C1CNC(C)=C(Cl)C(C5=CC=CC(=C5)C(=O)CF)N2OCCC(C)OCC4C3\n",
      "CCCC1N(C=CC(=NN2CC34CCO)C(C)C3CC1OC=CC(F)(F)C4C(C)=C)C=C2\n",
      "CC(=O)C=CC=NC=CC=C(OC)SC=CC(Cl)C=CC=NC(CC(C)C)=NCC=CC1=CC=CC=C1Cl\n",
      "O=C(NCC=CNCC1CNC(=O)N2NCCCN)C=CC=C21\n",
      "NC=C(CCSC1=CC=CN=C1C(=O)NCCC2=CC=CC=N2)C(F)F\n",
      "FC(O)[NH1]C(C1C)=NC=CC2=CC=C3C=C2CCN=C1NC(O)CCCCCCC=N3\n",
      "CC=CC=CCCC(=O)NCCC(C)C\n",
      "CCN(C(=O)NCC=C1)C=CC=CC(CC2=NC=CC=C2C)=CC=C1\n",
      "C1N(NC=C2C=CC=CC=CC3=C(CCC=O)OCCCC4=CC=C5C=C4)CC=C5C3C=C12\n",
      "C1OCC(O)C2CC[N+1](C3)C(C=C)N=C2CC4=C5C=CC=C4C5C(=O)NCNC3N1O\n",
      "O=CC=CC(SCNC=CC=CC=CCC1NC(=O)CSC2=CC=CC3=C2CC(C=O)(C(O)C=O)NCC)NC4=CC=CC5=C4S(=O)(=O)C=C1C5N[NH1]C6C=CC=C6C3\n",
      "C1CCNCCC=CC=CC=C2C3=NC(C=CC(SC(=O)C4=CC=CC=C4CC=CF)=C3N=CC=CC=C(F)C)=C2OC(O)CS1\n",
      "C=1=CC=CNN=S(=O)C=C=1\n",
      "O=CNNCCCOCC=CC=C(S1CC=CC=C(C)Cl)CC=CC=CNOC=CC=C1CCCC=N\n",
      "COC(=O)C1C=CC=CC(C(=O)C=NC=C(C)N2COCC2)CCCC(=O)NC(N3C=C(C)C(=O)OC=C3)N=C1\n",
      "O1C=C2C=CC3=CC=CC4=C3OCC=C2CC1N[N+1](=C)CC=CCC=CC=C4S\n",
      "CC1OC(=O)C=NC=C1CNC2=NSC(C=NC=CC=CCC=CC(OC)S2)=O\n",
      "CN(C)CCCCC1NCC2=CC=CC=C2CN1C(CNC(=O)CCCCC(=O)CC=CC)=C\n",
      "CC(NN=C(CC1=CC=CC=C12)OC3=CC(NCC4C3C2C=O)OCCCN5)CCNCC5C=CC4CCC\n",
      "CC(C)(C)CC=NC=C(CC=CC=C1C(SC)=CPC=O)CC=NN(C)CCCCC1(OC)C=O\n",
      "[H]C(O)[O-1]\n",
      "C1C(C2)C2(NC(S)(O)C=CN(C)N=CCS(=O)(=O)C=CC=O)C1N\n",
      "O=NNCCNCCNC(=O)C(CC)C(C)NC(C1)=CC=CC=C1CO\n",
      "CCOCNC(=O)CC=CC1=CC=CC=C1\n",
      "CCC1=NNC=C2C1(C=NOC2C[NH1]C=C3C=CC4=C)C=CC=C4NC(=O)NCC3C=O\n",
      "CC(C)C(=O)NCC(CCCCC=O)OCCC(=O)OCC1=CC=CC=C1CCC=C(CCNC(=O)C=C)C2=CCC=CC=C2\n",
      "C1CCOC1NCCNCC\n",
      "C1CC1CNC=NC=C2C=CN=CCC=CC=CC=CC2=N\n",
      "C1OC=CC=C2CC=C1NCCCOC(C)C=3NC=NC=3C2F\n",
      "CNC(=O)NCCCN\n",
      "CC(CCC=CN(CCCCCNC=O)CCNC(=O)C=CC(C)(N)CC1=CSC([N+1](=O)[O-1])C=C1CC=O)C=NN=CC=CC=CCC=O\n",
      "N=CN=CCC1=CC=CC=CC2=CC=CC=C2NC1NC(=O)C3=CC=CC=C3\n",
      "C1C=CNN=C(S2(=S)NCCC2C(=O)NCOC)CC=CC=C1\n",
      "CC=1CC=CC=C[NH1]C=CCC=1CC=NOC=C\n",
      "O=C1N2C(=O)COC2C3C1CSC(CC=CC=CC4=CC=C[NH1]C5=CC5=C=C4C3)OCCN\n",
      "CC(C1)CC(=O)OCC(N2C(=S)CC=N2)N=C1\n",
      "N#CC1=CNC=C1C=NCC2=CN=C(O)N2\n",
      "COCCCCCNCCCCN1CCCCC1=CC(=O)OC2=CC=C(O)C=C2CC=CN\n",
      "C1OC2=CC=C(C(=O)NCCOC1C3=C4C=C5C=C3C)C=NC(C)ON6CCCN6C(O)CCC5C4C2\n",
      "C1C=C1C2C3C=C(F)C4=C2CC(O)C=CC=C(Cl)C=CC(OC)C=C43\n",
      "CC=NN=NCC=CC(Br)=CCCC=CCNC(=O)C1NC=CC(F)=C1F\n",
      "COC=C1C2=CCCCN(CC(C)C=CC3=CC(Cl)=CC=C3C4CC=C2)CC4=N1\n",
      "CC1(C)C(C2(F)CC=CC3=C(Cl)COC=C3C2CC1(O)NC4(C)NCCC4=C5C=CC=CS56CC=CC(Cl)=C6C(=O)C)CCC(C)CCNCCC\n",
      "CCNNC#CC(=O)CC=CCC=CC=CC=C1NNCC1C(C)OC(N2)=NC=CC=C2C\n",
      "CCCN=CC1(N)C(=O)NC2CN(C)CCCCC1C=C2\n",
      "CC(=O)NCC=NCC=CC=N\n",
      "CC=CCC(C1)OC=CC2=CC=CC=C2NNC=NCSC=CC=C3C=CCCC3C1=O\n",
      "CC(C)CS(=O)(=O)C=CC1=CC=CC=C1C(=O)NC2=CC=C(F)C=C2\n",
      "O=CC(C1=C)C=CC=C1Cl\n",
      "CC1=CC=C2C=C1CC2(C)COCC=CC(=O)OC\n",
      "C1CCCC(N1C(C)CCC=CC=CCNC=C(C=CC(OC2C)=O)C=CC3=CC=CC)=C3C=C2O\n",
      "C1C(C)CCN(CCC2C=3CCCCNN=C(NC(C)F)C=3Cl)C4=C2N=C(Cl)C=C4N1CC=O\n",
      "C1CCCCC(C(=O)C=CC=C(CNCCN(C)C=O)CC2C=O)NOCCCCNC(OCC=CC=N)C21\n",
      "CCCCCC(CC(CC(=O)C=CCCCCCC(N1)C)(O)C=C(C#N)C=CC(C)F)=C1\n",
      "COCC1=CC=C1CC=N[Se]C(C2=CC=CC=NOC3=CC4(C)C=CC=C4N3C=N2)CCC=O\n",
      "CC12OC(=S)N(C)CC=CC(OC3=CC=CC=C3C1)=C2\n",
      "C=NCC=CC1=CC(=O)NC=CC2=CC=C1C=N2\n",
      "CC=CC(C(=O)NCN=SC1=CC=CC2=[N+1]1[O-1])CCCC3CCCC32C\n",
      "C12OC=CC3=NC4(C=CC(C=CC=CCN(CC5CC5)NC6(C=NC=CC=C4)NC)=N6)C=C1OC=C2CC=C3N\n",
      "CC(C)CCC=CC=NC(NC(=O)C=CC=CC(O)=CNCOC(=O)C1CNCCN1CNCCCC=C(CCC)N=O)CC=CC=C2C=CC(F)C=C2C\n",
      "CC=NC=CC(C1NC2=NCCC=CC=C1)=CC#CNC3=CC=CC=C3N2\n",
      "N=CCNCCCCC=NC1CC=CC=CN=CC2[NH1][NH1]C=CC2=C1C(=O)NCC\n",
      "C1C(C(N)C(=O)[NH1]C=C1CC=C)C2C=CC=C(C)N2CC=O\n"
     ]
    }
   ],
   "source": [
    "smiles = model.generateSmiles(batch_size=100, vocab=VOCAB)\n",
    "\n",
    "for e in smiles:\n",
    "    smile = \"\".join(e)\n",
    "    print(sf.decoder(smile))\n",
    "    "
   ]
  },
  {
   "cell_type": "code",
   "execution_count": null,
   "metadata": {},
   "outputs": [],
   "source": []
  }
 ],
 "metadata": {
  "kernelspec": {
   "display_name": "Python 3 (ipykernel)",
   "language": "python",
   "name": "python3"
  }
 },
 "nbformat": 4,
 "nbformat_minor": 2
}
