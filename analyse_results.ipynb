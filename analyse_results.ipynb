{
 "cells": [
  {
   "cell_type": "code",
   "execution_count": 14,
   "metadata": {},
   "outputs": [],
   "source": [
    "import os\n",
    "import json\n",
    "import matplotlib.pyplot as plt"
   ]
  },
  {
   "cell_type": "markdown",
   "metadata": {},
   "source": [
    "# saving details"
   ]
  },
  {
   "cell_type": "code",
   "execution_count": 92,
   "metadata": {},
   "outputs": [],
   "source": [
    "def removeNone(arr):\n",
    "    return [a for a in arr if a is not None]"
   ]
  },
  {
   "cell_type": "code",
   "execution_count": 169,
   "metadata": {},
   "outputs": [
    {
     "name": "stdout",
     "output_type": "stream",
     "text": [
      "50 ['undocked_final_lig.pdbqt', 'state', 'docked_final_lig.pdbqt', 'details.txt']\n",
      "8 ['undocked_final_lig.pdbqt', 'state', 'docked_final_lig.pdbqt', 'details.txt']\n",
      "36 ['undocked_final_lig.pdbqt', 'state', 'docked_final_lig.pdbqt', 'details.txt']\n",
      "70 ['undocked_final_lig.pdbqt', 'state', 'details.txt']\n",
      "6 ['undocked_final_lig.pdbqt', 'state', 'docked_final_lig.pdbqt', 'details.txt']\n",
      "35 ['undocked_final_lig.pdbqt', 'state', 'docked_final_lig.pdbqt', 'details.txt']\n",
      "98 ['undocked_final_lig.pdbqt', 'state', 'docked_final_lig.pdbqt', 'details.txt']\n",
      "43 ['undocked_final_lig.pdbqt', 'state', 'docked_final_lig.pdbqt', 'details.txt']\n",
      "28 ['undocked_final_lig.pdbqt', 'state', 'details.txt']\n",
      "34 ['undocked_final_lig.pdbqt', 'state', 'docked_final_lig.pdbqt', 'details.txt']\n",
      "1 ['undocked_final_lig.pdbqt', 'state', 'docked_final_lig.pdbqt', 'details.txt']\n",
      "76 ['undocked_final_lig.pdbqt', 'state', 'details.txt']\n",
      "49 ['undocked_final_lig.pdbqt', 'state', 'docked_final_lig.pdbqt', 'details.txt']\n",
      "85 ['undocked_final_lig.pdbqt', 'state', 'details.txt']\n",
      "7 []\n",
      "27 ['undocked_final_lig.pdbqt', 'state', 'docked_final_lig.pdbqt', 'details.txt']\n",
      "54 ['undocked_final_lig.pdbqt', 'state', 'docked_final_lig.pdbqt', 'details.txt']\n",
      "81 ['undocked_final_lig.pdbqt', 'state', 'docked_final_lig.pdbqt', 'details.txt']\n",
      "94 ['undocked_final_lig.pdbqt', 'state', 'docked_final_lig.pdbqt', 'details.txt']\n",
      "59 ['undocked_final_lig.pdbqt', 'state', 'details.txt']\n",
      "48 ['undocked_final_lig.pdbqt', 'state', 'docked_final_lig.pdbqt', 'details.txt']\n",
      "89 ['undocked_final_lig.pdbqt', 'state', 'docked_final_lig.pdbqt', 'details.txt']\n",
      "96 ['undocked_final_lig.pdbqt', 'state', 'docked_final_lig.pdbqt', 'details.txt']\n",
      "0 ['undocked_final_lig.pdbqt', 'state', 'docked_final_lig.pdbqt', 'details.txt']\n",
      "55 ['undocked_final_lig.pdbqt', 'state', 'details.txt']\n",
      "15 ['undocked_final_lig.pdbqt', 'state', 'docked_final_lig.pdbqt', 'details.txt']\n",
      "52 ['undocked_final_lig.pdbqt', 'state', 'details.txt']\n",
      "4 ['undocked_final_lig.pdbqt', 'state', 'details.txt']\n",
      "58 ['undocked_final_lig.pdbqt', 'state', 'details.txt']\n",
      "42 ['undocked_final_lig.pdbqt', 'state', 'details.txt']\n",
      "23 ['undocked_final_lig.pdbqt', 'state', 'docked_final_lig.pdbqt', 'details.txt']\n",
      "87 ['undocked_final_lig.pdbqt', 'state', 'docked_final_lig.pdbqt', 'details.txt']\n",
      "80 ['undocked_final_lig.pdbqt', 'state', 'docked_final_lig.pdbqt', 'details.txt']\n",
      "71 ['undocked_final_lig.pdbqt', 'state', 'docked_final_lig.pdbqt', 'details.txt']\n",
      "21 ['undocked_final_lig.pdbqt', 'state', 'docked_final_lig.pdbqt', 'details.txt']\n",
      "39 ['undocked_final_lig.pdbqt', 'state', 'docked_final_lig.pdbqt', 'details.txt']\n",
      "13 ['undocked_final_lig.pdbqt', 'state', 'docked_final_lig.pdbqt', 'details.txt']\n",
      "69 ['undocked_final_lig.pdbqt', 'state', 'docked_final_lig.pdbqt', 'details.txt']\n",
      "79 ['undocked_final_lig.pdbqt', 'state', 'docked_final_lig.pdbqt', 'details.txt']\n",
      "83 ['undocked_final_lig.pdbqt', 'state', 'docked_final_lig.pdbqt', 'details.txt']\n",
      "78 ['undocked_final_lig.pdbqt', 'state', 'docked_final_lig.pdbqt', 'details.txt']\n",
      "56 ['undocked_final_lig.pdbqt', 'state', 'docked_final_lig.pdbqt', 'details.txt']\n",
      "18 ['undocked_final_lig.pdbqt', 'state', 'docked_final_lig.pdbqt', 'details.txt']\n",
      "91 ['undocked_final_lig.pdbqt', 'state', 'details.txt']\n",
      "72 ['undocked_final_lig.pdbqt', 'state', 'docked_final_lig.pdbqt', 'details.txt']\n",
      "2 ['undocked_final_lig.pdbqt', 'state', 'docked_final_lig.pdbqt', 'details.txt']\n",
      "29 ['undocked_final_lig.pdbqt', 'state', 'docked_final_lig.pdbqt', 'details.txt']\n",
      "12 []\n",
      "31 ['undocked_final_lig.pdbqt', 'state', 'docked_final_lig.pdbqt', 'details.txt']\n",
      "60 ['undocked_final_lig.pdbqt', 'state', 'docked_final_lig.pdbqt', 'details.txt']\n",
      "41 []\n",
      "77 ['undocked_final_lig.pdbqt', 'state', 'docked_final_lig.pdbqt', 'details.txt']\n",
      "16 ['undocked_final_lig.pdbqt', 'state', 'details.txt']\n",
      "51 ['undocked_final_lig.pdbqt', 'state', 'docked_final_lig.pdbqt', 'details.txt']\n",
      "44 ['undocked_final_lig.pdbqt', 'state', 'docked_final_lig.pdbqt', 'details.txt']\n",
      "61 ['undocked_final_lig.pdbqt', 'state', 'docked_final_lig.pdbqt', 'details.txt']\n",
      "62 ['undocked_final_lig.pdbqt', 'state', 'docked_final_lig.pdbqt', 'details.txt']\n",
      "64 ['undocked_final_lig.pdbqt', 'state', 'docked_final_lig.pdbqt', 'details.txt']\n",
      "14 ['undocked_final_lig.pdbqt', 'state', 'docked_final_lig.pdbqt', 'details.txt']\n",
      "82 ['undocked_final_lig.pdbqt', 'state', 'docked_final_lig.pdbqt', 'details.txt']\n",
      "32 ['undocked_final_lig.pdbqt', 'state', 'details.txt']\n",
      "92 ['undocked_final_lig.pdbqt', 'state', 'docked_final_lig.pdbqt', 'details.txt']\n",
      "63 ['undocked_final_lig.pdbqt', 'state', 'docked_final_lig.pdbqt', 'details.txt']\n",
      "38 ['undocked_final_lig.pdbqt', 'state', 'docked_final_lig.pdbqt', 'details.txt']\n",
      "25 ['undocked_final_lig.pdbqt', 'state', 'docked_final_lig.pdbqt', 'details.txt']\n",
      "22 ['undocked_final_lig.pdbqt', 'state', 'docked_final_lig.pdbqt', 'details.txt']\n",
      "47 ['undocked_final_lig.pdbqt', 'state', 'docked_final_lig.pdbqt', 'details.txt']\n",
      "74 ['undocked_final_lig.pdbqt', 'state', 'docked_final_lig.pdbqt', 'details.txt']\n",
      "5 ['undocked_final_lig.pdbqt', 'state', 'docked_final_lig.pdbqt', 'details.txt']\n",
      "17 ['undocked_final_lig.pdbqt', 'state', 'docked_final_lig.pdbqt', 'details.txt']\n",
      "84 ['undocked_final_lig.pdbqt', 'state', 'details.txt']\n",
      "67 ['undocked_final_lig.pdbqt', 'state', 'docked_final_lig.pdbqt', 'details.txt']\n",
      "75 ['undocked_final_lig.pdbqt', 'state', 'docked_final_lig.pdbqt', 'details.txt']\n",
      "45 ['undocked_final_lig.pdbqt', 'state', 'docked_final_lig.pdbqt', 'details.txt']\n",
      "24 ['undocked_final_lig.pdbqt', 'state', 'docked_final_lig.pdbqt', 'details.txt']\n",
      "68 ['undocked_final_lig.pdbqt', 'state', 'docked_final_lig.pdbqt', 'details.txt']\n",
      "37 ['undocked_final_lig.pdbqt', 'state', 'docked_final_lig.pdbqt', 'details.txt']\n",
      "26 ['undocked_final_lig.pdbqt', 'state', 'details.txt']\n",
      "97 ['undocked_final_lig.pdbqt', 'state', 'docked_final_lig.pdbqt', 'details.txt']\n",
      "65 ['undocked_final_lig.pdbqt', 'state', 'details.txt']\n",
      "86 ['undocked_final_lig.pdbqt', 'state', 'docked_final_lig.pdbqt', 'details.txt']\n",
      "88 ['undocked_final_lig.pdbqt', 'state', 'docked_final_lig.pdbqt', 'details.txt']\n",
      "66 ['undocked_final_lig.pdbqt', 'state', 'docked_final_lig.pdbqt', 'details.txt']\n",
      "10 ['undocked_final_lig.pdbqt', 'state', 'details.txt']\n",
      "19 ['undocked_final_lig.pdbqt', 'state', 'details.txt']\n",
      "93 ['undocked_final_lig.pdbqt', 'state', 'details.txt']\n",
      "90 ['undocked_final_lig.pdbqt', 'state', 'docked_final_lig.pdbqt', 'details.txt']\n",
      "20 ['undocked_final_lig.pdbqt', 'state', 'docked_final_lig.pdbqt', 'details.txt']\n",
      "46 ['undocked_final_lig.pdbqt', 'state', 'docked_final_lig.pdbqt', 'details.txt']\n",
      "95 ['undocked_final_lig.pdbqt', 'state', 'details.txt']\n",
      "11 ['undocked_final_lig.pdbqt', 'state', 'details.txt']\n",
      "73 ['undocked_final_lig.pdbqt', 'state', 'docked_final_lig.pdbqt', 'details.txt']\n",
      "30 ['undocked_final_lig.pdbqt', 'state', 'details.txt']\n",
      "3 ['undocked_final_lig.pdbqt', 'state', 'docked_final_lig.pdbqt', 'details.txt']\n",
      "40 ['undocked_final_lig.pdbqt', 'state', 'docked_final_lig.pdbqt', 'details.txt']\n",
      "33 ['undocked_final_lig.pdbqt', 'state', 'docked_final_lig.pdbqt', 'details.txt']\n",
      "99 []\n",
      "57 ['undocked_final_lig.pdbqt', 'state', 'docked_final_lig.pdbqt', 'details.txt']\n",
      "9 ['undocked_final_lig.pdbqt', 'state', 'details.txt']\n",
      "53 ['undocked_final_lig.pdbqt', 'state', 'docked_final_lig.pdbqt', 'details.txt']\n"
     ]
    }
   ],
   "source": [
    "result_dir = os.path.join('results', 'ligbuilder_100', '2v5z')\n",
    "\n",
    "ligs_dir = os.listdir(result_dir)\n",
    "\n",
    "for l in ligs_dir:\n",
    "    print(l, os.listdir(os.path.join(result_dir, l)))\n",
    "\n",
    "# reading sa-scores and docking-scores\n",
    "lig_name = []\n",
    "sa_scores = []\n",
    "docked_scores = []\n",
    "undocked_score = []\n",
    "\n",
    "for l in ligs_dir:\n",
    "    if os.path.exists(os.path.join(result_dir, l, 'details.txt')):\n",
    "        with open(os.path.join(result_dir, l, 'details.txt')) as f:\n",
    "            data = json.load(f)\n",
    "            lig_name.append(l)\n",
    "            sa_scores.append(data['synthesizability_score'])\n",
    "            undocked_score.append(data['undocked_final_energy'])\n",
    "            if 'docked_final_energy' in data:\n",
    "                docked_scores.append(data['docked_final_energy'])\n",
    "            else:\n",
    "                docked_scores.append(None)\n",
    "\n"
   ]
  },
  {
   "cell_type": "code",
   "execution_count": 170,
   "metadata": {},
   "outputs": [
    {
     "data": {
      "image/png": "[encoded data removed]",
      "text/plain": [
       "<Figure size 640x480 with 1 Axes>"
      ]
     },
     "metadata": {},
     "output_type": "display_data"
    }
   ],
   "source": [
    "plt.hist(x=undocked_score, bins=10)\n",
    "plt.xlabel('Energy')\n",
    "plt.ylabel('Count')\n",
    "plt.title('Energy before docking')\n",
    "plt.show()"
   ]
  },
  {
   "cell_type": "code",
   "execution_count": 171,
   "metadata": {},
   "outputs": [
    {
     "data": {
      "image/png": "[encoded data removed]",
      "text/plain": [
       "<Figure size 640x480 with 1 Axes>"
      ]
     },
     "metadata": {},
     "output_type": "display_data"
    }
   ],
   "source": [
    "plt.hist(x=removeNone(docked_scores), bins=30)\n",
    "plt.xlabel('Energy')\n",
    "plt.ylabel('Count')\n",
    "plt.title('Energy after docking')\n",
    "plt.show()"
   ]
  },
  {
   "cell_type": "code",
   "execution_count": 149,
   "metadata": {},
   "outputs": [
    {
     "data": {
      "image/png": "[encoded data removed]",
      "text/plain": [
       "<Figure size 640x480 with 1 Axes>"
      ]
     },
     "metadata": {},
     "output_type": "display_data"
    }
   ],
   "source": [
    "plt.hist(x=sa_scores, bins=10)\n",
    "plt.xlabel('SA-score')\n",
    "plt.ylabel('Count')\n",
    "plt.title('Synthesizability Score')\n",
    "plt.show()"
   ]
  },
  {
   "cell_type": "code",
   "execution_count": 141,
   "metadata": {},
   "outputs": [],
   "source": [
    "# saving scores\n",
    "\n",
    "with open(os.path.join('results', 'ligbuilder', '2v5z_scores.txt'), 'w') as f:\n",
    "    for i in range(len(lig_name)):\n",
    "        f.write(f'{lig_name[i]}:{docked_scores[i]}:{sa_scores[i]}\\n')\n"
   ]
  },
  {
   "cell_type": "markdown",
   "metadata": {},
   "source": []
  },
  {
   "cell_type": "code",
   "execution_count": 172,
   "metadata": {},
   "outputs": [
    {
     "name": "stdout",
     "output_type": "stream",
     "text": [
      "73 23\n"
     ]
    }
   ],
   "source": [
    "base_dir = 'results/ligbuilder_100/2v5z/'\n",
    "undocked = 0\n",
    "docked = 0\n",
    "for dir in os.listdir(base_dir):\n",
    "     x = len(os.listdir(os.path.join(base_dir, dir)))\n",
    "     if x == 3: undocked += 1\n",
    "     if x == 4: docked += 1\n",
    "\n",
    "\n",
    "\n",
    "print(docked, undocked)"
   ]
  },
  {
   "cell_type": "code",
   "execution_count": 173,
   "metadata": {},
   "outputs": [
    {
     "data": {
      "text/plain": [
       "96"
      ]
     },
     "execution_count": 173,
     "metadata": {},
     "output_type": "execute_result"
    }
   ],
   "source": [
    "73 + 23"
   ]
  },
  {
   "cell_type": "code",
   "execution_count": null,
   "metadata": {},
   "outputs": [],
   "source": []
  }
 ],
 "metadata": {
  "kernelspec": {
   "display_name": "base",
   "language": "python",
   "name": "python3"
  },
  "language_info": {
   "codemirror_mode": {
    "name": "ipython",
    "version": 3
   },
   "file_extension": ".py",
   "mimetype": "text/x-python",
   "name": "python",
   "nbconvert_exporter": "python",
   "pygments_lexer": "ipython3",
   "version": "3.9.18"
  }
 },
 "nbformat": 4,
 "nbformat_minor": 2
}
